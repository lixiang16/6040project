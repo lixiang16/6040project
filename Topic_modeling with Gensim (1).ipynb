{
 "cells": [
  {
   "cell_type": "code",
   "execution_count": 1,
   "metadata": {},
   "outputs": [],
   "source": [
    "import re\n",
    "import numpy as np\n",
    "import pandas as pd\n",
    "from pprint import pprint\n",
    "\n",
    "# Gensim\n",
    "import gensim\n",
    "import gensim.corpora as corpora\n",
    "from gensim.utils import simple_preprocess\n",
    "from gensim.models import CoherenceModel\n",
    "\n",
    "# spacy for lemmatization\n",
    "import spacy\n",
    "\n",
    "# Plotting tools\n",
    "import pyLDAvis\n",
    "import pyLDAvis.gensim  # don't skip this\n",
    "import matplotlib.pyplot as plt\n",
    "%matplotlib inline\n",
    "\n",
    "# Enable logging for gensim - optional\n",
    "import logging\n",
    "logging.basicConfig(format='%(asctime)s : %(levelname)s : %(message)s', level=logging.ERROR)\n",
    "\n",
    "import warnings\n",
    "warnings.filterwarnings(\"ignore\",category=DeprecationWarning)\n",
    "import en_core_web_sm\n",
    "\n",
    "nlp = en_core_web_sm.load(disable=['parser', 'ner'])"
   ]
  },
  {
   "cell_type": "code",
   "execution_count": 2,
   "metadata": {},
   "outputs": [],
   "source": [
    "# NLTK Stop words\n",
    "from nltk.corpus import stopwords\n",
    "stop_words = stopwords.words('english')\n",
    "stop_words.extend(['from', 'subject', 're', 'edu', 'use'])\n"
   ]
  },
  {
   "cell_type": "code",
   "execution_count": 3,
   "metadata": {},
   "outputs": [
    {
     "name": "stdout",
     "output_type": "stream",
     "text": [
      "array(['rec.autos', 'comp.sys.mac.hardware', 'comp.graphics', 'sci.space',\n",
      "       'talk.politics.guns', 'sci.med', 'comp.sys.ibm.pc.hardware',\n",
      "       'comp.os.ms-windows.misc', 'rec.motorcycles', 'talk.religion.misc',\n",
      "       'misc.forsale', 'alt.atheism', 'sci.electronics', 'comp.windows.x',\n",
      "       'rec.sport.hockey', 'rec.sport.baseball', 'soc.religion.christian',\n",
      "       'talk.politics.mideast', 'talk.politics.misc', 'sci.crypt'],\n",
      "      dtype=object)\n"
     ]
    },
    {
     "data": {
      "text/html": [
       "<div>\n",
       "<style scoped>\n",
       "    .dataframe tbody tr th:only-of-type {\n",
       "        vertical-align: middle;\n",
       "    }\n",
       "\n",
       "    .dataframe tbody tr th {\n",
       "        vertical-align: top;\n",
       "    }\n",
       "\n",
       "    .dataframe thead th {\n",
       "        text-align: right;\n",
       "    }\n",
       "</style>\n",
       "<table border=\"1\" class=\"dataframe\">\n",
       "  <thead>\n",
       "    <tr style=\"text-align: right;\">\n",
       "      <th></th>\n",
       "      <th>content</th>\n",
       "      <th>target</th>\n",
       "      <th>target_names</th>\n",
       "    </tr>\n",
       "  </thead>\n",
       "  <tbody>\n",
       "    <tr>\n",
       "      <td>0</td>\n",
       "      <td>From: lerxst@wam.umd.edu (where's my thing)\\nS...</td>\n",
       "      <td>7</td>\n",
       "      <td>rec.autos</td>\n",
       "    </tr>\n",
       "    <tr>\n",
       "      <td>1</td>\n",
       "      <td>From: guykuo@carson.u.washington.edu (Guy Kuo)...</td>\n",
       "      <td>4</td>\n",
       "      <td>comp.sys.mac.hardware</td>\n",
       "    </tr>\n",
       "    <tr>\n",
       "      <td>2</td>\n",
       "      <td>From: twillis@ec.ecn.purdue.edu (Thomas E Will...</td>\n",
       "      <td>4</td>\n",
       "      <td>comp.sys.mac.hardware</td>\n",
       "    </tr>\n",
       "    <tr>\n",
       "      <td>3</td>\n",
       "      <td>From: jgreen@amber (Joe Green)\\nSubject: Re: W...</td>\n",
       "      <td>1</td>\n",
       "      <td>comp.graphics</td>\n",
       "    </tr>\n",
       "    <tr>\n",
       "      <td>4</td>\n",
       "      <td>From: jcm@head-cfa.harvard.edu (Jonathan McDow...</td>\n",
       "      <td>14</td>\n",
       "      <td>sci.space</td>\n",
       "    </tr>\n",
       "  </tbody>\n",
       "</table>\n",
       "</div>"
      ],
      "text/plain": [
       "                                             content  target  \\\n",
       "0  From: lerxst@wam.umd.edu (where's my thing)\\nS...       7   \n",
       "1  From: guykuo@carson.u.washington.edu (Guy Kuo)...       4   \n",
       "2  From: twillis@ec.ecn.purdue.edu (Thomas E Will...       4   \n",
       "3  From: jgreen@amber (Joe Green)\\nSubject: Re: W...       1   \n",
       "4  From: jcm@head-cfa.harvard.edu (Jonathan McDow...      14   \n",
       "\n",
       "            target_names  \n",
       "0              rec.autos  \n",
       "1  comp.sys.mac.hardware  \n",
       "2  comp.sys.mac.hardware  \n",
       "3          comp.graphics  \n",
       "4              sci.space  "
      ]
     },
     "execution_count": 3,
     "metadata": {},
     "output_type": "execute_result"
    }
   ],
   "source": [
    "# Import Dataset\n",
    "df = pd.read_json('https://raw.githubusercontent.com/selva86/datasets/master/newsgroups.json')\n",
    "pprint(df.target_names.unique())\n",
    "df.head()"
   ]
  },
  {
   "cell_type": "code",
   "execution_count": 4,
   "metadata": {},
   "outputs": [
    {
     "name": "stdout",
     "output_type": "stream",
     "text": [
      "['From: (wheres my thing) Subject: WHAT car is this!? Nntp-Posting-Host: '\n",
      " 'rac3.wam.umd.edu Organization: University of Maryland, College Park Lines: '\n",
      " '15 I was wondering if anyone out there could enlighten me on this car I saw '\n",
      " 'the other day. It was a 2-door sports car, looked to be from the late 60s/ '\n",
      " 'early 70s. It was called a Bricklin. The doors were really small. In '\n",
      " 'addition, the front bumper was separate from the rest of the body. This is '\n",
      " 'all I know. If anyone can tellme a model name, engine specs, years of '\n",
      " 'production, where this car is made, history, or whatever info you have on '\n",
      " 'this funky looking car, please e-mail. Thanks, - IL ---- brought to you by '\n",
      " 'your neighborhood Lerxst ---- ']\n"
     ]
    }
   ],
   "source": [
    "# Convert to list\n",
    "data = df.content.values.tolist()\n",
    "\n",
    "# Remove Emails\n",
    "data = [re.sub('\\S*@\\S*\\s?', '', sent) for sent in data]\n",
    "\n",
    "# Remove new line characters\n",
    "data = [re.sub('\\s+', ' ', sent) for sent in data]\n",
    "\n",
    "# Remove distracting single quotes\n",
    "data = [re.sub(\"\\'\", \"\", sent) for sent in data]\n",
    "\n",
    "pprint(data[:1])"
   ]
  },
  {
   "cell_type": "code",
   "execution_count": 5,
   "metadata": {},
   "outputs": [
    {
     "name": "stdout",
     "output_type": "stream",
     "text": [
      "[['from', 'wheres', 'my', 'thing', 'subject', 'what', 'car', 'is', 'this', 'nntp', 'posting', 'host', 'rac', 'wam', 'umd', 'edu', 'organization', 'university', 'of', 'maryland', 'college', 'park', 'lines', 'was', 'wondering', 'if', 'anyone', 'out', 'there', 'could', 'enlighten', 'me', 'on', 'this', 'car', 'saw', 'the', 'other', 'day', 'it', 'was', 'door', 'sports', 'car', 'looked', 'to', 'be', 'from', 'the', 'late', 'early', 'it', 'was', 'called', 'bricklin', 'the', 'doors', 'were', 'really', 'small', 'in', 'addition', 'the', 'front', 'bumper', 'was', 'separate', 'from', 'the', 'rest', 'of', 'the', 'body', 'this', 'is', 'all', 'know', 'if', 'anyone', 'can', 'tellme', 'model', 'name', 'engine', 'specs', 'years', 'of', 'production', 'where', 'this', 'car', 'is', 'made', 'history', 'or', 'whatever', 'info', 'you', 'have', 'on', 'this', 'funky', 'looking', 'car', 'please', 'mail', 'thanks', 'il', 'brought', 'to', 'you', 'by', 'your', 'neighborhood', 'lerxst']]\n"
     ]
    }
   ],
   "source": [
    "def sent_to_words(sentences):\n",
    "    for sentence in sentences:\n",
    "        yield(gensim.utils.simple_preprocess(str(sentence), deacc=True))  # deacc=True removes punctuations\n",
    "\n",
    "data_words = list(sent_to_words(data))\n",
    "\n",
    "pprint(data_words[:1])"
   ]
  },
  {
   "cell_type": "code",
   "execution_count": 6,
   "metadata": {},
   "outputs": [
    {
     "name": "stdout",
     "output_type": "stream",
     "text": [
      "['from', 'wheres', 'my', 'thing', 'subject', 'what', 'car', 'is', 'this', 'nntp_posting_host', 'rac_wam_umd_edu', 'organization', 'university', 'of', 'maryland_college_park', 'lines', 'was', 'wondering', 'if', 'anyone', 'out', 'there', 'could', 'enlighten', 'me', 'on', 'this', 'car', 'saw', 'the', 'other', 'day', 'it', 'was', 'door', 'sports', 'car', 'looked', 'to', 'be', 'from', 'the', 'late', 'early', 'it', 'was', 'called', 'bricklin', 'the', 'doors', 'were', 'really', 'small', 'in', 'addition', 'the', 'front_bumper', 'was', 'separate', 'from', 'the', 'rest', 'of', 'the', 'body', 'this', 'is', 'all', 'know', 'if', 'anyone', 'can', 'tellme', 'model', 'name', 'engine', 'specs', 'years', 'of', 'production', 'where', 'this', 'car', 'is', 'made', 'history', 'or', 'whatever', 'info', 'you', 'have', 'on', 'this', 'funky', 'looking', 'car', 'please', 'mail', 'thanks', 'il', 'brought', 'to', 'you', 'by', 'your', 'neighborhood', 'lerxst']\n"
     ]
    }
   ],
   "source": [
    "# Build the bigram and trigram models\n",
    "bigram = gensim.models.Phrases(data_words, min_count=5, threshold=100) # higher threshold fewer phrases.\n",
    "trigram = gensim.models.Phrases(bigram[data_words], threshold=100)  \n",
    "\n",
    "# Faster way to get a sentence clubbed as a trigram/bigram\n",
    "bigram_mod = gensim.models.phrases.Phraser(bigram)\n",
    "trigram_mod = gensim.models.phrases.Phraser(trigram)\n",
    "\n",
    "# See trigram example\n",
    "pprint(trigram_mod[bigram_mod[data_words[0]]])"
   ]
  },
  {
   "cell_type": "code",
   "execution_count": 7,
   "metadata": {},
   "outputs": [],
   "source": [
    "# Define functions for stopwords, bigrams, trigrams and lemmatization\n",
    "def remove_stopwords(texts):\n",
    "    return [[word for word in simple_preprocess(str(doc)) if word not in stop_words] for doc in texts]\n",
    "\n",
    "def make_bigrams(texts):\n",
    "    return [bigram_mod[doc] for doc in texts]\n",
    "\n",
    "def make_trigrams(texts):\n",
    "    return [trigram_mod[bigram_mod[doc]] for doc in texts]\n",
    "\n",
    "def lemmatization(texts, allowed_postags=['NOUN', 'ADJ', 'VERB', 'ADV']):\n",
    "    \"\"\"https://spacy.io/api/annotation\"\"\"\n",
    "    texts_out = []\n",
    "    for sent in texts:\n",
    "        doc = nlp(\" \".join(sent)) \n",
    "        texts_out.append([token.lemma_ for token in doc if token.pos_ in allowed_postags])\n",
    "    return texts_out"
   ]
  },
  {
   "cell_type": "code",
   "execution_count": 8,
   "metadata": {},
   "outputs": [
    {
     "name": "stdout",
     "output_type": "stream",
     "text": [
      "[['where', 'thing', 'car', 'nntp_poste', 'host', 'park', 'line', 'wonder', 'could', 'enlighten', 'car', 'see', 'day', 'door', 'sport', 'car', 'look', 'late', 'early', 'call', 'bricklin', 'door', 'really', 'small', 'addition', 'separate', 'rest', 'body', 'know', 'tellme', 'model', 'name', 'engine', 'year', 'production', 'car', 'make', 'history', 'info', 'funky', 'look', 'car', 'mail', 'thank', 'bring', 'neighborhood', 'lerxst']]\n"
     ]
    }
   ],
   "source": [
    "# Remove Stop Words\n",
    "data_words_nostops = remove_stopwords(data_words)\n",
    "\n",
    "# Form Bigrams\n",
    "data_words_bigrams = make_bigrams(data_words_nostops)\n",
    "\n",
    "# Initialize spacy 'en' model, keeping only tagger component (for efficiency)\n",
    "# python3 -m spacy download en\n",
    "nlp = en_core_web_sm.load()\n",
    "\n",
    "# Do lemmatization keeping only noun, adj, vb, adv\n",
    "data_lemmatized = lemmatization(data_words_bigrams, allowed_postags=['NOUN', 'ADJ', 'VERB', 'ADV'])\n",
    "\n",
    "print(data_lemmatized[:1])"
   ]
  },
  {
   "cell_type": "code",
   "execution_count": 9,
   "metadata": {},
   "outputs": [
    {
     "name": "stdout",
     "output_type": "stream",
     "text": [
      "[[(0, 1), (1, 1), (2, 1), (3, 1), (4, 1), (5, 5), (6, 1), (7, 1), (8, 2), (9, 1), (10, 1), (11, 1), (12, 1), (13, 1), (14, 1), (15, 1), (16, 1), (17, 1), (18, 1), (19, 1), (20, 2), (21, 1), (22, 1), (23, 1), (24, 1), (25, 1), (26, 1), (27, 1), (28, 1), (29, 1), (30, 1), (31, 1), (32, 1), (33, 1), (34, 1), (35, 1), (36, 1), (37, 1), (38, 1), (39, 1), (40, 1)]]\n"
     ]
    }
   ],
   "source": [
    "\n",
    "id2word = corpora.Dictionary(data_lemmatized)\n",
    "\n",
    "# Create Corpus\n",
    "texts = data_lemmatized\n",
    "\n",
    "# Term Document Frequency\n",
    "corpus = [id2word.doc2bow(text) for text in texts]\n",
    "\n",
    "# View\n",
    "print(corpus[:1])"
   ]
  },
  {
   "cell_type": "code",
   "execution_count": 10,
   "metadata": {},
   "outputs": [
    {
     "data": {
      "text/plain": [
       "'addition'"
      ]
     },
     "execution_count": 10,
     "metadata": {},
     "output_type": "execute_result"
    }
   ],
   "source": [
    "id2word[0]#what is the word id  to the dictionray "
   ]
  },
  {
   "cell_type": "code",
   "execution_count": 11,
   "metadata": {},
   "outputs": [
    {
     "data": {
      "text/plain": [
       "[[('addition', 1),\n",
       "  ('body', 1),\n",
       "  ('bricklin', 1),\n",
       "  ('bring', 1),\n",
       "  ('call', 1),\n",
       "  ('car', 5),\n",
       "  ('could', 1),\n",
       "  ('day', 1),\n",
       "  ('door', 2),\n",
       "  ('early', 1),\n",
       "  ('engine', 1),\n",
       "  ('enlighten', 1),\n",
       "  ('funky', 1),\n",
       "  ('history', 1),\n",
       "  ('host', 1),\n",
       "  ('info', 1),\n",
       "  ('know', 1),\n",
       "  ('late', 1),\n",
       "  ('lerxst', 1),\n",
       "  ('line', 1),\n",
       "  ('look', 2),\n",
       "  ('mail', 1),\n",
       "  ('make', 1),\n",
       "  ('model', 1),\n",
       "  ('name', 1),\n",
       "  ('neighborhood', 1),\n",
       "  ('nntp_poste', 1),\n",
       "  ('park', 1),\n",
       "  ('production', 1),\n",
       "  ('really', 1),\n",
       "  ('rest', 1),\n",
       "  ('see', 1),\n",
       "  ('separate', 1),\n",
       "  ('small', 1),\n",
       "  ('sport', 1),\n",
       "  ('tellme', 1),\n",
       "  ('thank', 1),\n",
       "  ('thing', 1),\n",
       "  ('where', 1),\n",
       "  ('wonder', 1),\n",
       "  ('year', 1)],\n",
       " [('call', 2),\n",
       "  ('day', 2),\n",
       "  ('host', 1),\n",
       "  ('line', 1),\n",
       "  ('thank', 1),\n",
       "  ('acceleration', 1),\n",
       "  ('add', 2),\n",
       "  ('answer', 1),\n",
       "  ('attain', 1),\n",
       "  ('base', 1),\n",
       "  ('brave', 1),\n",
       "  ('brief', 1),\n",
       "  ('card', 1),\n",
       "  ('clock', 3),\n",
       "  ('cpu', 1),\n",
       "  ('detailing', 1),\n",
       "  ('do', 1),\n",
       "  ('especially', 1),\n",
       "  ('experience', 2),\n",
       "  ('fair', 1),\n",
       "  ('final', 2),\n",
       "  ('floppy', 1),\n",
       "  ('functionality', 1),\n",
       "  ('hour', 1),\n",
       "  ('keyword', 1),\n",
       "  ('knowledge', 1),\n",
       "  ('message', 1),\n",
       "  ('network', 1),\n",
       "  ('next', 1),\n",
       "  ('number', 1),\n",
       "  ('oscillator', 1),\n",
       "  ('poll', 3),\n",
       "  ('procedure', 1),\n",
       "  ('rate', 1),\n",
       "  ('report', 1),\n",
       "  ('request', 1),\n",
       "  ('send', 1),\n",
       "  ('share', 1),\n",
       "  ('soul', 1),\n",
       "  ('speed', 2),\n",
       "  ('summarize', 1),\n",
       "  ('summary', 1),\n",
       "  ('top', 1),\n",
       "  ('upgrade', 2),\n",
       "  ('usage', 1)]]"
      ]
     },
     "execution_count": 11,
     "metadata": {},
     "output_type": "execute_result"
    }
   ],
   "source": [
    "# Human readable format of corpus (term-frequency)\n",
    "[[(id2word[id], freq) for id, freq in cp] for cp in corpus[:2]]"
   ]
  },
  {
   "cell_type": "code",
   "execution_count": 12,
   "metadata": {},
   "outputs": [],
   "source": [
    "\n",
    "# Build LDA model\n",
    "lda_model = gensim.models.ldamodel.LdaModel(corpus=corpus,\n",
    "                                           id2word=id2word,\n",
    "                                           num_topics=20, \n",
    "                                           random_state=100,\n",
    "                                           update_every=1,\n",
    "                                           chunksize=100,\n",
    "                                           passes=10,\n",
    "                                           alpha='auto',\n",
    "                                           per_word_topics=True)"
   ]
  },
  {
   "cell_type": "code",
   "execution_count": 1,
   "metadata": {},
   "outputs": [
    {
     "ename": "NameError",
     "evalue": "name 'pprint' is not defined",
     "output_type": "error",
     "traceback": [
      "\u001b[1;31m---------------------------------------------------------------------------\u001b[0m",
      "\u001b[1;31mNameError\u001b[0m                                 Traceback (most recent call last)",
      "\u001b[1;32m<ipython-input-1-b921bab3e5ac>\u001b[0m in \u001b[0;36m<module>\u001b[1;34m\u001b[0m\n\u001b[0;32m      1\u001b[0m \u001b[1;31m# Print the Keyword in the 20 topics\u001b[0m\u001b[1;33m\u001b[0m\u001b[1;33m\u001b[0m\u001b[1;33m\u001b[0m\u001b[0m\n\u001b[1;32m----> 2\u001b[1;33m \u001b[0mpprint\u001b[0m\u001b[1;33m(\u001b[0m\u001b[0mlda_model\u001b[0m\u001b[1;33m.\u001b[0m\u001b[0mprint_topics\u001b[0m\u001b[1;33m(\u001b[0m\u001b[1;33m)\u001b[0m\u001b[1;33m)\u001b[0m\u001b[1;33m\u001b[0m\u001b[1;33m\u001b[0m\u001b[0m\n\u001b[0m\u001b[0;32m      3\u001b[0m \u001b[0mdoc_lda\u001b[0m \u001b[1;33m=\u001b[0m \u001b[0mlda_model\u001b[0m\u001b[1;33m[\u001b[0m\u001b[0mcorpus\u001b[0m\u001b[1;33m]\u001b[0m\u001b[1;33m\u001b[0m\u001b[1;33m\u001b[0m\u001b[0m\n",
      "\u001b[1;31mNameError\u001b[0m: name 'pprint' is not defined"
     ]
    }
   ],
   "source": [
    "# Print the Keyword in the 20 topics\n",
    "pprint(lda_model.print_topics())\n",
    "doc_lda = lda_model[corpus]"
   ]
  },
  {
   "cell_type": "code",
   "execution_count": 14,
   "metadata": {
    "scrolled": false
   },
   "outputs": [
    {
     "name": "stdout",
     "output_type": "stream",
     "text": [
      "\n",
      "Perplexity:  -12.920925242092153\n",
      "\n",
      "Coherence Score:  0.4349993277965744\n"
     ]
    }
   ],
   "source": [
    "# Compute Perplexity\n",
    "print('\\nPerplexity: ', lda_model.log_perplexity(corpus))  # a measure of how good the model is. lower the better.\n",
    "\n",
    "# Compute Coherence Score\n",
    "coherence_model_lda = CoherenceModel(model=lda_model, texts=data_lemmatized, dictionary=id2word, coherence='c_v')\n",
    "coherence_lda = coherence_model_lda.get_coherence()\n",
    "print('\\nCoherence Score: ', coherence_lda)"
   ]
  },
  {
   "cell_type": "code",
   "execution_count": 15,
   "metadata": {},
   "outputs": [
    {
     "name": "stderr",
     "output_type": "stream",
     "text": [
      "D:\\anaconda\\lib\\site-packages\\pyLDAvis\\_prepare.py:257: FutureWarning: Sorting because non-concatenation axis is not aligned. A future version\n",
      "of pandas will change to not sort by default.\n",
      "\n",
      "To accept the future behavior, pass 'sort=False'.\n",
      "\n",
      "To retain the current behavior and silence the warning, pass 'sort=True'.\n",
      "\n",
      "  return pd.concat([default_term_info] + list(topic_dfs))\n"
     ]
    },
    {
     "data": {
      "text/html": [
       "\n",
       "<link rel=\"stylesheet\" type=\"text/css\" href=\"https://cdn.rawgit.com/bmabey/pyLDAvis/files/ldavis.v1.0.0.css\">\n",
       "\n",
       "\n",
       "<div id=\"ldavis_el2424820920187242969898406840\"></div>\n",
       "<script type=\"text/javascript\">\n",
       "\n",
       "var ldavis_el2424820920187242969898406840_data = {\"mdsDat\": {\"x\": [0.3580631573497968, 0.3098035712969628, 0.33498363390081365, 0.1369001897025771, 0.1458421615555741, 0.07708444707423129, 0.05211277439287056, -0.02404287302217715, 0.014538149900515813, -0.0831725806306162, -0.0590505706619945, -0.09346745508089357, -0.14057498465167179, -0.11102429121149196, -0.13783739625576888, -0.12811387563974386, -0.14351705255170918, -0.14900164770918206, -0.16294476484297593, -0.19658059291511717], \"y\": [-0.053277441341346515, 0.08129472914625624, -0.1740342704133273, 0.31972521826767203, -0.2013870432447783, 0.2058021314918719, 0.004540552559426812, 0.01919085412315027, -0.10758901398501372, -0.019945027509144505, 0.11052126059818129, 0.01355058829728126, -0.023679566204536373, -0.009168130682901161, -0.027479715160615883, -0.030091382656452285, -0.025562844464627893, -0.022707808219178477, -0.027624712408758134, -0.03207837819315668], \"topics\": [1, 2, 3, 4, 5, 6, 7, 8, 9, 10, 11, 12, 13, 14, 15, 16, 17, 18, 19, 20], \"cluster\": [1, 1, 1, 1, 1, 1, 1, 1, 1, 1, 1, 1, 1, 1, 1, 1, 1, 1, 1, 1], \"Freq\": [35.99171447753906, 20.07845115661621, 15.99599552154541, 4.392693519592285, 4.19798469543457, 3.5281434059143066, 2.235058069229126, 2.172940731048584, 2.1144940853118896, 1.3225945234298706, 1.2436139583587646, 1.1970083713531494, 1.1209661960601807, 1.1080633401870728, 0.7756298780441284, 0.7322714924812317, 0.6843094825744629, 0.604032576084137, 0.41331982612609863, 0.09071694314479828]}, \"tinfo\": {\"Category\": [\"Default\", \"Default\", \"Default\", \"Default\", \"Default\", \"Default\", \"Default\", \"Default\", \"Default\", \"Default\", \"Default\", \"Default\", \"Default\", \"Default\", \"Default\", \"Default\", \"Default\", \"Default\", \"Default\", \"Default\", \"Default\", \"Default\", \"Default\", \"Default\", \"Default\", \"Default\", \"Default\", \"Default\", \"Default\", \"Default\", \"Topic1\", \"Topic1\", \"Topic1\", \"Topic1\", \"Topic1\", \"Topic1\", \"Topic1\", \"Topic1\", \"Topic1\", \"Topic1\", \"Topic1\", \"Topic1\", \"Topic1\", \"Topic1\", \"Topic1\", \"Topic1\", \"Topic1\", \"Topic1\", \"Topic1\", \"Topic1\", \"Topic1\", \"Topic1\", \"Topic1\", \"Topic1\", \"Topic1\", \"Topic1\", \"Topic1\", \"Topic1\", \"Topic1\", \"Topic1\", \"Topic1\", \"Topic1\", \"Topic1\", \"Topic1\", \"Topic1\", \"Topic1\", \"Topic1\", \"Topic1\", \"Topic1\", \"Topic1\", \"Topic1\", \"Topic1\", \"Topic1\", \"Topic1\", \"Topic1\", \"Topic1\", \"Topic1\", \"Topic1\", \"Topic1\", \"Topic1\", \"Topic1\", \"Topic1\", \"Topic1\", \"Topic1\", \"Topic2\", \"Topic2\", \"Topic2\", \"Topic2\", \"Topic2\", \"Topic2\", \"Topic2\", \"Topic2\", \"Topic2\", \"Topic2\", \"Topic2\", \"Topic2\", \"Topic2\", \"Topic2\", \"Topic2\", \"Topic2\", \"Topic2\", \"Topic2\", \"Topic2\", \"Topic2\", \"Topic2\", \"Topic2\", \"Topic2\", \"Topic2\", \"Topic2\", \"Topic2\", \"Topic2\", \"Topic2\", \"Topic2\", \"Topic2\", \"Topic2\", \"Topic2\", \"Topic2\", \"Topic2\", \"Topic2\", \"Topic2\", \"Topic2\", \"Topic2\", \"Topic2\", \"Topic2\", \"Topic2\", \"Topic2\", \"Topic2\", \"Topic2\", \"Topic2\", \"Topic2\", \"Topic2\", \"Topic2\", \"Topic2\", \"Topic2\", \"Topic2\", \"Topic2\", \"Topic2\", \"Topic2\", \"Topic2\", \"Topic2\", \"Topic2\", \"Topic2\", \"Topic2\", \"Topic2\", \"Topic2\", \"Topic2\", \"Topic3\", \"Topic3\", \"Topic3\", \"Topic3\", \"Topic3\", \"Topic3\", \"Topic3\", \"Topic3\", \"Topic3\", \"Topic3\", \"Topic3\", \"Topic3\", \"Topic3\", \"Topic3\", \"Topic3\", \"Topic3\", \"Topic3\", \"Topic3\", \"Topic3\", \"Topic3\", \"Topic3\", \"Topic3\", \"Topic3\", \"Topic3\", \"Topic3\", \"Topic3\", \"Topic3\", \"Topic3\", \"Topic3\", \"Topic3\", \"Topic3\", \"Topic3\", \"Topic3\", \"Topic3\", \"Topic3\", \"Topic3\", \"Topic3\", \"Topic3\", \"Topic3\", \"Topic3\", \"Topic3\", \"Topic3\", \"Topic3\", \"Topic3\", \"Topic3\", \"Topic3\", \"Topic3\", \"Topic3\", \"Topic3\", \"Topic3\", \"Topic3\", \"Topic3\", \"Topic3\", \"Topic3\", \"Topic4\", \"Topic4\", \"Topic4\", \"Topic4\", \"Topic4\", \"Topic4\", \"Topic4\", \"Topic4\", \"Topic4\", \"Topic4\", \"Topic4\", \"Topic4\", \"Topic4\", \"Topic4\", \"Topic4\", \"Topic4\", \"Topic4\", \"Topic4\", \"Topic4\", \"Topic4\", \"Topic4\", \"Topic4\", \"Topic4\", \"Topic4\", \"Topic4\", \"Topic4\", \"Topic4\", \"Topic4\", \"Topic4\", \"Topic4\", \"Topic4\", \"Topic4\", \"Topic4\", \"Topic4\", \"Topic4\", \"Topic4\", \"Topic4\", \"Topic4\", \"Topic4\", \"Topic4\", \"Topic4\", \"Topic4\", \"Topic4\", \"Topic4\", \"Topic4\", \"Topic4\", \"Topic5\", \"Topic5\", \"Topic5\", \"Topic5\", \"Topic5\", \"Topic5\", \"Topic5\", \"Topic5\", \"Topic5\", \"Topic5\", \"Topic5\", \"Topic5\", \"Topic5\", \"Topic5\", \"Topic5\", \"Topic5\", \"Topic5\", \"Topic5\", \"Topic5\", \"Topic5\", \"Topic5\", \"Topic5\", \"Topic5\", \"Topic5\", \"Topic5\", \"Topic5\", \"Topic5\", \"Topic5\", \"Topic5\", \"Topic5\", \"Topic5\", \"Topic5\", \"Topic5\", \"Topic5\", \"Topic5\", \"Topic5\", \"Topic5\", \"Topic5\", \"Topic5\", \"Topic5\", \"Topic5\", \"Topic5\", \"Topic5\", \"Topic5\", \"Topic5\", \"Topic6\", \"Topic6\", \"Topic6\", \"Topic6\", \"Topic6\", \"Topic6\", \"Topic6\", \"Topic6\", \"Topic6\", \"Topic6\", \"Topic6\", \"Topic6\", \"Topic6\", \"Topic6\", \"Topic6\", \"Topic6\", \"Topic6\", \"Topic6\", \"Topic6\", \"Topic6\", \"Topic6\", \"Topic6\", \"Topic6\", \"Topic6\", \"Topic6\", \"Topic6\", \"Topic6\", \"Topic6\", \"Topic6\", \"Topic6\", \"Topic6\", \"Topic6\", \"Topic6\", \"Topic6\", \"Topic6\", \"Topic6\", \"Topic6\", \"Topic6\", \"Topic6\", \"Topic6\", \"Topic6\", \"Topic6\", \"Topic6\", \"Topic6\", \"Topic6\", \"Topic6\", \"Topic6\", \"Topic6\", \"Topic7\", \"Topic7\", \"Topic7\", \"Topic7\", \"Topic7\", \"Topic7\", \"Topic7\", \"Topic7\", \"Topic7\", \"Topic7\", \"Topic7\", \"Topic7\", \"Topic7\", \"Topic7\", \"Topic7\", \"Topic7\", \"Topic7\", \"Topic7\", \"Topic7\", \"Topic7\", \"Topic7\", \"Topic7\", \"Topic7\", \"Topic7\", \"Topic7\", \"Topic7\", \"Topic7\", \"Topic7\", \"Topic7\", \"Topic7\", \"Topic7\", \"Topic7\", \"Topic7\", \"Topic7\", \"Topic7\", \"Topic7\", \"Topic7\", \"Topic7\", \"Topic7\", \"Topic7\", \"Topic7\", \"Topic8\", \"Topic8\", \"Topic8\", \"Topic8\", \"Topic8\", \"Topic8\", \"Topic8\", \"Topic8\", \"Topic8\", \"Topic8\", \"Topic8\", \"Topic8\", \"Topic8\", \"Topic8\", \"Topic8\", \"Topic8\", \"Topic8\", \"Topic8\", \"Topic8\", \"Topic8\", \"Topic8\", \"Topic8\", \"Topic8\", \"Topic8\", \"Topic8\", \"Topic8\", \"Topic8\", \"Topic8\", \"Topic8\", \"Topic8\", \"Topic8\", \"Topic8\", \"Topic8\", \"Topic8\", \"Topic8\", \"Topic8\", \"Topic8\", \"Topic9\", \"Topic9\", \"Topic9\", \"Topic9\", \"Topic9\", \"Topic9\", \"Topic9\", \"Topic9\", \"Topic9\", \"Topic9\", \"Topic9\", \"Topic9\", \"Topic9\", \"Topic9\", \"Topic9\", \"Topic9\", \"Topic9\", \"Topic9\", \"Topic9\", \"Topic9\", \"Topic9\", \"Topic9\", \"Topic9\", \"Topic9\", \"Topic9\", \"Topic9\", \"Topic9\", \"Topic9\", \"Topic9\", \"Topic9\", \"Topic9\", \"Topic9\", \"Topic9\", \"Topic9\", \"Topic9\", \"Topic9\", \"Topic9\", \"Topic9\", \"Topic9\", \"Topic9\", \"Topic10\", \"Topic10\", \"Topic10\", \"Topic10\", \"Topic10\", \"Topic10\", \"Topic10\", \"Topic10\", \"Topic10\", \"Topic10\", \"Topic10\", \"Topic10\", \"Topic10\", \"Topic10\", \"Topic10\", \"Topic10\", \"Topic10\", \"Topic10\", \"Topic10\", \"Topic10\", \"Topic10\", \"Topic10\", \"Topic10\", \"Topic10\", \"Topic10\", \"Topic10\", \"Topic10\", \"Topic10\", \"Topic10\", \"Topic10\", \"Topic10\", \"Topic10\", \"Topic10\", \"Topic10\", \"Topic10\", \"Topic11\", \"Topic11\", \"Topic11\", \"Topic11\", \"Topic11\", \"Topic11\", \"Topic11\", \"Topic11\", \"Topic11\", \"Topic11\", \"Topic11\", \"Topic11\", \"Topic11\", \"Topic11\", \"Topic11\", \"Topic11\", \"Topic11\", \"Topic11\", \"Topic11\", \"Topic11\", \"Topic11\", \"Topic11\", \"Topic11\", \"Topic11\", \"Topic11\", \"Topic11\", \"Topic11\", \"Topic11\", \"Topic11\", \"Topic11\", \"Topic11\", \"Topic11\", \"Topic11\", \"Topic11\", \"Topic11\", \"Topic11\", \"Topic11\", \"Topic11\", \"Topic11\", \"Topic11\", \"Topic11\", \"Topic11\", \"Topic11\", \"Topic11\", \"Topic11\", \"Topic11\", \"Topic12\", \"Topic12\", \"Topic12\", \"Topic12\", \"Topic12\", \"Topic12\", \"Topic12\", \"Topic12\", \"Topic12\", \"Topic12\", \"Topic12\", \"Topic12\", \"Topic12\", \"Topic12\", \"Topic12\", \"Topic12\", \"Topic12\", \"Topic12\", \"Topic12\", \"Topic12\", \"Topic12\", \"Topic12\", \"Topic12\", \"Topic12\", \"Topic12\", \"Topic12\", \"Topic12\", \"Topic12\", \"Topic12\", \"Topic12\", \"Topic12\", \"Topic12\", \"Topic12\", \"Topic12\", \"Topic12\", \"Topic12\", \"Topic13\", \"Topic13\", \"Topic13\", \"Topic13\", \"Topic13\", \"Topic13\", \"Topic13\", \"Topic13\", \"Topic13\", \"Topic13\", \"Topic13\", \"Topic13\", \"Topic13\", \"Topic13\", \"Topic13\", \"Topic13\", \"Topic13\", \"Topic13\", \"Topic13\", \"Topic13\", \"Topic13\", \"Topic13\", \"Topic13\", \"Topic13\", \"Topic13\", \"Topic13\", \"Topic13\", \"Topic13\", \"Topic13\", \"Topic13\", \"Topic13\", \"Topic14\", \"Topic14\", \"Topic14\", \"Topic14\", \"Topic14\", \"Topic14\", \"Topic14\", \"Topic14\", \"Topic14\", \"Topic14\", \"Topic14\", \"Topic14\", \"Topic14\", \"Topic14\", \"Topic14\", \"Topic14\", \"Topic14\", \"Topic14\", \"Topic14\", \"Topic14\", \"Topic14\", \"Topic14\", \"Topic14\", \"Topic14\", \"Topic14\", \"Topic14\", \"Topic14\", \"Topic14\", \"Topic14\", \"Topic14\", \"Topic14\", \"Topic14\", \"Topic15\", \"Topic15\", \"Topic15\", \"Topic15\", \"Topic15\", \"Topic15\", \"Topic15\", \"Topic15\", \"Topic15\", \"Topic15\", \"Topic15\", \"Topic15\", \"Topic15\", \"Topic15\", \"Topic15\", \"Topic15\", \"Topic15\", \"Topic15\", \"Topic15\", \"Topic15\", \"Topic15\", \"Topic15\", \"Topic15\", \"Topic15\", \"Topic15\", \"Topic15\", \"Topic15\", \"Topic15\", \"Topic15\", \"Topic15\", \"Topic15\", \"Topic15\", \"Topic15\", \"Topic16\", \"Topic16\", \"Topic16\", \"Topic16\", \"Topic16\", \"Topic16\", \"Topic16\", \"Topic16\", \"Topic16\", \"Topic16\", \"Topic16\", \"Topic16\", \"Topic16\", \"Topic16\", \"Topic16\", \"Topic16\", \"Topic16\", \"Topic16\", \"Topic16\", \"Topic16\", \"Topic16\", \"Topic16\", \"Topic16\", \"Topic16\", \"Topic16\", \"Topic16\", \"Topic16\", \"Topic16\", \"Topic16\", \"Topic16\", \"Topic16\", \"Topic16\", \"Topic16\", \"Topic17\", \"Topic17\", \"Topic17\", \"Topic17\", \"Topic17\", \"Topic17\", \"Topic17\", \"Topic17\", \"Topic17\", \"Topic17\", \"Topic17\", \"Topic17\", \"Topic17\", \"Topic17\", \"Topic17\", \"Topic17\", \"Topic17\", \"Topic17\", \"Topic17\", \"Topic17\", \"Topic17\", \"Topic17\", \"Topic17\", \"Topic17\", \"Topic17\", \"Topic17\", \"Topic17\", \"Topic17\", \"Topic17\", \"Topic17\", \"Topic17\", \"Topic18\", \"Topic18\", \"Topic18\", \"Topic18\", \"Topic18\", \"Topic18\", \"Topic18\", \"Topic18\", \"Topic18\", \"Topic18\", \"Topic18\", \"Topic18\", \"Topic18\", \"Topic18\", \"Topic18\", \"Topic18\", \"Topic18\", \"Topic18\", \"Topic18\", \"Topic18\", \"Topic18\", \"Topic18\", \"Topic18\", \"Topic18\", \"Topic18\", \"Topic18\", \"Topic18\", \"Topic18\", \"Topic18\", \"Topic18\", \"Topic19\", \"Topic19\", \"Topic19\", \"Topic19\", \"Topic19\", \"Topic19\", \"Topic19\", \"Topic19\", \"Topic19\", \"Topic19\", \"Topic19\", \"Topic19\", \"Topic19\", \"Topic19\", \"Topic19\", \"Topic19\", \"Topic19\", \"Topic19\", \"Topic19\", \"Topic19\", \"Topic19\", \"Topic19\", \"Topic19\", \"Topic19\", \"Topic19\", \"Topic19\", \"Topic19\", \"Topic19\", \"Topic19\", \"Topic19\", \"Topic20\", \"Topic20\", \"Topic20\", \"Topic20\", \"Topic20\", \"Topic20\", \"Topic20\", \"Topic20\", \"Topic20\", \"Topic20\", \"Topic20\", \"Topic20\", \"Topic20\", \"Topic20\", \"Topic20\", \"Topic20\", \"Topic20\", \"Topic20\", \"Topic20\", \"Topic20\", \"Topic20\", \"Topic20\", \"Topic20\", \"Topic20\", \"Topic20\", \"Topic20\", \"Topic20\", \"Topic20\", \"Topic20\", \"Topic20\", \"Topic20\", \"Topic20\", \"Topic20\", \"Topic20\", \"Topic20\", \"Topic20\", \"Topic20\", \"Topic20\", \"Topic20\", \"Topic20\", \"Topic20\", \"Topic20\", \"Topic20\"], \"Freq\": [16156.0, 15862.0, 13427.0, 2717.0, 4625.0, 2551.0, 7510.0, 2300.0, 5989.0, 2466.0, 8624.0, 2698.0, 3864.0, 2466.0, 4626.0, 2355.0, 7564.0, 1975.0, 7480.0, 6108.0, 1670.0, 8574.0, 2866.0, 1804.0, 3194.0, 2139.0, 1887.0, 2108.0, 8484.0, 7177.0, 13426.1884765625, 8622.9677734375, 7563.71435546875, 7479.7568359375, 4505.07763671875, 3863.992431640625, 3812.225830078125, 2982.308349609375, 2811.509765625, 2595.89990234375, 2447.191162109375, 2125.470947265625, 2014.5616455078125, 1978.0374755859375, 1914.1719970703125, 1881.2288818359375, 1424.6881103515625, 1271.4571533203125, 1268.5533447265625, 1261.9561767578125, 1209.3267822265625, 1201.94189453125, 1179.603271484375, 1092.3326416015625, 921.9442749023438, 881.904541015625, 850.1304931640625, 840.9970092773438, 837.7531127929688, 820.0040283203125, 7106.48486328125, 15778.787109375, 1642.8070068359375, 4970.1025390625, 15245.228515625, 5956.728515625, 4779.78271484375, 8054.06298828125, 3499.225341796875, 2550.535400390625, 2325.881103515625, 3578.42236328125, 3723.9521484375, 4103.037109375, 6228.8349609375, 4995.40283203125, 5196.8544921875, 3593.083984375, 3759.530517578125, 5528.73095703125, 3527.584228515625, 2812.21484375, 4204.6748046875, 2929.739990234375, 3066.72705078125, 1853.9285888671875, 1512.0341796875, 1494.628662109375, 1445.11572265625, 1324.93212890625, 1273.44091796875, 1044.6629638671875, 1013.2268676757812, 968.7789306640625, 931.308349609375, 895.8148193359375, 861.7933959960938, 804.1873168945312, 718.4710083007812, 691.7661743164062, 689.344482421875, 642.3897094726562, 637.9901733398438, 619.5889892578125, 613.181640625, 603.6309204101562, 603.4410400390625, 592.6256713867188, 584.5592651367188, 560.7998657226562, 556.3067626953125, 554.841796875, 535.3347778320312, 535.0988159179688, 2055.497802734375, 1273.919921875, 984.2637939453125, 1444.775634765625, 1004.1258544921875, 1089.840576171875, 3022.033203125, 928.3327026367188, 912.0721435546875, 1210.591796875, 1316.3304443359375, 1248.646484375, 1541.1748046875, 3712.5546875, 4631.66552734375, 1028.68359375, 1641.4371337890625, 3990.041259765625, 1657.6572265625, 1142.98291015625, 1609.6600341796875, 1343.5853271484375, 1482.4539794921875, 3073.2236328125, 1599.177490234375, 1916.3912353515625, 1841.8955078125, 1368.9188232421875, 1265.0654296875, 1482.7977294921875, 1348.5126953125, 1392.0445556640625, 3222.84619140625, 2803.01220703125, 2128.949462890625, 2015.595703125, 1725.953125, 1677.3125, 1584.793701171875, 1559.1824951171875, 1403.6824951171875, 1232.538330078125, 1048.8450927734375, 1047.9605712890625, 998.5779418945312, 949.8365478515625, 934.0218505859375, 859.691162109375, 843.6958618164062, 835.5835571289062, 827.970458984375, 709.4336547851562, 688.455810546875, 671.4017944335938, 654.1886596679688, 633.2755126953125, 627.5519409179688, 620.8755493164062, 560.40185546875, 552.3457641601562, 548.3662109375, 491.3406982421875, 3200.873046875, 929.4326782226562, 1600.7164306640625, 1194.660888671875, 2109.1396484375, 5407.42578125, 999.0255737304688, 2030.541015625, 1052.8800048828125, 4149.31982421875, 1168.972900390625, 1321.5677490234375, 2007.1240234375, 1452.362548828125, 2556.644287109375, 1590.20068359375, 1613.2724609375, 1084.523193359375, 1423.8521728515625, 1284.0440673828125, 1667.9361572265625, 1204.8060302734375, 1125.8280029296875, 1240.1820068359375, 1836.0262451171875, 1671.1402587890625, 965.7026977539062, 904.7191772460938, 855.8369750976562, 810.468994140625, 806.6885375976562, 793.701416015625, 783.1903686523438, 710.2754516601562, 709.9439697265625, 687.88232421875, 654.6958618164062, 633.8369750976562, 589.2803955078125, 401.21234130859375, 392.28125, 363.7715148925781, 351.91888427734375, 342.69677734375, 316.48345947265625, 288.75958251953125, 275.8144226074219, 252.9295196533203, 250.88851928710938, 228.8690643310547, 184.3418426513672, 175.15292358398438, 172.05276489257812, 165.8902130126953, 1094.6888427734375, 1182.5360107421875, 1195.6031494140625, 1342.80908203125, 877.7771606445312, 719.7531127929688, 1008.2675170898438, 639.6276245117188, 1266.5531005859375, 1545.4117431640625, 1403.4500732421875, 1219.901123046875, 520.2257080078125, 1176.8822021484375, 641.7174072265625, 912.5634155273438, 1497.9957275390625, 760.8750610351562, 740.2376098632812, 696.6646118164062, 669.4796142578125, 606.9314575195312, 604.7136840820312, 563.16748046875, 545.9404907226562, 418.6067199707031, 379.90997314453125, 376.8861083984375, 362.83685302734375, 358.2900695800781, 357.5010070800781, 355.03155517578125, 338.38189697265625, 322.6554260253906, 308.5682678222656, 304.78778076171875, 297.39544677734375, 291.3443908691406, 244.3428497314453, 243.0142364501953, 231.17666625976562, 225.28631591796875, 209.77244567871094, 202.04864501953125, 201.07034301757812, 196.81985473632812, 724.5284423828125, 518.6757202148438, 315.92962646484375, 848.16845703125, 800.4069213867188, 1132.9849853515625, 904.7166748046875, 1104.2928466796875, 588.2759399414062, 570.3557739257812, 1044.384765625, 336.04803466796875, 496.4726257324219, 370.49639892578125, 349.1050720214844, 2465.15771484375, 2354.5517578125, 1241.61572265625, 1158.9095458984375, 1099.79150390625, 1035.4874267578125, 761.5874633789062, 670.9042358398438, 646.9074096679688, 569.305419921875, 444.7025146484375, 645.5054931640625, 375.71875, 217.8397674560547, 211.99993896484375, 178.53016662597656, 1057.3031005859375, 160.89559936523438, 136.2443389892578, 101.9249038696289, 100.57666778564453, 72.96211242675781, 61.33194351196289, 50.884559631347656, 49.665977478027344, 49.63759994506836, 47.45706558227539, 34.17009353637695, 30.330821990966797, 28.516555786132812, 1315.3448486328125, 2480.52685546875, 464.74267578125, 1377.390380859375, 1792.7427978515625, 592.3353271484375, 773.1123657226562, 1698.8795166015625, 1030.769287109375, 520.914306640625, 1044.773193359375, 700.9957885742188, 741.9935913085938, 585.6787109375, 628.6729125976562, 384.7445068359375, 482.3411865234375, 395.0311584472656, 1974.5640869140625, 1803.4395751953125, 1370.316650390625, 1272.640380859375, 597.4998168945312, 582.831298828125, 574.79931640625, 552.39794921875, 505.9571838378906, 473.09588623046875, 461.5016174316406, 354.3637390136719, 295.2052307128906, 238.60472106933594, 224.06365966796875, 221.67706298828125, 219.12432861328125, 192.2735595703125, 187.12802124023438, 185.0056915283203, 174.90216064453125, 172.24099731445312, 171.6151123046875, 165.96963500976562, 157.25270080566406, 156.38758850097656, 149.15957641601562, 111.81159210205078, 110.70979309082031, 108.88872528076172, 258.06512451171875, 1400.1787109375, 207.7195281982422, 415.73931884765625, 564.4087524414062, 238.55487060546875, 440.7099304199219, 237.94493103027344, 297.5563659667969, 341.1324157714844, 250.05979919433594, 991.579345703125, 958.5202026367188, 746.8787841796875, 664.034912109375, 656.2113037109375, 579.8606567382812, 524.7771606445312, 507.9487609863281, 446.2146301269531, 444.30084228515625, 437.5618591308594, 368.6805419921875, 350.2002258300781, 321.38238525390625, 319.663818359375, 281.5843505859375, 258.97784423828125, 247.35340881347656, 238.0100860595703, 237.6826629638672, 232.97792053222656, 223.80296325683594, 220.8068084716797, 213.52890014648438, 195.58734130859375, 195.36770629882812, 193.60336303710938, 177.14132690429688, 170.5535430908203, 169.04364013671875, 721.6583251953125, 519.373046875, 1589.3367919921875, 843.3997802734375, 411.7135009765625, 305.23016357421875, 292.32977294921875, 2465.81689453125, 1361.8328857421875, 1304.2760009765625, 699.2528076171875, 641.2407836914062, 593.4297485351562, 465.25592041015625, 430.9229431152344, 419.9881591796875, 399.7528991699219, 365.22698974609375, 294.20135498046875, 293.2689514160156, 269.1185607910156, 234.06460571289062, 228.47396850585938, 223.07034301757812, 190.07823181152344, 179.17910766601562, 172.95811462402344, 151.5699462890625, 148.26438903808594, 133.47711181640625, 132.70233154296875, 131.51272583007812, 130.74278259277344, 128.79150390625, 127.51805114746094, 127.31674194335938, 123.24095153808594, 1115.661376953125, 281.2674865722656, 415.3586120605469, 985.6406860351562, 344.564208984375, 210.17617797851562, 200.4239044189453, 208.39047241210938, 210.69647216796875, 163.34884643554688, 1425.561279296875, 1022.3414916992188, 925.6019897460938, 702.9658203125, 484.0511474609375, 425.90887451171875, 401.2969055175781, 393.5730285644531, 320.199462890625, 299.9882507324219, 256.3395080566406, 251.8524169921875, 242.05992126464844, 231.66590881347656, 196.49571228027344, 175.67343139648438, 167.5046844482422, 162.04611206054688, 156.07778930664062, 148.4687957763672, 143.60333251953125, 138.37673950195312, 136.0583038330078, 117.47578430175781, 110.77373504638672, 93.97315216064453, 90.97858428955078, 90.04456329345703, 86.72404479980469, 77.6818618774414, 210.85317993164062, 133.4526824951172, 282.022705078125, 119.99403381347656, 116.89861297607422, 2549.837646484375, 1669.02392578125, 455.772216796875, 412.16314697265625, 304.3316650390625, 263.9132995605469, 233.8492431640625, 180.56454467773438, 169.65126037597656, 158.4951934814453, 150.0474395751953, 130.682373046875, 121.61945343017578, 115.41311645507812, 113.68778991699219, 102.49956512451172, 87.17526245117188, 86.8568344116211, 83.77705383300781, 81.13369750976562, 73.93090057373047, 59.21691131591797, 57.74467849731445, 50.04454040527344, 48.60463333129883, 47.471588134765625, 46.128631591796875, 41.36750411987305, 37.88204574584961, 37.3715934753418, 286.8193359375, 108.79864501953125, 216.10147094726562, 207.1702423095703, 239.53672790527344, 220.5406036376953, 172.9882049560547, 160.78775024414062, 214.84701538085938, 122.44755554199219, 248.8349609375, 179.39175415039062, 174.0117950439453, 160.9647979736328, 130.320556640625, 122.4976806640625, 1326.7197265625, 1002.0186767578125, 694.796630859375, 601.1385498046875, 524.625732421875, 503.70904541015625, 423.6316223144531, 385.08184814453125, 372.6489562988281, 285.979248046875, 282.998046875, 274.4188537597656, 263.1788024902344, 251.72230529785156, 190.23379516601562, 189.16354370117188, 188.2818603515625, 168.46653747558594, 140.32899475097656, 118.2417221069336, 114.55900573730469, 111.13333129882812, 109.72416687011719, 105.85333251953125, 103.80149841308594, 97.66478729248047, 62.245784759521484, 58.974334716796875, 42.31572341918945, 34.25127410888672, 226.7322540283203, 201.5153045654297, 334.79559326171875, 410.4891052246094, 109.784912109375, 118.074951171875, 2716.16845703125, 2299.34423828125, 505.61077880859375, 442.00482177734375, 276.9924011230469, 257.7203063964844, 232.1596221923828, 213.7611846923828, 188.04299926757812, 167.3001251220703, 150.8746337890625, 143.46356201171875, 128.25852966308594, 123.37338256835938, 109.73808288574219, 81.7029800415039, 69.4183349609375, 57.99275588989258, 50.52006530761719, 39.3807258605957, 16.861745834350586, 430.8061828613281, 13.287035942077637, 331.0406188964844, 0.09146317839622498, 0.09145711362361908, 0.09145305305719376, 0.0914519727230072, 0.09144926816225052, 0.09144854545593262, 9.26262092590332, 1060.9718017578125, 540.8146362304688, 412.0149841308594, 403.8769226074219, 366.69927978515625, 353.8677978515625, 343.48712158203125, 335.7889709472656, 251.2200469970703, 251.03138732910156, 241.82884216308594, 239.8101348876953, 211.08078002929688, 206.20480346679688, 202.1785888671875, 189.1925048828125, 186.56103515625, 184.42279052734375, 183.577392578125, 172.25119018554688, 171.62469482421875, 155.5045928955078, 155.20191955566406, 154.57757568359375, 131.78318786621094, 120.17247009277344, 115.70895385742188, 115.60513305664062, 106.65255737304688, 100.9910888671875, 212.4296112060547, 148.89434814453125, 527.672119140625, 467.9173583984375, 434.43304443359375, 364.56597900390625, 313.3113098144531, 296.9571228027344, 259.9334411621094, 253.53839111328125, 226.2767333984375, 181.1498260498047, 174.62213134765625, 169.22256469726562, 149.76144409179688, 130.3975372314453, 128.83677673339844, 125.71047973632812, 98.23786926269531, 96.13402557373047, 89.6187515258789, 82.23490142822266, 81.87342834472656, 72.56964111328125, 69.94872283935547, 69.32038116455078, 62.05025100708008, 59.19547653198242, 55.850189208984375, 52.75705337524414, 52.41108322143555, 49.530540466308594, 335.97076416015625, 86.98143005371094, 57.99495315551758, 685.1052856445312, 421.39105224609375, 367.9984130859375, 324.581787109375, 313.715576171875, 296.6915283203125, 291.36968994140625, 216.2261505126953, 203.15150451660156, 195.97369384765625, 185.49252319335938, 178.2040557861328, 157.81629943847656, 141.39324951171875, 131.19802856445312, 130.3017578125, 118.54241943359375, 109.0216064453125, 106.41244506835938, 105.4037857055664, 95.51692199707031, 87.67990112304688, 86.35517120361328, 82.24140930175781, 79.02330017089844, 66.11908721923828, 62.150081634521484, 61.153160095214844, 59.33243942260742, 52.620811462402344, 138.0607452392578, 68.1965103149414, 65.87743377685547, 502.67529296875, 407.4880065917969, 379.03302001953125, 347.7783203125, 321.3471374511719, 315.9716491699219, 287.3677673339844, 241.68572998046875, 223.27658081054688, 156.06912231445312, 154.90919494628906, 148.81092834472656, 145.37876892089844, 123.52009582519531, 114.54559326171875, 106.2028579711914, 105.15985870361328, 103.44869995117188, 87.24742889404297, 81.6058578491211, 79.72907257080078, 77.5858154296875, 76.89354705810547, 66.70491027832031, 65.11481475830078, 56.33629608154297, 53.88137435913086, 47.22422790527344, 46.041404724121094, 43.06349563598633, 294.27880859375, 590.8597412109375, 516.6342163085938, 353.1058654785156, 346.8887939453125, 245.4412384033203, 234.58026123046875, 221.05328369140625, 220.77847290039062, 156.70608520507812, 154.814697265625, 143.9949951171875, 143.53390502929688, 118.06404113769531, 110.39665222167969, 102.94136810302734, 86.89444732666016, 83.03658294677734, 75.20233917236328, 72.85865783691406, 66.0864028930664, 62.33124923706055, 60.278194427490234, 57.38337326049805, 51.09724426269531, 49.4970588684082, 48.40994644165039, 48.241397857666016, 44.554317474365234, 33.079891204833984, 32.93937683105469, 452.0639343261719, 338.5349426269531, 336.4127197265625, 223.28427124023438, 189.2431640625, 132.4795379638672, 124.32733154296875, 114.1640853881836, 108.22969818115234, 104.18608093261719, 98.53022003173828, 76.45455932617188, 76.32357025146484, 70.03155517578125, 56.297725677490234, 54.26803970336914, 45.63880920410156, 40.18734359741211, 38.11359786987305, 29.85463523864746, 29.513347625732422, 27.305994033813477, 18.869802474975586, 18.48704719543457, 17.857439041137695, 8.471268653869629, 5.930295467376709, 0.5014573931694031, 59.08841323852539, 29.21921730041504, 132.81478881835938, 55.23335266113281, 32.92537307739258, 16.72496795654297, 11.266458511352539, 0.16654931008815765, 0.01967504806816578, 0.019671523943543434, 0.019671523943543434, 0.019671523943543434, 0.01967150904238224, 0.019671523943543434, 0.019671602174639702, 0.019669488072395325, 0.01966889202594757, 0.01966872438788414, 0.019668642431497574, 0.01966845616698265, 0.0196684543043375, 0.01966877281665802, 0.01966843567788601, 0.01966843195259571, 0.01966843567788601, 0.01966860145330429, 0.01966850273311138, 0.01966850459575653, 0.019668346270918846, 0.019668275490403175, 0.019668275490403175, 0.019668294116854668, 0.01966829225420952, 0.019668450579047203, 0.019668731838464737, 0.019668353721499443, 0.019668545573949814, 0.01966840960085392, 0.01966848410665989, 0.01966851018369198, 0.019668683409690857, 0.019668525084853172, 0.019668646156787872, 0.01966851018369198, 0.019668573513627052], \"Term\": [\"would\", \"line\", \"write\", \"ax\", \"year\", \"drive\", \"people\", \"max\", \"use\", \"key\", \"article\", \"program\", \"problem\", \"file\", \"system\", \"mail\", \"be\", \"team\", \"go\", \"good\", \"car\", \"say\", \"run\", \"game\", \"thank\", \"information\", \"man\", \"send\", \"know\", \"get\", \"write\", \"article\", \"be\", \"go\", \"want\", \"organization\", \"s\", \"really\", \"have\", \"sure\", \"back\", \"bad\", \"hear\", \"little\", \"put\", \"lot\", \"maybe\", \"turn\", \"pay\", \"remember\", \"money\", \"week\", \"like\", \"hard\", \"ill\", \"pretty\", \"couple\", \"internet\", \"friend\", \"guess\", \"get\", \"would\", \"enough\", \"could\", \"line\", \"good\", \"host\", \"know\", \"much\", \"still\", \"reply\", \"look\", \"try\", \"take\", \"think\", \"see\", \"time\", \"well\", \"come\", \"make\", \"thing\", \"tell\", \"say\", \"way\", \"number\", \"will\", \"space\", \"large\", \"build\", \"technology\", \"receive\", \"single\", \"add\", \"control\", \"design\", \"increase\", \"service\", \"research\", \"function\", \"section\", \"process\", \"field\", \"remove\", \"center\", \"release\", \"block\", \"detail\", \"method\", \"amount\", \"various\", \"develop\", \"hour\", \"main\", \"unit\", \"high\", \"cost\", \"rate\", \"nntp_poste\", \"datum\", \"low\", \"new\", \"level\", \"standard\", \"small\", \"require\", \"type\", \"power\", \"system\", \"use\", \"return\", \"provide\", \"also\", \"order\", \"note\", \"set\", \"base\", \"support\", \"may\", \"include\", \"work\", \"need\", \"part\", \"change\", \"call\", \"case\", \"first\", \"believe\", \"evidence\", \"fact\", \"claim\", \"sense\", \"exist\", \"true\", \"person\", \"faith\", \"word\", \"rule\", \"religion\", \"argument\", \"prove\", \"speak\", \"truth\", \"clear\", \"discussion\", \"belief\", \"human\", \"church\", \"young\", \"conclusion\", \"statement\", \"christian\", \"religious\", \"indeed\", \"jewish\", \"deny\", \"logic\", \"reason\", \"matter\", \"law\", \"life\", \"state\", \"people\", \"view\", \"mean\", \"agree\", \"say\", \"world\", \"issue\", \"many\", \"must\", \"may\", \"question\", \"point\", \"become\", \"right\", \"case\", \"make\", \"even\", \"however\", \"think\", \"window\", \"card\", \"sale\", \"color\", \"distribution_usa\", \"screen\", \"memory\", \"bike\", \"disk\", \"tape\", \"display\", \"graphic\", \"mode\", \"monitor\", \"video\", \"purchase\", \"external\", \"mouse\", \"manager\", \"apple\", \"convert\", \"processor\", \"rider\", \"blind\", \"resolution\", \"serial\", \"default\", \"icon\", \"utility\", \"brother\", \"machine\", \"price\", \"driver\", \"computer\", \"version\", \"offer\", \"sell\", \"model\", \"bit\", \"run\", \"problem\", \"thank\", \"fast\", \"use\", \"buy\", \"system\", \"kill\", \"fire\", \"war\", \"soldier\", \"city\", \"murder\", \"village\", \"military\", \"land\", \"turkish\", \"withdraw\", \"occupy\", \"arm\", \"population\", \"national\", \"gift\", \"town\", \"armenian\", \"door\", \"civilian\", \"male\", \"burn\", \"minority\", \"percent\", \"somehow\", \"girl\", \"inhabitant\", \"violation\", \"role\", \"islamic\", \"woman\", \"police\", \"house\", \"attack\", \"country\", \"child\", \"death\", \"government\", \"force\", \"die\", \"people\", \"fight\", \"live\", \"shoot\", \"year\", \"file\", \"mail\", \"email\", \"image\", \"copy\", \"entry\", \"server\", \"distribution\", \"faq\", \"format\", \"library\", \"network\", \"update\", \"map\", \"morality\", \"guilty\", \"info\", \"conference\", \"electrical\", \"import\", \"correction\", \"television\", \"partially\", \"observer\", \"mapping\", \"ray\", \"kinda\", \"automate\", \"submission\", \"tiff\", \"address\", \"program\", \"request\", \"list\", \"send\", \"page\", \"user\", \"information\", \"available\", \"code\", \"message\", \"source\", \"include\", \"name\", \"post\", \"application\", \"thank\", \"read\", \"team\", \"game\", \"play\", \"win\", \"hit\", \"fan\", \"goal\", \"score\", \"division\", \"cpu\", \"trade\", \"average\", \"boy\", \"upgrade\", \"dog\", \"stat\", \"draft\", \"yesterday\", \"blue\", \"tie\", \"club\", \"travel\", \"offense\", \"soul\", \"coverage\", \"pitch\", \"floppy\", \"brave\", \"staff\", \"era\", \"stupid\", \"year\", \"defense\", \"lose\", \"run\", \"final\", \"last\", \"pick\", \"next\", \"first\", \"point\", \"god\", \"accept\", \"member\", \"israeli\", \"season\", \"publish\", \"serious\", \"shall\", \"society\", \"respect\", \"moral\", \"practice\", \"pen\", \"table\", \"son\", \"assumption\", \"homosexual\", \"imply\", \"letter\", \"improve\", \"arab\", \"mirror\", \"anti\", \"creation\", \"acquire\", \"economic\", \"unlikely\", \"western\", \"sight\", \"father\", \"age\", \"exactly\", \"man\", \"explain\", \"community\", \"purpose\", \"whole\", \"key\", \"gun\", \"chip\", \"encryption\", \"security\", \"private\", \"weapon\", \"secure\", \"license\", \"tap\", \"firearm\", \"ide\", \"review\", \"blank\", \"headache\", \"rsa\", \"specify\", \"export\", \"algorithm\", \"capture\", \"distance\", \"restriction\", \"usage\", \"regulation\", \"packet\", \"investigation\", \"cryptography\", \"crack\", \"horse\", \"sheet\", \"public\", \"criminal\", \"protect\", \"government\", \"crime\", \"legal\", \"device\", \"carry\", \"right\", \"use\", \"book\", \"physical\", \"science\", \"study\", \"author\", \"revelation\", \"avoid\", \"direct\", \"animal\", \"objective\", \"interpretation\", \"benefit\", \"language\", \"statistic\", \"task\", \"prize\", \"daughter\", \"element\", \"interpret\", \"absolute\", \"relationship\", \"reward\", \"category\", \"birth\", \"phase\", \"advanced\", \"vision\", \"analogy\", \"introduction\", \"novel\", \"observation\", \"ready\", \"contain\", \"topic\", \"explain\", \"drive\", \"car\", \"engine\", \"ride\", \"cop\", \"mile\", \"battery\", \"decent\", \"accident\", \"factory\", \"cross\", \"up\", \"gear\", \"auto\", \"mid\", \"revolver\", \"amp\", \"luxury\", \"volt\", \"rear\", \"highway\", \"mileage\", \"turbo\", \"suspension\", \"sustain\", \"buying\", \"salesman\", \"driving\", \"handling\", \"closet\", \"dealer\", \"trip\", \"vehicle\", \"owner\", \"road\", \"safety\", \"front\", \"pull\", \"speed\", \"insurance\", \"buy\", \"light\", \"fast\", \"model\", \"driver\", \"price\", \"software\", \"test\", \"pc\", \"product\", \"bus\", \"scsi\", \"internal\", \"motif\", \"transfer\", \"cable\", \"aware\", \"procedure\", \"engineering\", \"laboratory\", \"motherboard\", \"unix\", \"clock\", \"connector\", \"pub\", \"fee\", \"extension\", \"vendor\", \"cluster\", \"restore\", \"fancy\", \"meter\", \"spec\", \"peripheral\", \"fatal\", \"designer\", \"bill\", \"fairly\", \"performance\", \"device\", \"factor\", \"speed\", \"ax\", \"max\", \"orbit\", \"satellite\", \"moon\", \"shuttle\", \"spacecraft\", \"lunar\", \"solar\", \"film\", \"movie\", \"scare\", \"plot\", \"secular\", \"planetary\", \"orbiter\", \"orbital\", \"winter\", \"thrust\", \"particle\", \"interior\", \"mission\", \"maneuver\", \"launch\", \"di_di\", \"bhjn\", \"gk\", \"pmfq\", \"pl_pl\", \"eqtm\", \"part\", \"player\", \"university\", \"switch\", \"cool\", \"printer\", \"baseball\", \"hot\", \"star\", \"blow\", \"helmet\", \"ice\", \"water\", \"oil\", \"cold\", \"cap\", \"canadian\", \"saturn\", \"remind\", \"quick\", \"nuclear\", \"deliver\", \"cylinder\", \"heat\", \"red\", \"improvement\", \"crazy\", \"motor\", \"soft\", \"bag\", \"smart\", \"wear\", \"sport\", \"reality\", \"picture\", \"object\", \"greek\", \"generate\", \"interface\", \"font\", \"concept\", \"workstation\", \"management\", \"anywhere\", \"universe\", \"routine\", \"button\", \"depth\", \"widget\", \"bounce\", \"programmer\", \"exposure\", \"variation\", \"mb\", \"infinite\", \"characteristic\", \"arbitrary\", \"compress\", \"competition\", \"generic\", \"deletion\", \"comprise\", \"roman\", \"contain\", \"scale\", \"text\", \"patient\", \"family\", \"box\", \"treatment\", \"disease\", \"doctor\", \"cd\", \"status\", \"medical\", \"wave\", \"ticket\", \"health\", \"violence\", \"immediate\", \"spring\", \"modem\", \"confirm\", \"automatically\", \"physician\", \"terminal\", \"diet\", \"severe\", \"campaign\", \"investment\", \"medicine\", \"discount\", \"diagnostic\", \"bury\", \"shock\", \"mad\", \"insurance\", \"treat\", \"risk\", \"input\", \"eat\", \"material\", \"controller\", \"signal\", \"trust\", \"expensive\", \"output\", \"circuit\", \"noise\", \"configuration\", \"dept\", \"own\", \"greatly_appreciate\", \"constitution\", \"japanese\", \"voltage\", \"tire\", \"impressive\", \"belt\", \"preferably\", \"unique\", \"timing\", \"accuracy\", \"domain\", \"maintenance\", \"dynamic\", \"recieve\", \"shaft\", \"acquisition\", \"ground\", \"phone\", \"package\", \"nntp_posting\", \"route\", \"fax\", \"link\", \"btw\", \"primarily\", \"trick\", \"direction\", \"highly\", \"buyer\", \"reflect\", \"sky\", \"proud\", \"dare\", \"suck\", \"catalog\", \"indication\", \"leadership\", \"survey\", \"forum\", \"sue\", \"repost\", \"creature\", \"formation\", \"enhancement\", \"desert\", \"primitive\", \"mailing\", \"black\", \"wing\", \"white\", \"vote\", \"flight\", \"devil\", \"capacity\", \"trace\", \"assist\", \"penalty\", \"mass\", \"strip\", \"crew\", \"dirty\", \"tour\", \"presentation\", \"leather\", \"module\", \"utilize\", \"horror\", \"stamp\", \"analyze\", \"abstract\", \"ssf\", \"dish\", \"qualified\", \"cone\", \"subtly\", \"schedule\", \"mission\", \"board\", \"expansion\", \"looking\", \"stuff_delete\", \"rod\", \"reluctant\", \"wire\", \"jolt\", \"jiggle\", \"worked\", \"medford\", \"blanking\", \"connect\", \"fpu\", \"shephard\", \"plutonium\", \"ethernet\", \"univesa\", \"bubble\", \"franchise\", \"reprocess\", \"ntsc\", \"fabricate\", \"vram\", \"flop\", \"flip\", \"din\", \"allotment\", \"foreseeable\", \"nhls\", \"realignment\", \"admiral\", \"compatible\", \"template\", \"jet\", \"xfree\", \"grade\", \"slot\", \"item\", \"frame\", \"hockey\", \"dollar\", \"pin\"], \"Total\": [16156.0, 15862.0, 13427.0, 2717.0, 4625.0, 2551.0, 7510.0, 2300.0, 5989.0, 2466.0, 8624.0, 2698.0, 3864.0, 2466.0, 4626.0, 2355.0, 7564.0, 1975.0, 7480.0, 6108.0, 1670.0, 8574.0, 2866.0, 1804.0, 3194.0, 2139.0, 1887.0, 2108.0, 8484.0, 7177.0, 13427.357421875, 8624.13671875, 7564.88427734375, 7480.9267578125, 4506.24755859375, 3865.161376953125, 3813.394775390625, 2983.477294921875, 2812.6787109375, 2597.09814453125, 2448.360107421875, 2126.639892578125, 2015.730712890625, 1979.20654296875, 1915.341064453125, 1882.39794921875, 1425.857177734375, 1272.626220703125, 1269.722412109375, 1263.125244140625, 1210.495849609375, 1203.1109619140625, 1180.7723388671875, 1093.501708984375, 923.1133422851562, 883.0736083984375, 851.299560546875, 842.1660766601562, 838.9221801757812, 821.173095703125, 7177.67236328125, 16156.94140625, 1649.5804443359375, 5051.1484375, 15862.6640625, 6108.5302734375, 4901.28271484375, 8484.083984375, 3640.776123046875, 2628.89453125, 2399.17431640625, 3878.526611328125, 4090.56396484375, 4573.11572265625, 7470.12255859375, 5820.8193359375, 6294.1552734375, 4183.68994140625, 4593.65576171875, 7900.708984375, 4433.7978515625, 3189.7314453125, 8574.544921875, 3939.03564453125, 3067.893310546875, 1855.0948486328125, 1513.200439453125, 1495.794921875, 1446.281982421875, 1326.098388671875, 1274.607177734375, 1045.8292236328125, 1014.39306640625, 969.9451293945312, 932.4745483398438, 896.9810180664062, 862.9595947265625, 805.353515625, 719.63720703125, 692.932373046875, 690.5106811523438, 643.555908203125, 639.1563720703125, 620.7551879882812, 614.3478393554688, 604.797119140625, 604.6072387695312, 593.7933959960938, 585.7254638671875, 561.966064453125, 557.4729614257812, 556.0079956054688, 536.5009765625, 536.2650146484375, 2063.593017578125, 1285.034423828125, 999.1493530273438, 1498.596435546875, 1032.16748046875, 1130.5670166015625, 3383.483642578125, 960.0401611328125, 944.5624389648438, 1286.154541015625, 1415.9658203125, 1337.931396484375, 1706.244873046875, 4626.21728515625, 5989.65185546875, 1088.3369140625, 1946.6405029296875, 5871.88623046875, 2015.4642333984375, 1257.9698486328125, 2007.12060546875, 1603.7874755859375, 1863.2545166015625, 7298.10791015625, 2393.3154296875, 4547.0595703125, 4274.73583984375, 2273.118896484375, 1819.693359375, 3071.0859375, 2684.50341796875, 3679.89306640625, 3224.020751953125, 2804.186767578125, 2130.1240234375, 2016.770263671875, 1727.127685546875, 1678.487060546875, 1585.96826171875, 1560.357177734375, 1404.8570556640625, 1233.712890625, 1050.0196533203125, 1049.1351318359375, 999.7525024414062, 951.0111083984375, 935.1964111328125, 860.86572265625, 844.8704223632812, 836.7581176757812, 829.14501953125, 710.6082153320312, 689.63037109375, 672.5763549804688, 655.3632202148438, 634.4500732421875, 628.7265014648438, 622.0501098632812, 561.576416015625, 553.5203247070312, 549.540771484375, 492.5152587890625, 3287.944091796875, 951.919677734375, 1727.55029296875, 1268.90966796875, 2393.049072265625, 7510.009765625, 1074.273681640625, 2705.531005859375, 1254.577392578125, 8574.544921875, 1481.854736328125, 1836.389404296875, 3834.22314453125, 2261.665283203125, 7298.10791015625, 3243.63623046875, 3556.106689453125, 1369.4093017578125, 3466.6201171875, 2684.50341796875, 7900.708984375, 3939.66943359375, 2104.001953125, 7470.12255859375, 1837.197998046875, 1672.31201171875, 966.8743286132812, 905.8908081054688, 857.0086059570312, 811.640625, 807.8601684570312, 794.873046875, 784.3619995117188, 711.4470825195312, 711.1156005859375, 689.053955078125, 655.8674926757812, 635.0086059570312, 590.4520263671875, 402.38397216796875, 393.452880859375, 364.9431457519531, 353.09051513671875, 343.868408203125, 317.65509033203125, 289.93121337890625, 276.9860534667969, 254.10118103027344, 252.0601806640625, 230.0407257080078, 185.5135040283203, 176.3245849609375, 173.22442626953125, 167.06187438964844, 1107.5992431640625, 1306.1494140625, 1327.0394287109375, 1563.5460205078125, 992.2073974609375, 828.8871459960938, 1256.4388427734375, 801.7080078125, 2025.65185546875, 2866.6103515625, 3864.498291015625, 3194.790771484375, 741.0670166015625, 5989.65185546875, 1562.588623046875, 4626.21728515625, 1499.162841796875, 762.0420532226562, 741.4046020507812, 697.8316040039062, 670.6466064453125, 608.0984497070312, 605.8806762695312, 564.33447265625, 547.1074829101562, 419.7736511230469, 381.076904296875, 378.05303955078125, 364.0037841796875, 359.4570007324219, 358.6679382324219, 356.198486328125, 339.548828125, 323.8223571777344, 309.7351989746094, 305.9547119140625, 298.5623779296875, 292.5113220214844, 245.5098419189453, 244.1812286376953, 232.34365844726562, 226.45330810546875, 210.93943786621094, 203.21563720703125, 202.23733520507812, 197.98684692382812, 733.1520385742188, 526.9813232421875, 325.3063659667969, 955.0463256835938, 899.8652954101562, 1529.4619140625, 1188.4248046875, 2091.037353515625, 940.1087646484375, 1037.6077880859375, 7510.009765625, 406.1554260253906, 1691.0150146484375, 580.542724609375, 4625.908203125, 2466.3232421875, 2355.71728515625, 1242.7813720703125, 1160.0751953125, 1100.9571533203125, 1036.653076171875, 762.7530517578125, 672.06982421875, 648.072998046875, 570.4710083007812, 445.8680114746094, 647.261962890625, 376.8842468261719, 219.0053253173828, 213.16549682617188, 179.6957244873047, 1064.4051513671875, 162.0611572265625, 137.40989685058594, 103.0904541015625, 101.74221801757812, 74.1276626586914, 62.497493743896484, 52.05010986328125, 50.83152770996094, 50.80315017700195, 48.622615814208984, 35.33564376831055, 31.496374130249023, 29.68210792541504, 1372.1180419921875, 2698.86962890625, 515.2778930664062, 1594.2369384765625, 2108.158203125, 683.0205688476562, 907.9574584960938, 2139.500732421875, 1587.9158935546875, 744.6306762695312, 1747.3626708984375, 1781.9801025390625, 2393.3154296875, 1925.7349853515625, 2790.61474609375, 889.1834716796875, 3194.790771484375, 2499.221923828125, 1975.740478515625, 1804.615966796875, 1371.4930419921875, 1273.8167724609375, 598.676025390625, 584.0075073242188, 575.9757080078125, 553.5741577148438, 507.13336181640625, 474.2720642089844, 462.67779541015625, 355.5399169921875, 296.38140869140625, 239.7809295654297, 225.2398681640625, 222.853271484375, 220.300537109375, 193.44976806640625, 188.30422973632812, 186.18190002441406, 176.078369140625, 173.41720581054688, 172.79132080078125, 167.14584350585938, 158.4289093017578, 157.5637969970703, 150.33578491210938, 112.98780822753906, 111.8860092163086, 110.06494140625, 302.09881591796875, 4625.908203125, 283.45745849609375, 1220.0999755859375, 2866.6103515625, 437.4437255859375, 2173.5390625, 480.9070739746094, 1604.59326171875, 3679.89306640625, 3556.106689453125, 992.7548217773438, 959.6956787109375, 748.0542602539062, 665.2103881835938, 657.3867797851562, 581.0361328125, 525.95263671875, 509.1242370605469, 447.3901062011719, 445.476318359375, 438.7373352050781, 369.85601806640625, 351.3757019042969, 322.557861328125, 320.83929443359375, 282.75982666015625, 260.1533203125, 248.52890014648438, 239.18557739257812, 238.858154296875, 234.15341186523438, 224.97845458984375, 221.9822998046875, 214.7043914794922, 196.76283264160156, 196.54319763183594, 194.7788543701172, 178.3168182373047, 171.72903442382812, 170.21913146972656, 728.1463012695312, 543.6550903320312, 1887.9239501953125, 961.912353515625, 512.471923828125, 907.7548217773438, 1059.6370849609375, 2466.992431640625, 1363.0084228515625, 1305.4515380859375, 700.4281616210938, 642.4161376953125, 594.6051025390625, 466.43133544921875, 432.0983581542969, 421.16357421875, 400.9283142089844, 366.40240478515625, 295.37677001953125, 294.4443664550781, 270.2939758300781, 235.2400360107422, 229.64939880371094, 224.2457733154297, 191.253662109375, 180.3545379638672, 174.133544921875, 152.74537658691406, 149.4398193359375, 134.6525421142578, 133.8777618408203, 132.6881561279297, 131.918212890625, 129.96693420410156, 128.6934814453125, 128.49215698242188, 124.41636657714844, 1497.151611328125, 362.5505065917969, 638.8607177734375, 2091.037353515625, 576.5126953125, 384.3614196777344, 612.02490234375, 801.7122192382812, 3466.6201171875, 5989.65185546875, 1426.7388916015625, 1023.5189208984375, 926.7794189453125, 704.1432495117188, 485.2286071777344, 427.0863342285156, 402.474365234375, 394.75048828125, 321.3769226074219, 301.16571044921875, 257.5169677734375, 253.0299072265625, 243.23741149902344, 232.84339904785156, 197.67320251464844, 176.85092163085938, 168.6821746826172, 163.22360229492188, 157.25527954101562, 149.6462860107422, 144.78082275390625, 139.55422973632812, 137.2357940673828, 118.65325927734375, 111.95121002197266, 95.15062713623047, 92.15605926513672, 91.22203826904297, 87.90151977539062, 78.85933685302734, 219.8323516845703, 186.24220275878906, 724.3193969726562, 241.99427795410156, 961.912353515625, 2551.0205078125, 1670.206787109375, 456.9549560546875, 413.34588623046875, 305.514404296875, 265.0960388183594, 235.03201293945312, 181.747314453125, 170.8340301513672, 159.67796325683594, 151.23020935058594, 131.86514282226562, 122.80221557617188, 116.59587860107422, 114.87055206298828, 103.68232727050781, 88.35802459716797, 88.03959655761719, 84.9598159790039, 82.31645965576172, 75.11366271972656, 60.39967346191406, 58.92744064331055, 51.22730255126953, 49.78739547729492, 48.65435028076172, 47.31139373779297, 42.55026626586914, 39.0648078918457, 38.55435562133789, 307.8414611816406, 118.78567504882812, 298.85772705078125, 344.8663024902344, 421.8551330566406, 476.11083984375, 358.1282653808594, 371.40325927734375, 813.8153686523438, 261.6368103027344, 1562.588623046875, 791.312255859375, 741.0670166015625, 801.7080078125, 1327.0394287109375, 1306.1494140625, 1327.89501953125, 1003.1939697265625, 695.971923828125, 602.3138427734375, 525.801025390625, 504.8843078613281, 424.806884765625, 386.2571105957031, 373.82421875, 287.1545104980469, 284.1733093261719, 275.5941162109375, 264.35406494140625, 252.8975830078125, 191.40907287597656, 190.3388214111328, 189.45713806152344, 169.64181518554688, 141.5042724609375, 119.41700744628906, 115.73429107666016, 112.3086166381836, 110.89945220947266, 107.02861785888672, 104.9767837524414, 98.84007263183594, 63.42106246948242, 60.14961242675781, 43.49100112915039, 35.426551818847656, 271.0982971191406, 240.58111572265625, 458.49761962890625, 612.02490234375, 306.5940246582031, 813.8153686523438, 2717.31591796875, 2300.49169921875, 506.7581481933594, 443.1521911621094, 278.1397705078125, 258.86767578125, 233.30702209472656, 214.90858459472656, 189.1903839111328, 168.44752502441406, 152.02203369140625, 144.6109619140625, 129.4059295654297, 124.52076721191406, 110.88546752929688, 82.8503646850586, 70.56571960449219, 59.140140533447266, 51.667449951171875, 40.52811050415039, 18.009132385253906, 461.1285095214844, 14.434422492980957, 587.3667602539062, 1.2388858795166016, 1.2388436794281006, 1.2388404607772827, 1.23883855342865, 1.2388359308242798, 1.238835096359253, 2273.118896484375, 1062.143798828125, 541.9866333007812, 413.18695068359375, 405.04888916015625, 367.8712463378906, 355.0397644042969, 344.6590881347656, 336.9609375, 252.39202880859375, 252.203369140625, 243.00082397460938, 240.98211669921875, 212.2527618408203, 207.3767852783203, 203.35057067871094, 190.36448669433594, 187.73301696777344, 185.5947723388672, 184.74937438964844, 173.4231719970703, 172.7966766357422, 156.67657470703125, 156.3739013671875, 155.7495574951172, 132.95516967773438, 121.34445190429688, 116.88093566894531, 116.77711486816406, 107.82453918457031, 102.16307067871094, 254.9093017578125, 233.43368530273438, 528.849609375, 469.0948181152344, 435.6105041503906, 365.7434387207031, 314.48876953125, 298.13458251953125, 261.11090087890625, 254.71583557128906, 227.4541778564453, 182.3272705078125, 175.79957580566406, 170.40000915527344, 150.9388885498047, 131.57498168945312, 130.01422119140625, 126.887939453125, 99.41532897949219, 97.31148529052734, 90.79621124267578, 83.41236114501953, 83.05088806152344, 73.74710083007812, 71.12618255615234, 70.49784088134766, 63.22771072387695, 60.3729362487793, 57.02764892578125, 53.934513092041016, 53.58854293823242, 50.70800018310547, 724.3193969726562, 147.21424865722656, 481.04669189453125, 686.2898559570312, 422.5755920410156, 369.1829528808594, 325.7663269042969, 314.9001159667969, 297.8760681152344, 292.5542297363281, 217.41070556640625, 204.3360595703125, 197.1582489013672, 186.6770782470703, 179.38861083984375, 159.0008544921875, 142.5778045654297, 132.38258361816406, 131.48631286621094, 119.72698211669922, 110.20616912841797, 107.59700775146484, 106.58834838867188, 96.70148468017578, 88.86446380615234, 87.53973388671875, 83.42597198486328, 80.2078628540039, 67.30364990234375, 63.33464431762695, 62.33772277832031, 60.51700210571289, 53.80537414550781, 261.6368103027344, 379.7597351074219, 623.6751708984375, 503.8562316894531, 408.6689453125, 380.2139587402344, 348.9592590332031, 322.528076171875, 317.152587890625, 288.5487060546875, 242.86669921875, 224.45755004882812, 157.25009155273438, 156.0901641845703, 149.9918975830078, 146.5597381591797, 124.7010726928711, 115.72657012939453, 107.38383483886719, 106.34083557128906, 104.62967681884766, 88.42840576171875, 82.78683471679688, 80.91004943847656, 78.76679229736328, 78.07452392578125, 67.8858871459961, 66.29579162597656, 57.517269134521484, 55.062347412109375, 48.40520095825195, 47.22237777709961, 44.244468688964844, 459.5333557128906, 592.04443359375, 517.8189086914062, 354.2905578613281, 348.073486328125, 246.62594604492188, 235.7649688720703, 222.2379913330078, 221.9631805419922, 157.8907928466797, 155.99940490722656, 145.17970275878906, 144.71861267089844, 119.24874877929688, 111.58135986328125, 104.1260757446289, 88.07915496826172, 84.2212905883789, 76.38704681396484, 74.04336547851562, 67.27111053466797, 63.51595687866211, 61.4629020690918, 58.56808090209961, 52.281951904296875, 50.681766510009766, 49.59465408325195, 49.42610549926758, 45.7390251159668, 34.26459884643555, 34.12408447265625, 453.25848388671875, 339.7294921875, 337.6072692871094, 224.4788360595703, 190.43772888183594, 133.67410278320312, 125.52190399169922, 115.35865783691406, 109.42427062988281, 105.38065338134766, 99.72479248046875, 77.64913177490234, 77.51814270019531, 71.22612762451172, 57.4922981262207, 55.46261215209961, 46.83338165283203, 41.38191604614258, 39.308170318603516, 31.04920768737793, 30.70792007446289, 28.500566482543945, 20.064374923706055, 19.68161964416504, 19.052011489868164, 9.665839195251465, 7.124866962432861, 1.6960285902023315, 213.4888458251953, 461.1285095214844, 134.033935546875, 56.45250701904297, 34.144527435302734, 17.944122314453125, 12.485612869262695, 1.3857033252716064, 1.238964557647705, 1.2388392686843872, 1.2388393878936768, 1.2388396263122559, 1.238839030265808, 1.238844871520996, 1.2389286756515503, 1.2388402223587036, 1.2388249635696411, 1.2388372421264648, 1.2388323545455933, 1.2388241291046143, 1.2388253211975098, 1.238845944404602, 1.2388248443603516, 1.2388272285461426, 1.2388277053833008, 1.238839030265808, 1.238832712173462, 1.2388341426849365, 1.238826036453247, 1.2388231754302979, 1.2388231754302979, 1.2388242483139038, 1.2388246059417725, 1.2388352155685425, 1.2388583421707153, 1.2388296127319336, 1.2388496398925781, 1.2388378381729126, 1.2388511896133423, 1.2388554811477661, 1.2389090061187744, 1.2388625144958496, 1.2389378547668457, 1.2388670444488525, 1.2389845848083496], \"loglift\": [30.0, 29.0, 28.0, 27.0, 26.0, 25.0, 24.0, 23.0, 22.0, 21.0, 20.0, 19.0, 18.0, 17.0, 16.0, 15.0, 14.0, 13.0, 12.0, 11.0, 10.0, 9.0, 8.0, 7.0, 6.0, 5.0, 4.0, 3.0, 2.0, 1.0, 1.0218000411987305, 1.0217000246047974, 1.0217000246047974, 1.0217000246047974, 1.0216000080108643, 1.0216000080108643, 1.0216000080108643, 1.0214999914169312, 1.0214999914169312, 1.021399974822998, 1.021399974822998, 1.021299958229065, 1.021299958229065, 1.021299958229065, 1.021299958229065, 1.021299958229065, 1.0211000442504883, 1.0210000276565552, 1.0210000276565552, 1.0210000276565552, 1.020900011062622, 1.020900011062622, 1.020900011062622, 1.020799994468689, 1.0205999612808228, 1.0205999612808228, 1.0204999446868896, 1.0204999446868896, 1.0204999446868896, 1.0204999446868896, 1.0118999481201172, 0.998199999332428, 1.017799973487854, 1.0056999921798706, 0.982200026512146, 0.9966999888420105, 0.9968000054359436, 0.9699000120162964, 0.982200026512146, 0.991599977016449, 0.9908999800682068, 0.9412999749183655, 0.9279999732971191, 0.9133999943733215, 0.8402000069618225, 0.8690000176429749, 0.830299973487854, 0.869700014591217, 0.8215000033378601, 0.664900004863739, 0.7932000160217285, 0.8959000110626221, 0.3093000054359436, 0.7258999943733215, 1.6051000356674194, 1.6049000024795532, 1.6047999858856201, 1.604699969291687, 1.604699969291687, 1.604599952697754, 1.604599952697754, 1.6044000387191772, 1.6044000387191772, 1.6043000221252441, 1.6043000221252441, 1.604200005531311, 1.604200005531311, 1.604099988937378, 1.6038999557495117, 1.6038000583648682, 1.6038000583648682, 1.603700041770935, 1.603700041770935, 1.603600025177002, 1.603600025177002, 1.603600025177002, 1.603600025177002, 1.603600025177002, 1.6035000085830688, 1.6033999919891357, 1.6033999919891357, 1.6033999919891357, 1.6032999753952026, 1.6032999753952026, 1.6016000509262085, 1.5967999696731567, 1.590499997138977, 1.5688999891281128, 1.5779999494552612, 1.5687999725341797, 1.4924999475479126, 1.5719000101089478, 1.5705000162124634, 1.5449999570846558, 1.5326000452041626, 1.5364999771118164, 1.5038000345230103, 1.3854999542236328, 1.3483999967575073, 1.5492000579833984, 1.434999942779541, 1.219099998474121, 1.410099983215332, 1.5096999406814575, 1.3847999572753906, 1.4285000562667847, 1.3768999576568604, 0.7405999898910522, 1.202299952507019, 0.7415000200271606, 0.7635999917984009, 1.0983999967575073, 1.2419999837875366, 0.8773999810218811, 0.9169999957084656, 0.633400022983551, 1.8324999809265137, 1.8323999643325806, 1.8322999477386475, 1.832200050354004, 1.832200050354004, 1.8321000337600708, 1.8321000337600708, 1.8321000337600708, 1.8320000171661377, 1.8319000005722046, 1.8316999673843384, 1.8316999673843384, 1.8316999673843384, 1.8315999507904053, 1.8315999507904053, 1.8315000534057617, 1.8314000368118286, 1.8314000368118286, 1.8314000368118286, 1.8312000036239624, 1.8310999870300293, 1.8310999870300293, 1.8309999704360962, 1.8309999704360962, 1.8309999704360962, 1.830899953842163, 1.8307000398635864, 1.8307000398635864, 1.8307000398635864, 1.830399990081787, 1.805999994277954, 1.808899998664856, 1.756600022315979, 1.7725000381469727, 1.7065000534057617, 1.5044000148773193, 1.760200023651123, 1.545799970626831, 1.6576000452041626, 1.1069999933242798, 1.5957000255584717, 1.5038000345230103, 1.1856000423431396, 1.3898999691009521, 0.7839000225067139, 1.1200000047683716, 1.0424000024795532, 1.5995999574661255, 0.9430000185966492, 1.0953999757766724, 0.2775000035762787, 0.6481000185012817, 1.2074999809265137, 0.03720000013709068, 3.1245999336242676, 3.124500036239624, 3.124000072479248, 3.1238999366760254, 3.1238999366760254, 3.123800039291382, 3.123800039291382, 3.123800039291382, 3.123699903488159, 3.1236000061035156, 3.1236000061035156, 3.123500108718872, 3.1233999729156494, 3.1233999729156494, 3.123199939727783, 3.122299909591675, 3.1222000122070312, 3.121999979019165, 3.1219000816345215, 3.121799945831299, 3.121500015258789, 3.1212000846862793, 3.121000051498413, 3.1205999851226807, 3.1205999851226807, 3.1201000213623047, 3.1189000606536865, 3.1185998916625977, 3.1184000968933105, 3.1182000637054443, 3.1135001182556152, 3.0257999897003174, 3.020900011062622, 2.9730000495910645, 3.002700090408325, 2.984100103378296, 2.9052000045776367, 2.899399995803833, 2.655600070953369, 2.5074000358581543, 2.112299919128418, 2.1624999046325684, 2.771399974822998, 1.4981000423431396, 2.235300064086914, 1.5019999742507935, 3.169800043106079, 3.1689999103546143, 3.1689999103546143, 3.1689000129699707, 3.168800115585327, 3.168600082397461, 3.168600082397461, 3.1684999465942383, 3.1684000492095947, 3.167799949645996, 3.1675000190734863, 3.1675000190734863, 3.1673998832702637, 3.16729998588562, 3.16729998588562, 3.16729998588562, 3.167099952697754, 3.1670000553131104, 3.166800022125244, 3.1666998863220215, 3.166599988937378, 3.166599988937378, 3.165800094604492, 3.165800094604492, 3.1654999256134033, 3.1654000282287598, 3.1649999618530273, 3.164799928665161, 3.164799928665161, 3.1647000312805176, 3.1586999893188477, 3.1547000408172607, 3.1412999629974365, 3.0518999099731445, 3.0534000396728516, 2.870500087738037, 2.8977999687194824, 2.532099962234497, 2.7018001079559326, 2.572200059890747, 1.1978000402450562, 2.981100082397461, 1.9450000524520874, 2.721400022506714, 0.5864999890327454, 3.343899965286255, 3.343899965286255, 3.3434998989105225, 3.343400001525879, 3.3433001041412354, 3.3433001041412354, 3.342900037765503, 3.3427000045776367, 3.342600107192993, 3.342400074005127, 3.3417999744415283, 3.3417000770568848, 3.3413000106811523, 3.339099884033203, 3.338900089263916, 3.337899923324585, 3.3376998901367188, 3.3371999263763428, 3.335900068283081, 3.3329999446868896, 3.332900047302246, 3.3285999298095703, 3.3255999088287354, 3.3217999935150146, 3.321199893951416, 3.321199893951416, 3.3201000690460205, 3.3108999729156494, 3.3066999912261963, 3.30430006980896, 3.3020999431610107, 3.259999990463257, 3.2411999702453613, 3.198199987411499, 3.182300090789795, 3.201900005340576, 3.1835999488830566, 3.113800048828125, 2.9123001098632812, 2.9870998859405518, 2.8301000595092773, 2.411400079727173, 2.17330002784729, 2.154099941253662, 1.8539999723434448, 2.506700038909912, 1.4537999629974365, 1.4996000528335571, 3.800299882888794, 3.800299882888794, 3.799999952316284, 3.799999952316284, 3.7988998889923096, 3.7988998889923096, 3.7988998889923096, 3.798799991607666, 3.7985999584198, 3.7983999252319336, 3.7983999252319336, 3.797600030899048, 3.7969000339508057, 3.7960000038146973, 3.7957000732421875, 3.795599937438965, 3.7955000400543213, 3.794800043106079, 3.794600009918213, 3.794600009918213, 3.7941999435424805, 3.794100046157837, 3.794100046157837, 3.793800115585327, 3.7934999465942383, 3.7934000492095947, 3.7929999828338623, 3.7904000282287598, 3.790299892425537, 3.7901999950408936, 3.643399953842163, 2.605799913406372, 3.490000009536743, 2.724299907684326, 2.175800085067749, 3.1946001052856445, 2.205199956893921, 3.0973000526428223, 2.1159000396728516, 1.4225000143051147, 1.1461999416351318, 3.827899932861328, 3.827899932861328, 3.827500104904175, 3.8273000717163086, 3.8273000717163086, 3.8271000385284424, 3.826900005340576, 3.8268001079559326, 3.8264999389648438, 3.8264000415802, 3.8264000415802, 3.825900077819824, 3.825700044631958, 3.8254001140594482, 3.8254001140594482, 3.824899911880493, 3.8245999813079834, 3.8243000507354736, 3.824199914932251, 3.824199914932251, 3.8241000175476074, 3.8238000869750977, 3.8238000869750977, 3.8236000537872314, 3.8231000900268555, 3.8231000900268555, 3.822999954223633, 3.822499990463257, 3.822200059890747, 3.822200059890747, 3.8201000690460205, 3.783400058746338, 3.656899929046631, 3.6975998878479004, 3.6101999282836914, 2.7392001152038574, 2.541300058364868, 3.8559000492095947, 3.8554999828338623, 3.8554999828338623, 3.8547000885009766, 3.8545000553131104, 3.8543999195098877, 3.853800058364868, 3.853600025177002, 3.853600025177002, 3.8533999919891357, 3.853100061416626, 3.852400064468384, 3.852400064468384, 3.8519999980926514, 3.851300001144409, 3.8512001037597656, 3.851099967956543, 3.8501999378204346, 3.8498001098632812, 3.849600076675415, 3.848599910736084, 3.8485000133514404, 3.847599983215332, 3.8475000858306885, 3.8475000858306885, 3.847399950027466, 3.8473000526428223, 3.8471999168395996, 3.8471999168395996, 3.84689998626709, 3.5622000694274902, 3.6024999618530273, 3.425800085067749, 3.1041998863220215, 3.341599941253662, 3.252700090408325, 2.740000009536743, 2.509000062942505, 1.055799961090088, 0.25450000166893005, 4.324699878692627, 4.324399948120117, 4.3242998123168945, 4.32390022277832, 4.3231000900268555, 4.322800159454346, 4.3225998878479, 4.3225998878479, 4.321899890899658, 4.321700096130371, 4.321000099182129, 4.320899963378906, 4.320700168609619, 4.320499897003174, 4.3196001052856445, 4.318900108337402, 4.318600177764893, 4.318299770355225, 4.3180999755859375, 4.317699909210205, 4.317399978637695, 4.3171000480651855, 4.316999912261963, 4.3155999183654785, 4.315000057220459, 4.3130998611450195, 4.312699794769287, 4.312600135803223, 4.312099933624268, 4.310500144958496, 4.283899784088135, 3.992300033569336, 3.3822999000549316, 3.6240999698638916, 2.2179999351501465, 4.38670015335083, 4.38640022277832, 4.3846001625061035, 4.384300231933594, 4.383299827575684, 4.382699966430664, 4.3821001052856445, 4.3805999755859375, 4.380199909210205, 4.379700183868408, 4.379300117492676, 4.3780999183654785, 4.377500057220459, 4.376999855041504, 4.376800060272217, 4.375699996948242, 4.373700141906738, 4.373600006103516, 4.3730998039245605, 4.372700214385986, 4.371300220489502, 4.367400169372559, 4.3668999671936035, 4.363800048828125, 4.363100051879883, 4.362500190734863, 4.361800193786621, 4.359000205993652, 4.356400012969971, 4.355999946594238, 4.316400051116943, 4.299300193786621, 4.062900066375732, 3.877500057220459, 3.821199893951416, 3.6175999641418457, 3.6594998836517334, 3.5499000549316406, 3.055299997329712, 3.6278998851776123, 2.549799919128418, 2.9030001163482666, 2.938199996948242, 2.781599998474121, 2.0664000511169434, 2.020400047302246, 4.424499988555908, 4.424200057983398, 4.423699855804443, 4.423399925231934, 4.423099994659424, 4.422999858856201, 4.422599792480469, 4.422299861907959, 4.4222002029418945, 4.421199798583984, 4.421199798583984, 4.42110013961792, 4.420899868011475, 4.4207000732421875, 4.4191999435424805, 4.4191999435424805, 4.419099807739258, 4.418399810791016, 4.416999816894531, 4.415500164031982, 4.41510009765625, 4.41480016708374, 4.414700031280518, 4.414299964904785, 4.414100170135498, 4.413400173187256, 4.406599998474121, 4.405600070953369, 4.397900104522705, 4.391600131988525, 4.246600151062012, 4.248199939727783, 4.110899925231934, 4.025899887084961, 3.3982999324798584, 2.4948999881744385, 4.490600109100342, 4.490499973297119, 4.488699913024902, 4.488399982452393, 4.486800193786621, 4.486499786376953, 4.486000061035156, 4.485599994659424, 4.484899997711182, 4.484099864959717, 4.483399868011475, 4.482999801635742, 4.482100009918213, 4.4816999435424805, 4.480599880218506, 4.4770002365112305, 4.474599838256836, 4.471399784088135, 4.468500137329102, 4.462299823760986, 4.425099849700928, 4.422999858856201, 4.408199787139893, 3.91759991645813, 1.8848999738693237, 1.8848999738693237, 1.8848999738693237, 1.8848999738693237, 1.8847999572753906, 1.8847999572753906, -1.0118999481201172, 4.501500129699707, 4.500400066375732, 4.49970006942749, 4.49970006942749, 4.4994001388549805, 4.499199867248535, 4.499199867248535, 4.499100208282471, 4.497900009155273, 4.497900009155273, 4.497700214385986, 4.497700214385986, 4.497000217437744, 4.4969000816345215, 4.496799945831299, 4.496399879455566, 4.496300220489502, 4.496200084686279, 4.496200084686279, 4.495800018310547, 4.495800018310547, 4.494999885559082, 4.494999885559082, 4.494999885559082, 4.49370002746582, 4.4928998947143555, 4.492499828338623, 4.492499828338623, 4.491600036621094, 4.491000175476074, 4.320300102233887, 4.0528998374938965, 4.85699987411499, 4.8566999435424805, 4.856500148773193, 4.855999946594238, 4.855500221252441, 4.855299949645996, 4.854700088500977, 4.854599952697754, 4.854100227355957, 4.852799892425537, 4.852499961853027, 4.85230016708374, 4.851399898529053, 4.850299835205078, 4.850200176239014, 4.849899768829346, 4.847300052642822, 4.847099781036377, 4.846199989318848, 4.84499979019165, 4.84499979019165, 4.843200206756592, 4.842599868774414, 4.842400074005127, 4.8404998779296875, 4.839600086212158, 4.838399887084961, 4.837200164794922, 4.836999893188477, 4.8358001708984375, 4.091000080108643, 4.333099842071533, 2.7435998916625977, 4.914999961853027, 4.914000034332275, 4.913599967956543, 4.913099765777588, 4.913000106811523, 4.912799835205078, 4.912700176239014, 4.911300182342529, 4.910999774932861, 4.910699844360352, 4.910399913787842, 4.910099983215332, 4.909299850463867, 4.908400058746338, 4.907800197601318, 4.907700061798096, 4.906799793243408, 4.906000137329102, 4.905700206756592, 4.905600070953369, 4.904399871826172, 4.90339994430542, 4.903200149536133, 4.902500152587891, 4.901899814605713, 4.89900016784668, 4.897900104522705, 4.897600173950195, 4.896999835968018, 4.894499778747559, 4.277500152587891, 3.1995999813079834, 2.6689000129699707, 4.9822001457214355, 4.981599807739258, 4.981400012969971, 4.981100082397461, 4.980800151824951, 4.980800151824951, 4.980400085449219, 4.979599952697754, 4.9791998863220215, 4.9770002365112305, 4.976900100708008, 4.976600170135498, 4.976399898529053, 4.974999904632568, 4.974299907684326, 4.973499774932861, 4.973299980163574, 4.973199844360352, 4.971099853515625, 4.970099925994873, 4.969799995422363, 4.969399929046631, 4.969299793243408, 4.9670000076293945, 4.9664998054504395, 4.963799953460693, 4.962800025939941, 4.959799766540527, 4.959199905395508, 4.957499980926514, 4.53879976272583, 5.1072998046875, 5.10699987411499, 5.105899810791016, 5.105899810791016, 5.104499816894531, 5.104300022125244, 5.104000091552734, 5.103899955749512, 5.101799964904785, 5.1016998291015625, 5.101099967956543, 5.101099967956543, 5.099299907684326, 5.098599910736084, 5.097899913787842, 5.095799922943115, 5.095099925994873, 5.093699932098389, 5.093200206756592, 5.0914998054504395, 5.0904998779296875, 5.089799880981445, 5.088900089263916, 5.086400032043457, 5.085599899291992, 5.085100173950195, 5.085000038146973, 5.083099842071533, 5.074100017547607, 5.073999881744385, 5.486100196838379, 5.485199928283691, 5.485199928283691, 5.483399868011475, 5.482399940490723, 5.479700088500977, 5.479100227355957, 5.478300094604492, 5.477700233459473, 5.47730016708374, 5.4766998291015625, 5.473199844360352, 5.473199844360352, 5.471799850463867, 5.467700004577637, 5.466899871826172, 5.462900161743164, 5.459400177001953, 5.457799911499023, 5.44950008392334, 5.448999881744385, 5.445899963378906, 5.427299976348877, 5.42609977722168, 5.423999786376953, 5.356800079345703, 5.305200099945068, 4.270199775695801, 4.20419979095459, 2.7298998832702637, 6.995999813079834, 6.98330020904541, 6.968800067901611, 6.934800148010254, 6.902400016784668, 4.886499881744385, 2.862499952316284, 2.8624000549316406, 2.8624000549316406, 2.8624000549316406, 2.8624000549316406, 2.8624000549316406, 2.8624000549316406, 2.862299919128418, 2.862299919128418, 2.862299919128418, 2.862299919128418, 2.862299919128418, 2.862299919128418, 2.862299919128418, 2.862299919128418, 2.862299919128418, 2.862299919128418, 2.862299919128418, 2.862299919128418, 2.862299919128418, 2.862299919128418, 2.862299919128418, 2.862299919128418, 2.862299919128418, 2.862299919128418, 2.862299919128418, 2.862299919128418, 2.862299919128418, 2.862299919128418, 2.862299919128418, 2.862299919128418, 2.862299919128418, 2.8622000217437744, 2.862299919128418, 2.8622000217437744, 2.8622000217437744, 2.8622000217437744], \"logprob\": [30.0, 29.0, 28.0, 27.0, 26.0, 25.0, 24.0, 23.0, 22.0, 21.0, 20.0, 19.0, 18.0, 17.0, 16.0, 15.0, 14.0, 13.0, 12.0, 11.0, 10.0, 9.0, 8.0, 7.0, 6.0, 5.0, 4.0, 3.0, 2.0, 1.0, -3.410099983215332, -3.8529000282287598, -3.9839999675750732, -3.9951000213623047, -4.502099990844727, -4.655600070953369, -4.669099807739258, -4.914599895477295, -4.973599910736084, -5.053400039672852, -5.112400054931641, -5.253300189971924, -5.3069000244140625, -5.325200080871582, -5.357999801635742, -5.375400066375732, -5.65339994430542, -5.767199993133545, -5.769400119781494, -5.774700164794922, -5.817299842834473, -5.823400020599365, -5.842100143432617, -5.919000148773193, -6.088600158691406, -6.132999897003174, -6.1697001457214355, -6.180500030517578, -6.184299945831299, -6.2058000564575195, -4.046299934387207, -3.2486000061035156, -5.510900020599365, -4.403900146484375, -3.2829999923706055, -4.222799777984619, -4.44290018081665, -3.921099901199341, -4.754799842834473, -5.071000099182129, -5.1631999015808105, -4.732399940490723, -4.692500114440918, -4.595600128173828, -4.178100109100342, -4.398799896240234, -4.359300136566162, -4.728300094604492, -4.683000087738037, -4.297399997711182, -4.746699810028076, -4.973299980163574, -4.571100234985352, -4.932400226593018, -4.303100109100342, -4.806399822235107, -5.010200023651123, -5.0218000411987305, -5.055500030517578, -5.142300128936768, -5.182000160217285, -5.380000114440918, -5.4105000495910645, -5.455399990081787, -5.494800090789795, -5.533699989318848, -5.572400093078613, -5.641600131988525, -5.754300117492676, -5.792200088500977, -5.7957000732421875, -5.866199970245361, -5.8730998039245605, -5.902400016784668, -5.912799835205078, -5.928500175476074, -5.928800106048584, -5.946899890899658, -5.960599899291992, -6.002099990844727, -6.0100998878479, -6.012700080871582, -6.048500061035156, -6.048999786376953, -4.703199863433838, -5.181600093841553, -5.439499855041504, -5.055699825286865, -5.419600009918213, -5.337600231170654, -4.317699909210205, -5.498000144958496, -5.515699863433838, -5.232600212097168, -5.148799896240234, -5.201600074768066, -4.991099834442139, -4.111999988555908, -3.8907999992370605, -5.395400047302246, -4.928100109100342, -4.039899826049805, -4.918300151824951, -5.289999961853027, -4.947700023651123, -5.128300189971924, -5.03000020980835, -4.300899982452393, -4.95419979095459, -4.773200035095215, -4.812900066375732, -5.1097002029418945, -5.188600063323975, -5.029699802398682, -5.12470006942749, -5.092899799346924, -4.026100158691406, -4.1656999588012695, -4.440700054168701, -4.495500087738037, -4.650599956512451, -4.679200172424316, -4.735899925231934, -4.752200126647949, -4.8572998046875, -4.987299919128418, -5.14870023727417, -5.149499893188477, -5.197800159454346, -5.247799873352051, -5.264599800109863, -5.347499847412109, -5.366300106048584, -5.375999927520752, -5.3850998878479, -5.539700031280518, -5.569699764251709, -5.594799995422363, -5.620699882507324, -5.653200149536133, -5.662300109863281, -5.672999858856201, -5.7754998207092285, -5.789899826049805, -5.7972002029418945, -5.9070000648498535, -4.032899856567383, -5.269499778747559, -4.725900173187256, -5.018499851226807, -4.450099945068359, -3.5085999965667725, -5.197299957275391, -4.488100051879883, -5.144800186157227, -3.773400068283081, -5.040200233459473, -4.917500019073486, -4.49970006942749, -4.823200225830078, -4.257699966430664, -4.732500076293945, -4.718100070953369, -5.115200042724609, -4.8429999351501465, -4.946400165557861, -4.684800148010254, -5.010000228881836, -5.0777997970581055, -4.981100082397461, -3.2964000701904297, -3.390500068664551, -3.9388999938964844, -4.0040998458862305, -4.059599876403809, -4.114099979400635, -4.118800163269043, -4.135000228881836, -4.1483001708984375, -4.246099948883057, -4.246500015258789, -4.27810001373291, -4.327600002288818, -4.359899997711182, -4.432799816131592, -4.817200183868408, -4.839700222015381, -4.915200233459473, -4.948299884796143, -4.974899768829346, -5.054500102996826, -5.146100044250488, -5.191999912261963, -5.278600215911865, -5.2866997718811035, -5.378600120544434, -5.594900131225586, -5.646100044250488, -5.663899898529053, -5.700399875640869, -3.813499927520752, -3.736299991607666, -3.7253000736236572, -3.6092000007629395, -4.034299850463867, -4.232800006866455, -3.895699977874756, -4.350800037384033, -3.6677000522613525, -3.4686999320983887, -3.565000057220459, -3.705199956893921, -4.557499885559082, -3.7411000728607178, -4.347599983215332, -3.995500087738037, -3.4544999599456787, -4.131899833679199, -4.15939998626709, -4.220099925994873, -4.259900093078613, -4.357999801635742, -4.361599922180176, -4.432799816131592, -4.463900089263916, -4.729499816894531, -4.826499938964844, -4.834400177001953, -4.872399806976318, -4.885000228881836, -4.887199878692627, -4.894199848175049, -4.942200183868408, -4.989799976348877, -5.03439998626709, -5.046800136566162, -5.071300029754639, -5.091899871826172, -5.2677998542785645, -5.2733001708984375, -5.323200225830078, -5.348999977111816, -5.420400142669678, -5.457900047302246, -5.462699890136719, -5.484099864959717, -4.1809000968933105, -4.515100002288818, -5.010900020599365, -4.0233001708984375, -4.081299781799316, -3.733799934387207, -3.9588000774383545, -3.759399890899658, -4.389200210571289, -4.420100212097168, -3.815200090408325, -4.949100017547607, -4.558899879455566, -4.851500034332275, -4.910999774932861, -2.7825000286102295, -2.828399896621704, -3.468400001525879, -3.5373001098632812, -3.5896999835968018, -3.649899959564209, -3.9570999145507812, -4.083899974822998, -4.1203999519348145, -4.2480998039245605, -4.495100021362305, -4.122499942779541, -4.663700103759766, -5.208799839019775, -5.236000061035156, -5.407800197601318, -3.6291000843048096, -5.5117998123168945, -5.678100109100342, -5.968299865722656, -5.981599807739258, -6.302599906921387, -6.47629976272583, -6.663000106811523, -6.68720006942749, -6.68779993057251, -6.732699871063232, -7.061200141906738, -7.1803998947143555, -7.242099761962891, -3.4107000827789307, -2.7762999534606934, -4.451099872589111, -3.3645999431610107, -3.101099967956543, -4.208499908447266, -3.9421000480651855, -3.1547999382019043, -3.6545000076293945, -4.336999893188477, -3.6410000324249268, -4.04010009765625, -3.9832000732421875, -4.219799995422363, -4.148900032043457, -4.639999866485596, -4.413899898529053, -4.61359977722168, -2.5478999614715576, -2.6386001110076904, -2.913300037384033, -2.9872000217437744, -3.743299961090088, -3.768199920654297, -3.7820000648498535, -3.8217999935150146, -3.909600019454956, -3.976799964904785, -4.0015997886657715, -4.265699863433838, -4.448400020599365, -4.661200046539307, -4.724100112915039, -4.734799861907959, -4.746399879455566, -4.877099990844727, -4.904300212860107, -4.9156999588012695, -4.971799850463867, -4.987199783325195, -4.990799903869629, -5.024199962615967, -5.078199863433838, -5.083700180053711, -5.13100004196167, -5.4191999435424805, -5.429100036621094, -5.445700168609619, -4.582799911499023, -2.891700029373169, -4.799900054931641, -4.105999946594238, -3.800299882888794, -4.661499977111816, -4.047699928283691, -4.664000034332275, -4.440400123596191, -4.303800106048584, -4.614299774169922, -3.2086000442504883, -3.242500066757202, -3.492000102996826, -3.609499931335449, -3.6214001178741455, -3.7451000213623047, -3.844899892807007, -3.877500057220459, -4.0071001052856445, -4.01140022277832, -4.026599884033203, -4.19789981842041, -4.2494001388549805, -4.33519983291626, -4.34060001373291, -4.467400074005127, -4.55109977722168, -4.5970001220703125, -4.6356000900268555, -4.636899948120117, -4.656899929046631, -4.6971001625061035, -4.710599899291992, -4.744100093841553, -4.831900119781494, -4.833000183105469, -4.842100143432617, -4.9309000968933105, -4.968800067901611, -4.977700233459473, -3.5262999534606934, -3.8552000522613525, -2.736799955368042, -3.3703999519348145, -4.087500095367432, -4.3867998123168945, -4.429999828338623, -2.2702999114990234, -2.864000082015991, -2.9072000980377197, -3.530600070953369, -3.6171998977661133, -3.694700002670288, -3.937999963760376, -4.014699935913086, -4.04040002822876, -4.089799880981445, -4.180099964141846, -4.396299839019775, -4.399499893188477, -4.485400199890137, -4.625, -4.649199962615967, -4.673099994659424, -4.833199977874756, -4.892199993133545, -4.927499771118164, -5.059599876403809, -5.081600189208984, -5.186699867248535, -5.192500114440918, -5.201499938964844, -5.207399845123291, -5.222400188446045, -5.2322998046875, -5.23390007019043, -5.266499996185303, -3.0634000301361084, -4.441299915313721, -4.051499843597412, -3.187299966812134, -4.23829984664917, -4.732699871063232, -4.780200004577637, -4.741199970245361, -4.730199813842773, -4.9847002029418945, -2.349100112915039, -2.68149995803833, -2.780900001525879, -3.0560998916625977, -3.4291999340057373, -3.5571999549865723, -3.6166999340057373, -3.6361000537872314, -3.842400074005127, -3.907599925994873, -4.064899921417236, -4.082499980926514, -4.122200012207031, -4.166100025177002, -4.330699920654297, -4.442800045013428, -4.4903998374938965, -4.523499965667725, -4.560999870300293, -4.611000061035156, -4.6442999839782715, -4.681399822235107, -4.698299884796143, -4.845099925994873, -4.903900146484375, -5.068399906158447, -5.100800037384033, -5.111100196838379, -5.148600101470947, -5.258800029754639, -4.260200023651123, -4.717599868774414, -3.969399929046631, -4.82390022277832, -4.850100040435791, -1.7059999704360962, -2.1298000812530518, -3.427799940109253, -3.52839994430542, -3.831700086593628, -3.9742000102996826, -4.095099925994873, -4.353700160980225, -4.416100025177002, -4.484099864959717, -4.538899898529053, -4.677000045776367, -4.748899936676025, -4.801300048828125, -4.816299915313721, -4.919899940490723, -5.081900119781494, -5.0854997634887695, -5.121600151062012, -5.15369987487793, -5.246699810028076, -5.468599796295166, -5.493800163269043, -5.636899948120117, -5.666100025177002, -5.689700126647949, -5.718400001525879, -5.827300071716309, -5.915299892425537, -5.928899765014648, -3.8910000324249268, -4.860300064086914, -4.174099922180176, -4.216300010681152, -4.071100234985352, -4.15369987487793, -4.396599769592285, -4.469699859619141, -4.179900169372559, -4.742099761962891, -4.0329999923706055, -4.360199928283691, -4.390699863433838, -4.468599796295166, -4.679800033569336, -4.741700172424316, -2.3210999965667725, -2.601799964904785, -2.9679999351501465, -3.112799882888794, -3.2488999366760254, -3.289599895477295, -3.4626998901367188, -3.558199882507324, -3.5910000801086426, -3.8557000160217285, -3.8661999702453613, -3.8970000743865967, -3.938800096511841, -3.983299970626831, -4.263400077819824, -4.269000053405762, -4.27370023727417, -4.384900093078613, -4.567599773406982, -4.738900184631348, -4.770500183105469, -4.800899982452393, -4.813600063323975, -4.849599838256836, -4.869100093841553, -4.930099964141846, -5.380499839782715, -5.434500217437744, -5.76639986038208, -5.97790002822876, -4.087800025939941, -4.205699920654297, -3.6981000900268555, -3.49429988861084, -4.8130998611450195, -4.740300178527832, -1.5390000343322754, -1.7056000232696533, -3.2202000617980957, -3.3547000885009766, -3.822000026702881, -3.8940999507904053, -3.998500108718872, -4.081099987030029, -4.2093000411987305, -4.326200008392334, -4.429500102996826, -4.479899883270264, -4.591899871826172, -4.630799770355225, -4.747900009155273, -5.042900085449219, -5.2058000564575195, -5.385700225830078, -5.523600101470947, -5.77269983291626, -6.6209001541137695, -3.3803000450134277, -6.8592000007629395, -3.643699884414673, -11.837800025939941, -11.837900161743164, -11.837900161743164, -11.837900161743164, -11.837900161743164, -11.838000297546387, -7.21999979019165, -2.4674999713897705, -3.1412999629974365, -3.413300037384033, -3.433300018310547, -3.529900074005127, -3.565500020980835, -3.5952000617980957, -3.6178998947143555, -3.908099889755249, -3.908799886703491, -3.946199893951416, -3.9544999599456787, -4.082200050354004, -4.105500221252441, -4.125199794769287, -4.1915998458862305, -4.205599784851074, -4.217199802398682, -4.221799850463867, -4.285399913787842, -4.289100170135498, -4.387700080871582, -4.389699935913086, -4.393700122833252, -4.553199768066406, -4.645500183105469, -4.683300018310547, -4.684199810028076, -4.764800071716309, -4.819399833679199, -4.075799942016602, -4.43120002746582, -2.8092000484466553, -2.9293999671936035, -3.003700017929077, -3.178999900817871, -3.3304998874664307, -3.3840999603271484, -3.5172998905181885, -3.5422000885009766, -3.655900001525879, -3.8784000873565674, -3.91510009765625, -3.946500062942505, -4.068699836730957, -4.207099914550781, -4.219200134277344, -4.24370002746582, -4.490300178527832, -4.51200008392334, -4.582099914550781, -4.668099880218506, -4.672500133514404, -4.7932000160217285, -4.829899787902832, -4.839000225067139, -4.94980001449585, -4.9969000816345215, -5.054999828338623, -5.111999988555908, -5.118599891662598, -5.175099849700928, -3.260699987411499, -4.611999988555908, -5.017300128936768, -2.490600109100342, -2.976599931716919, -3.1120998859405518, -3.237600088119507, -3.271699905395508, -3.327500104904175, -3.345599889755249, -3.643899917602539, -3.706199884414673, -3.7421998977661133, -3.7971999645233154, -3.8371999263763428, -3.958699941635132, -4.068600177764893, -4.143499851226807, -4.150300025939941, -4.244900226593018, -4.32859992980957, -4.35290002822876, -4.362400054931641, -4.460899829864502, -4.546500205993652, -4.561699867248535, -4.610499858856201, -4.650400161743164, -4.828700065612793, -4.890600204467773, -4.906799793243408, -4.936999797821045, -5.05709981918335, -4.09250020980835, -4.797800064086914, -4.832399845123291, -2.7325000762939453, -2.9423999786376953, -3.0148000717163086, -3.1008999347686768, -3.1798999309539795, -3.1967999935150146, -3.2916998863220215, -3.4647998809814453, -3.5439999103546143, -3.902100086212158, -3.909600019454956, -3.9498000144958496, -3.973099946975708, -4.136000156402588, -4.21150016784668, -4.287099838256836, -4.296999931335449, -4.313399791717529, -4.483699798583984, -4.55049991607666, -4.573800086975098, -4.601099967956543, -4.610000133514404, -4.752200126647949, -4.776299953460693, -4.92110013961792, -4.965700149536133, -5.097499847412109, -5.122900009155273, -5.189799785614014, -3.267899990081787, -2.4460999965667725, -2.5803000926971436, -2.960900068283081, -2.9786999225616455, -3.3245999813079834, -3.3698999881744385, -3.42930006980896, -3.430500030517578, -3.7732999324798584, -3.785399913787842, -3.8578999042510986, -3.8610999584198, -4.056399822235107, -4.123600006103516, -4.19350004196167, -4.36299991607666, -4.408400058746338, -4.507500171661377, -4.539100170135498, -4.63670015335083, -4.695199966430664, -4.728700160980225, -4.777900218963623, -4.893899917602539, -4.9257001876831055, -4.947999954223633, -4.951399803161621, -5.030900001525879, -5.328700065612793, -5.333000183105469, -2.334399938583374, -2.6236000061035156, -2.6298999786376953, -3.039799928665161, -3.205199956893921, -3.561800003051758, -3.6252999305725098, -3.710599899291992, -3.7639999389648438, -3.8020999431610107, -3.8578999042510986, -4.111599922180176, -4.11329984664917, -4.1992998123168945, -4.417600154876709, -4.4542999267578125, -4.627500057220459, -4.754700183868408, -4.807700157165527, -5.0518999099731445, -5.063399791717529, -5.14109992980957, -5.510700225830078, -5.531199932098389, -5.565800189971924, -6.311600208282471, -6.6682000160217285, -9.138500213623047, -4.369200229644775, -5.073400020599365, -2.042799949645996, -2.9202001094818115, -3.4375, -4.1149001121521, -4.509900093078613, -8.724200248718262, -10.860199928283691, -10.860400199890137, -10.860400199890137, -10.860400199890137, -10.860400199890137, -10.860400199890137, -10.860400199890137, -10.86050033569336, -10.86050033569336, -10.86050033569336, -10.86050033569336, -10.86050033569336, -10.86050033569336, -10.86050033569336, -10.86050033569336, -10.86050033569336, -10.86050033569336, -10.86050033569336, -10.86050033569336, -10.86050033569336, -10.86050033569336, -10.86050033569336, -10.86050033569336, -10.86050033569336, -10.86050033569336, -10.86050033569336, -10.86050033569336, -10.86050033569336, -10.86050033569336, -10.86050033569336, -10.86050033569336, -10.86050033569336, -10.86050033569336, -10.86050033569336, -10.86050033569336, -10.86050033569336, -10.86050033569336]}, \"token.table\": {\"Topic\": [10, 19, 8, 11, 17, 8, 17, 2, 3, 6, 10, 1, 8, 1, 3, 9, 1, 2, 3, 2, 11, 10, 19, 10, 8, 15, 4, 4, 6, 8, 15, 3, 5, 5, 1, 19, 8, 5, 9, 10, 11, 6, 16, 2, 4, 6, 7, 10, 12, 13, 1, 1, 14, 2, 3, 14, 11, 1, 1, 2, 3, 5, 3, 3, 17, 10, 4, 7, 12, 10, 2, 4, 19, 9, 4, 2, 14, 7, 20, 10, 15, 16, 7, 7, 4, 18, 2, 5, 16, 12, 15, 1, 4, 11, 18, 11, 12, 1, 2, 3, 16, 14, 14, 19, 9, 11, 4, 1, 2, 3, 5, 9, 1, 2, 3, 18, 10, 16, 2, 1, 2, 15, 3, 5, 9, 3, 3, 17, 5, 5, 3, 3, 12, 11, 7, 12, 2, 6, 14, 4, 1, 3, 5, 2, 8, 15, 15, 15, 4, 6, 15, 3, 19, 6, 17, 16, 12, 17, 3, 10, 15, 2, 17, 4, 14, 11, 6, 6, 2, 11, 1, 3, 3, 5, 9, 1, 7, 7, 9, 14, 8, 18, 19, 5, 9, 5, 9, 11, 9, 14, 18, 2, 4, 10, 2, 11, 3, 5, 11, 4, 7, 8, 9, 15, 14, 3, 17, 15, 18, 2, 12, 2, 2, 9, 12, 19, 16, 1, 5, 16, 10, 18, 19, 16, 3, 16, 19, 4, 4, 9, 6, 4, 7, 16, 7, 17, 5, 7, 11, 4, 11, 11, 17, 17, 8, 6, 10, 6, 9, 11, 12, 18, 1, 3, 6, 7, 1, 3, 3, 4, 8, 3, 20, 17, 2, 8, 10, 9, 15, 12, 4, 3, 3, 12, 11, 11, 12, 3, 16, 7, 12, 6, 1, 4, 11, 12, 12, 8, 18, 12, 2, 1, 5, 6, 13, 2, 7, 5, 9, 1, 2, 3, 5, 7, 19, 7, 15, 3, 5, 6, 18, 18, 1, 2, 5, 11, 2, 7, 11, 15, 15, 1, 2, 4, 5, 5, 1, 7, 8, 1, 7, 5, 9, 4, 17, 15, 2, 3, 5, 17, 1, 6, 9, 11, 1, 1, 9, 16, 1, 14, 14, 2, 11, 18, 11, 7, 8, 19, 9, 1, 4, 14, 2, 2, 5, 1, 2, 3, 3, 14, 4, 9, 1, 6, 16, 8, 6, 17, 8, 14, 2, 4, 6, 2, 3, 18, 15, 1, 6, 2, 6, 5, 17, 11, 16, 15, 13, 12, 1, 10, 10, 10, 9, 16, 5, 8, 2, 3, 9, 17, 3, 9, 5, 6, 1, 3, 12, 5, 10, 2, 1, 2, 5, 7, 2, 13, 3, 9, 18, 19, 3, 9, 8, 1, 2, 6, 9, 1, 3, 1, 2, 11, 1, 1, 2, 4, 6, 18, 2, 6, 1, 1, 3, 5, 3, 1, 2, 6, 20, 1, 7, 1, 2, 11, 13, 11, 4, 6, 16, 6, 18, 2, 17, 1, 2, 3, 5, 3, 5, 8, 15, 4, 13, 1, 2, 3, 6, 6, 19, 17, 1, 3, 13, 1, 2, 3, 1, 15, 1, 3, 16, 16, 8, 4, 1, 2, 6, 12, 2, 11, 11, 11, 5, 5, 8, 13, 19, 4, 4, 11, 16, 19, 1, 4, 13, 8, 6, 12, 12, 14, 4, 13, 1, 2, 3, 5, 2, 3, 1, 3, 6, 5, 1, 2, 4, 6, 12, 1, 2, 4, 1, 2, 7, 2, 7, 18, 17, 2, 3, 10, 14, 2, 15, 10, 3, 10, 6, 5, 7, 3, 4, 14, 13, 13, 13, 2, 3, 1, 17, 17, 8, 11, 18, 9, 6, 8, 1, 2, 3, 13, 6, 13, 16, 1, 12, 8, 19, 1, 3, 5, 5, 7, 11, 12, 12, 3, 10, 18, 10, 16, 1, 7, 15, 7, 13, 7, 14, 13, 1, 2, 3, 7, 5, 11, 5, 1, 3, 6, 1, 2, 5, 11, 8, 17, 19, 1, 4, 11, 18, 18, 14, 9, 10, 1, 2, 4, 12, 2, 4, 12, 2, 4, 6, 15, 3, 5, 9, 18, 3, 2, 3, 12, 3, 5, 9, 8, 2, 5, 7, 11, 4, 2, 8, 1, 19, 1, 2, 3, 14, 2, 9, 6, 1, 3, 6, 5, 10, 15, 1, 11, 1, 3, 2, 17, 14, 18, 9, 10, 2, 3, 3, 1, 14, 2, 1, 5, 6, 18, 2, 6, 2, 3, 2, 4, 8, 12, 9, 2, 5, 10, 9, 11, 10, 11, 4, 1, 3, 9, 1, 5, 16, 5, 11, 20, 5, 15, 18, 15, 9, 3, 1, 2, 4, 7, 1, 2, 11, 4, 11, 13, 14, 1, 3, 5, 8, 15, 13, 2, 19, 10, 7, 4, 12, 8, 2, 13, 9, 9, 1, 2, 3, 2, 4, 9, 11, 1, 5, 6, 3, 4, 8, 6, 2, 2, 4, 16, 17, 8, 9, 16, 1, 5, 13, 8, 17, 2, 18, 2, 5, 14, 8, 14, 12, 13, 5, 5, 8, 7, 2, 5, 6, 2, 13, 3, 12, 9, 4, 11, 12, 11, 14, 16, 19, 7, 19, 2, 12, 14, 7, 2, 3, 5, 9, 3, 10, 16, 1, 2, 3, 5, 19, 10, 20, 7, 9, 6, 19, 18, 18, 2, 3, 4, 1, 18, 11, 11, 14, 2, 4, 8, 1, 3, 5, 9, 4, 10, 7, 2, 6, 1, 3, 16, 12, 3, 4, 9, 10, 15, 1, 4, 6, 1, 3, 1, 3, 13, 16, 7, 6, 1, 2, 3, 17, 17, 3, 10, 19, 5, 19, 7, 12, 7, 3, 16, 16, 18, 3, 11, 3, 17, 3, 1, 3, 4, 11, 5, 1, 2, 4, 17, 2, 15, 14, 12, 8, 11, 6, 7, 9, 1, 2, 4, 9, 2, 4, 6, 4, 19, 15, 2, 2, 11, 12, 2, 4, 4, 3, 4, 5, 5, 16, 10, 11, 17, 19, 1, 5, 14, 16, 1, 2, 3, 5, 9, 8, 14, 1, 1, 2, 3, 7, 8, 19, 2, 8, 15, 2, 7, 4, 19, 13, 5, 3, 5, 3, 1, 2, 4, 15, 1, 3, 5, 1, 3, 1, 1, 2, 5, 7, 7, 3], \"Freq\": [0.9889988303184509, 0.9469519853591919, 0.9992750883102417, 0.9951179027557373, 0.9869503378868103, 0.9961230754852295, 0.9718729257583618, 0.998626708984375, 0.040812816470861435, 0.9583723545074463, 0.9879072904586792, 0.006866751704365015, 0.9915589690208435, 0.16021330654621124, 0.8393264412879944, 0.9924895763397217, 0.22854666411876678, 0.6795091032981873, 0.09162303060293198, 0.9987614154815674, 0.9846304059028625, 0.9866036772727966, 0.9473496079444885, 0.9957155585289001, 0.9955748915672302, 0.9954517483711243, 0.9974746108055115, 0.5656875371932983, 0.4329815208911896, 0.9950740933418274, 0.978753387928009, 0.9992473125457764, 0.9972423911094666, 0.9974604845046997, 0.9998682141304016, 0.9869839549064636, 0.9973128437995911, 0.8879150152206421, 0.11098937690258026, 0.9974679946899414, 0.986312747001648, 0.9622012376785278, 0.989055335521698, 0.3369196057319641, 0.013224882073700428, 0.6492787003517151, 0.9956687688827515, 0.9963367581367493, 0.9958711266517639, 0.9995157122612, 0.9994444847106934, 0.9992288947105408, 0.9923529624938965, 0.8380162715911865, 0.161492720246315, 0.997071385383606, 0.9956090450286865, 0.9998831152915955, 0.056958865374326706, 0.13363425433635712, 0.7923124432563782, 0.016795562580227852, 0.998619019985199, 0.9996833801269531, 0.9904956817626953, 0.9959297180175781, 0.9989016652107239, 0.15861405432224274, 0.8373346328735352, 0.986066460609436, 0.3742005228996277, 0.62547767162323, 0.9972234964370728, 0.995212733745575, 0.9956663846969604, 0.9986820220947266, 0.9944846630096436, 0.9930738210678101, 0.9922860264778137, 0.9994820952415466, 0.9857634902000427, 0.9967957735061646, 0.9953390955924988, 0.99125736951828, 0.9936438202857971, 0.9944294095039368, 0.9991136193275452, 0.9948332905769348, 0.9785407185554504, 0.9984765648841858, 0.9880297780036926, 0.42941564321517944, 0.410856693983078, 0.15935096144676208, 0.995034396648407, 0.9659978747367859, 0.9959794878959656, 0.4379558265209198, 0.4828910827636719, 0.07879948616027832, 0.9824110269546509, 0.9928322434425354, 0.9933584332466125, 0.9878754019737244, 0.9934903979301453, 0.9992774724960327, 0.9992154240608215, 0.2631867229938507, 0.2631867229938507, 0.0012473303359001875, 0.21079882979393005, 0.2594447135925293, 0.018997926265001297, 0.5025137662887573, 0.4783007502555847, 0.9818418622016907, 0.9909951090812683, 0.9946873784065247, 0.9987834095954895, 0.30444690585136414, 0.6951720714569092, 0.9841664433479309, 0.2582607567310333, 0.7407833933830261, 0.9988880753517151, 0.9988445043563843, 0.9976359009742737, 0.9935063719749451, 0.9975447654724121, 0.9968795776367188, 0.9996180534362793, 0.9989697337150574, 0.9923088550567627, 0.9596840739250183, 0.9938756227493286, 0.991889476776123, 0.29947730898857117, 0.6996757388114929, 0.9933609366416931, 0.9990166425704956, 0.818520188331604, 0.18068398535251617, 0.0006530746468342841, 0.19513264298439026, 0.8039464950561523, 0.97725909948349, 0.9805827140808105, 0.9703566431999207, 0.8589449524879456, 0.14070580899715424, 0.9971896409988403, 0.9979199171066284, 0.8421210050582886, 0.9934521317481995, 0.9930158257484436, 0.9939280152320862, 0.9903218746185303, 0.9937216639518738, 0.14496366679668427, 0.38933101296424866, 0.46388375759124756, 0.9990255832672119, 0.9972510933876038, 0.9947896599769592, 0.9974104762077332, 0.9950430989265442, 0.9991306066513062, 0.9927049279212952, 0.9914131164550781, 0.00778189254924655, 0.9839346408843994, 0.015837982296943665, 0.0911247506737709, 0.8890219330787659, 0.018891716375947, 0.9984734654426575, 0.9909807443618774, 0.9973178505897522, 0.994611382484436, 0.9889203906059265, 0.996719241142273, 0.9668171405792236, 0.9804156422615051, 0.40068501234054565, 0.5984256863594055, 0.22065891325473785, 0.7750644087791443, 0.991865336894989, 0.9925601482391357, 0.9956817030906677, 0.9877479076385498, 0.972710371017456, 0.026158545166254044, 0.9959558844566345, 0.06496850401163101, 0.9322980642318726, 0.2381303310394287, 0.7615122199058533, 0.9958881735801697, 0.9918415546417236, 0.7337961792945862, 0.11641958355903625, 0.1481703817844391, 0.982673168182373, 0.9953895211219788, 0.9971962571144104, 0.99338698387146, 0.9921991229057312, 0.9838425517082214, 0.9984186887741089, 0.9597321152687073, 0.9973416924476624, 0.9973577857017517, 0.32678407430648804, 0.6699073910713196, 0.9874762296676636, 0.9789270758628845, 0.4491099715232849, 0.549340546131134, 0.9927458763122559, 0.9980988502502441, 0.9935935139656067, 0.9827854037284851, 0.9806303381919861, 0.9990940093994141, 0.9971415996551514, 0.9447821378707886, 0.9982635378837585, 0.9984312057495117, 0.995120108127594, 0.9984081387519836, 0.9988231062889099, 0.9977651834487915, 0.9970589280128479, 0.9944953322410583, 0.9804543852806091, 0.9976263642311096, 0.9940965175628662, 0.9995999336242676, 0.9012542963027954, 0.09796242415904999, 0.963566243648529, 0.9807064533233643, 0.9959161281585693, 0.9921482801437378, 0.9897394776344299, 0.9925035238265991, 0.9993712902069092, 0.9979610443115234, 0.99791020154953, 0.994877815246582, 0.9711467027664185, 0.9960108399391174, 0.0036372884642332792, 0.998405396938324, 0.9903244376182556, 0.6939668655395508, 0.30586323142051697, 0.9995768070220947, 0.04230623319745064, 0.9546493887901306, 0.9991140365600586, 0.9742702841758728, 0.9946327805519104, 0.0010395958088338375, 0.8763792514801025, 0.12163270264863968, 0.9934450387954712, 0.9912307858467102, 0.9936553835868835, 0.996307373046875, 0.9994723200798035, 0.6392818689346313, 0.3587806522846222, 0.9894915819168091, 0.15795087814331055, 0.8396336436271667, 0.9993899464607239, 0.9962714314460754, 0.9982748627662659, 0.9906952381134033, 0.9983443021774292, 0.0229398962110281, 0.7016909122467041, 0.23479658365249634, 0.03913276270031929, 0.9657170176506042, 0.9928378462791443, 0.9934072494506836, 0.98813396692276, 0.9975823163986206, 0.16988570988178253, 0.8272694945335388, 0.9994634985923767, 0.9914066791534424, 0.4526296555995941, 0.5463559627532959, 0.998632550239563, 0.9961724877357483, 0.4193056523799896, 0.37827184796333313, 0.07663266360759735, 0.03288139030337334, 0.09266573935747147, 0.9924504160881042, 0.9911146759986877, 0.9957454800605774, 0.3733610510826111, 0.6254595518112183, 0.9974214434623718, 0.9678462743759155, 0.9761986136436462, 0.9989007711410522, 0.42442893981933594, 0.08935346454381943, 0.4830671548843384, 0.9977249503135681, 0.9991045594215393, 0.993467390537262, 0.9952660799026489, 0.9819797873497009, 0.9900145530700684, 0.0026470976881682873, 0.007105367723852396, 0.9966353178024292, 0.9935823082923889, 0.9998761415481567, 0.9983059763908386, 0.9992396831512451, 0.9751936793327332, 0.02471953071653843, 0.527967631816864, 0.4715362787246704, 0.9984704256057739, 0.9943779706954956, 0.9979673027992249, 0.2154359370470047, 0.07616422325372696, 0.06745973974466324, 0.6397794485092163, 0.9985714554786682, 0.9961283206939697, 0.9992601275444031, 0.9727425575256348, 0.998626708984375, 0.9997587203979492, 0.9947286248207092, 0.9922592043876648, 0.9996374845504761, 0.9912139773368835, 0.9952285885810852, 0.9958359003067017, 0.003392141778022051, 0.9918742179870605, 0.9851736426353455, 0.9972004294395447, 0.9955667853355408, 0.9662082195281982, 0.9883871674537659, 0.9752548933029175, 0.024483386427164078, 0.9951862692832947, 0.9981870651245117, 0.02459220215678215, 0.9713919758796692, 0.028517084196209908, 0.4358361065387726, 0.5351706147193909, 0.9977368712425232, 0.9958813786506653, 0.9924877882003784, 0.9953389167785645, 0.99879390001297, 0.9990731477737427, 0.9889337420463562, 0.9938482046127319, 0.9894223809242249, 0.9838467836380005, 0.9964072704315186, 0.9928158521652222, 0.6681108474731445, 0.021309351548552513, 0.31003016233444214, 0.9989063143730164, 0.9971928596496582, 0.9859087467193604, 0.9898694157600403, 0.005636951420456171, 0.9930429458618164, 0.20565545558929443, 0.7941104769706726, 0.9955464005470276, 0.9983006715774536, 0.4662952423095703, 0.5274487137794495, 0.9961944222450256, 0.943965494632721, 0.9981005787849426, 0.9986153841018677, 0.9920175671577454, 0.9941092729568481, 0.9897440075874329, 0.9930395483970642, 0.9829073548316956, 0.9950156211853027, 0.9981804490089417, 0.20148232579231262, 0.7198908925056458, 0.07841473817825317, 0.9871131777763367, 0.9972533583641052, 0.9995977282524109, 0.9992243647575378, 0.96662837266922, 0.9493069648742676, 0.050565268844366074, 0.9964507818222046, 0.997975766658783, 0.9949127435684204, 0.9994685649871826, 0.6818373203277588, 0.07545298337936401, 0.03956680744886398, 0.2028949111700058, 0.43414101004600525, 0.5635320544242859, 0.9267458319664001, 0.07293564826250076, 0.9811046719551086, 0.9822053909301758, 0.4500972032546997, 0.5463607907295227, 0.9950432777404785, 0.03229031711816788, 0.9666262269020081, 0.9980531930923462, 0.9972372651100159, 0.05752970650792122, 0.9417533874511719, 0.6495539546012878, 0.12258119136095047, 0.22620652616024017, 0.9993458986282349, 0.9610617756843567, 6.304111593635753e-05, 0.03170967847108841, 0.007060604635626078, 0.9967553615570068, 0.13548801839351654, 0.863736093044281, 0.9993903636932373, 0.2761654853820801, 0.42932793498039246, 0.29331496357917786, 0.9969234466552734, 0.9225152730941772, 0.07554414868354797, 0.001546979183331132, 0.9664798974990845, 0.6581428050994873, 0.3409556746482849, 0.9992573857307434, 0.9641180038452148, 0.03538047522306442, 0.9957722425460815, 0.9881917238235474, 0.9886247515678406, 0.010834243148565292, 0.9850317239761353, 0.9996955394744873, 0.9670588970184326, 0.9972022771835327, 0.9736206531524658, 0.6998106241226196, 0.08897935599088669, 0.21112029254436493, 0.9947670102119446, 0.023306023329496384, 0.13400962948799133, 0.8416652679443359, 0.992720365524292, 0.9969115257263184, 0.9006248712539673, 0.26889410614967346, 0.2073431760072708, 0.5234436988830566, 0.9954096078872681, 0.983641505241394, 0.992732048034668, 0.9968071579933167, 0.022060684859752655, 0.975922703742981, 0.9993515610694885, 0.2284153699874878, 0.4210680425167084, 0.3503647744655609, 0.9993988275527954, 0.9873464703559875, 0.24911929666996002, 0.7506844401359558, 0.9934614300727844, 0.9849408268928528, 0.9985906481742859, 0.9989352226257324, 0.3267781734466553, 0.07439783215522766, 0.5980441570281982, 0.9915006756782532, 0.9986638426780701, 0.9924214482307434, 0.995865523815155, 0.9768264889717102, 0.9976353049278259, 0.9938501715660095, 0.9956508874893188, 0.9346635341644287, 0.06288919597864151, 0.9986773133277893, 0.7982956171035767, 0.20082125067710876, 0.9886960387229919, 0.9666057825088501, 0.9987642765045166, 0.9984116554260254, 0.9959021806716919, 0.9983193874359131, 0.9945324063301086, 0.9926384091377258, 0.9967454075813293, 0.9924629926681519, 0.9974156618118286, 0.9932770729064941, 0.9610587954521179, 0.03598133847117424, 0.002472000429406762, 0.998193621635437, 0.3572588860988617, 0.6420047879219055, 0.5551127195358276, 0.1402062028646469, 0.30429941415786743, 0.9981377124786377, 0.4912584125995636, 0.430903822183609, 0.07766561955213547, 0.998050332069397, 0.0015449695056304336, 0.0413774736225605, 0.8931623101234436, 0.0653172954916954, 0.5216275453567505, 0.2922859191894531, 0.18571685254573822, 0.9642356038093567, 0.03536642715334892, 0.9963573217391968, 0.992050290107727, 0.9086068272590637, 0.0906222015619278, 0.9891029000282288, 0.9917936325073242, 0.9997088313102722, 0.9963029026985168, 0.9961293339729309, 0.03639136627316475, 0.9598223567008972, 0.9798250198364258, 0.9972145557403564, 0.9954203963279724, 0.13029518723487854, 0.8686345219612122, 0.9940977692604065, 0.9985039234161377, 0.977811872959137, 0.9897361397743225, 0.8226392865180969, 0.17713040113449097, 0.9996995329856873, 0.9964313507080078, 0.9893576502799988, 0.39725539088249207, 0.6002326011657715, 0.9984185695648193, 0.9948137402534485, 0.8667382001876831, 0.1317676305770874, 0.000879848375916481, 0.6022562384605408, 0.392412394285202, 0.003959317691624165, 0.9760391116142273, 0.9622950553894043, 0.9981205463409424, 0.9994310736656189, 0.9986035227775574, 0.9960848093032837, 0.9868984222412109, 0.14074549078941345, 0.7199724316596985, 0.13901446759700775, 0.9951624870300293, 0.10250870883464813, 0.16575877368450165, 0.7306472063064575, 0.9808874726295471, 0.9991301894187927, 0.9915033578872681, 0.9982358813285828, 0.9985159635543823, 0.9851574897766113, 0.5032157301902771, 0.49489811062812805, 0.9976661205291748, 0.9900751709938049, 0.9920145869255066, 0.9989113807678223, 0.998923122882843, 0.9891355037689209, 0.36303746700286865, 0.11248256266117096, 0.4535859525203705, 0.0703015998005867, 0.9848546385765076, 0.013283203355967999, 0.9959466457366943, 0.6812118887901306, 0.0931694358587265, 0.22539836168289185, 0.03282061219215393, 0.9031528830528259, 0.02637370489537716, 0.03692318871617317, 0.9976855516433716, 0.9887523055076599, 0.9736288785934448, 0.9987842440605164, 0.9057157039642334, 0.09340432286262512, 0.9956606030464172, 0.9630931615829468, 0.9976316690444946, 0.9973005652427673, 0.9951884746551514, 0.5584166049957275, 0.0781472697854042, 0.3630484342575073, 0.994215726852417, 0.9978122115135193, 0.9967881441116333, 0.997818648815155, 0.05298514664173126, 0.027789412066340446, 0.9192737340927124, 0.9865227937698364, 0.05948088318109512, 0.28801271319389343, 0.6495938897132874, 0.9891854524612427, 0.9989368319511414, 0.8429907560348511, 0.15616647899150848, 0.9893693923950195, 0.23177345097064972, 0.02204185537993908, 0.7454155087471008, 0.9982167482376099, 0.21539929509162903, 0.22347676753997803, 0.12385459244251251, 0.4334910809993744, 0.9965605735778809, 0.6620730757713318, 0.33599379658699036, 0.9992998242378235, 0.8276570439338684, 0.34559980034828186, 0.16370517015457153, 0.4901905953884125, 0.9959438443183899, 0.9848377704620361, 0.014011919498443604, 0.9841909408569336, 0.5537723302841187, 0.28768953680992126, 0.15804919600486755, 0.2792063057422638, 0.7141238451004028, 0.9983934760093689, 0.9995048642158508, 0.9840073585510254, 0.026156162843108177, 0.9735566973686218, 0.9987390637397766, 0.9709700345993042, 0.9951874017715454, 0.9895281791687012, 0.9934435486793518, 0.9946068525314331, 0.9978060722351074, 0.9989180564880371, 0.9983118772506714, 0.999109148979187, 0.9914072155952454, 0.9981907606124878, 0.9695001840591431, 0.01708921231329441, 0.013337922282516956, 0.9754800200462341, 0.09509431570768356, 0.9024256467819214, 0.9294009804725647, 0.06991694122552872, 0.9983193278312683, 0.9957939386367798, 0.9966859817504883, 0.990389347076416, 0.990365207195282, 0.9454792737960815, 0.05421115458011627, 0.997456431388855, 0.9950945973396301, 0.9837741851806641, 0.9888628721237183, 0.99674391746521, 0.996440052986145, 0.5281801819801331, 0.41077473759651184, 0.06086620315909386, 0.35755792260169983, 0.5355352163314819, 0.10582432150840759, 0.429057240486145, 0.5689156651496887, 0.8810140490531921, 0.9938817620277405, 0.9860377311706543, 0.9969159364700317, 0.9937796592712402, 0.992817759513855, 0.9990289211273193, 0.09453674405813217, 0.16918936371803284, 0.5389640927314758, 0.1967480480670929, 0.9996342658996582, 0.5334892272949219, 0.4641776382923126, 0.9990957379341125, 0.9722816348075867, 0.9973999857902527, 0.9960954189300537, 0.49040502309799194, 0.4838740825653076, 0.02565733902156353, 0.4007764160633087, 0.5909754037857056, 0.988860011100769, 0.7166650891304016, 0.27636104822158813, 0.9991589784622192, 0.9971563816070557, 0.9979786276817322, 0.9982485175132751, 0.9978904724121094, 0.9986544251441956, 0.9877870678901672, 0.9974581003189087, 0.997795581817627, 0.8581266403198242, 0.0005153913516551256, 0.1410454362630844, 0.15281285345554352, 0.8022674322128296, 0.028652409091591835, 0.015122105367481709, 0.1076769307255745, 0.041268251836299896, 0.8505054116249084, 0.9993470907211304, 0.9954758882522583, 0.9981887340545654, 0.9990127086639404, 0.9988880157470703, 0.8021441102027893, 0.19729755818843842, 0.9902721047401428, 0.9741144180297852, 0.9977918267250061, 0.9886159300804138, 0.9749326109886169, 0.3600079417228699, 0.6373346447944641, 0.9966481924057007, 0.9957547187805176, 0.9952622056007385, 0.9992071390151978, 0.9858277440071106, 0.9415664672851562, 0.05753585323691368, 0.9886155724525452, 0.9968928694725037, 0.993345320224762, 0.9993259906768799, 0.9937080144882202, 0.9988083243370056, 0.9942169189453125, 0.9973840713500977, 0.9931446313858032, 0.5830592513084412, 0.02244693972170353, 0.39338260889053345, 0.9992066621780396, 0.9943978190422058, 0.9987207055091858, 0.977593183517456, 0.9944446086883545, 0.5898143649101257, 0.26418769359588623, 0.1449960321187973, 0.35556137561798096, 0.638296902179718, 0.9895561337471008, 0.9145588874816895, 0.9920811653137207, 0.9769466519355774, 0.9655264019966125, 0.03281942754983902, 0.9971482157707214, 0.9961711764335632, 0.025490492582321167, 0.8813024163246155, 0.06769606471061707, 0.0250726155936718, 0.9977144598960876, 0.9963778257369995, 0.9935113191604614, 0.9703698754310608, 0.0015215520979836583, 0.0007607760489918292, 0.027387937530875206, 0.9787617325782776, 0.9983763694763184, 0.9473854303359985, 0.8540251851081848, 0.14233753085136414, 0.9524905681610107, 0.5896127223968506, 0.9854990243911743, 0.9732263684272766, 0.7953824996948242, 0.08265107870101929, 0.12129314243793488, 0.9995771646499634, 0.9761326313018799, 0.9760420322418213, 0.9841848611831665, 0.99712735414505, 0.8025995492935181, 0.19735346734523773, 0.9951702952384949, 0.8972001075744629, 0.06297675520181656, 0.03957914188504219, 0.9976845979690552, 0.9979659914970398, 0.991535484790802, 0.9996252059936523, 0.9991717338562012, 0.9847875833511353, 0.8815789222717285, 0.1178782656788826, 0.9850983023643494, 0.998809814453125, 0.4157600700855255, 0.29518964886665344, 0.11433401703834534, 0.05197000876069069, 0.12057041376829147, 0.4670102298259735, 0.38187164068222046, 0.15087060630321503, 0.7957060933113098, 0.2041139453649521, 0.833855152130127, 0.16599459946155548, 0.9870818257331848, 0.991016149520874, 0.9936519265174866, 0.9770195484161377, 0.8256866335868835, 0.16427938640117645, 0.010009285993874073, 0.9862372279167175, 0.984424352645874, 0.5000118017196655, 0.49587950110435486, 0.9740434885025024, 0.9954385757446289, 0.9882223010063171, 0.9985350370407104, 0.9977951645851135, 0.9918277859687805, 0.8163055777549744, 0.17906057834625244, 0.9976476430892944, 0.9943581819534302, 0.07576671242713928, 0.9176190495491028, 0.9993894696235657, 0.9963658452033997, 0.9989943504333496, 0.9103879332542419, 0.0640498474240303, 0.025179902091622353, 0.9842613339424133, 0.9981569647789001, 0.9987221360206604, 0.9335306882858276, 0.06577318161725998, 0.9902650117874146, 0.9976410865783691, 0.9917839765548706, 0.9981796145439148, 0.9929661154747009, 0.9960013628005981, 0.9934391975402832, 0.9976537823677063, 0.9967431426048279, 0.9877273440361023, 0.002838228363543749, 0.7733337879180908, 0.1965055763721466, 0.027213601395487785, 0.08370435982942581, 0.06387964636087418, 0.8513614535331726, 0.9929315447807312, 0.9667201638221741, 0.9830677509307861, 0.998280942440033, 0.27437806129455566, 0.7227519154548645, 0.9883480072021484, 0.1138874813914299, 0.8848956227302551, 0.9975408315658569, 0.9299306273460388, 0.0688837468624115, 0.9985464811325073, 0.994018018245697, 0.9937053322792053, 0.987455427646637, 0.9887027144432068, 0.9873911738395691, 0.9934121370315552, 0.9997231364250183, 0.9981054663658142, 0.9959245324134827, 0.9941253066062927, 0.7438368797302246, 0.016755370423197746, 0.21756593883037567, 0.021832754835486412, 0.9969313144683838, 0.16084152460098267, 0.8316683769226074, 0.9990766048431396, 0.8588112592697144, 0.06214609742164612, 0.06597047299146652, 0.012907266616821289, 0.992615282535553, 0.9952392578125, 0.7228890061378479, 0.275566041469574, 0.99300217628479, 0.9994097948074341, 0.9993587732315063, 0.9993479251861572, 0.9978527426719666, 0.9807213544845581, 0.9971740245819092, 0.010911788791418076, 0.9888808131217957, 0.9994221329689026, 0.5220956206321716, 0.4213712215423584, 0.05608019605278969, 0.9936067461967468, 0.17073199152946472, 0.7888762354850769, 0.039814967662096024, 0.9766080975532532, 0.023333624005317688, 0.9998989105224609, 0.37117037177085876, 0.2505453824996948, 0.07544464617967606, 0.3026432693004608, 0.9925057291984558, 0.9976562261581421], \"Term\": [\"absolute\", \"abstract\", \"accept\", \"accident\", \"accuracy\", \"acquire\", \"acquisition\", \"add\", \"address\", \"address\", \"advanced\", \"age\", \"age\", \"agree\", \"agree\", \"algorithm\", \"also\", \"also\", \"also\", \"amount\", \"amp\", \"analogy\", \"analyze\", \"animal\", \"anti\", \"anywhere\", \"apple\", \"application\", \"application\", \"arab\", \"arbitrary\", \"argument\", \"arm\", \"armenian\", \"article\", \"assist\", \"assumption\", \"attack\", \"attack\", \"author\", \"auto\", \"automate\", \"automatically\", \"available\", \"available\", \"available\", \"average\", \"avoid\", \"aware\", \"ax\", \"back\", \"bad\", \"bag\", \"base\", \"base\", \"baseball\", \"battery\", \"be\", \"become\", \"become\", \"become\", \"become\", \"belief\", \"believe\", \"belt\", \"benefit\", \"bike\", \"bill\", \"bill\", \"birth\", \"bit\", \"bit\", \"black\", \"blank\", \"blind\", \"block\", \"blow\", \"blue\", \"board\", \"book\", \"bounce\", \"box\", \"boy\", \"brave\", \"brother\", \"btw\", \"build\", \"burn\", \"bury\", \"bus\", \"button\", \"buy\", \"buy\", \"buy\", \"buyer\", \"buying\", \"cable\", \"call\", \"call\", \"call\", \"campaign\", \"canadian\", \"cap\", \"capacity\", \"capture\", \"car\", \"card\", \"carry\", \"carry\", \"carry\", \"carry\", \"carry\", \"case\", \"case\", \"case\", \"catalog\", \"category\", \"cd\", \"center\", \"change\", \"change\", \"characteristic\", \"child\", \"child\", \"chip\", \"christian\", \"church\", \"circuit\", \"city\", \"civilian\", \"claim\", \"clear\", \"clock\", \"closet\", \"club\", \"cluster\", \"code\", \"code\", \"cold\", \"color\", \"come\", \"come\", \"come\", \"community\", \"community\", \"competition\", \"compress\", \"comprise\", \"computer\", \"computer\", \"concept\", \"conclusion\", \"cone\", \"conference\", \"configuration\", \"confirm\", \"connector\", \"constitution\", \"contain\", \"contain\", \"contain\", \"control\", \"controller\", \"convert\", \"cool\", \"cop\", \"copy\", \"correction\", \"cost\", \"cost\", \"could\", \"could\", \"country\", \"country\", \"country\", \"couple\", \"coverage\", \"cpu\", \"crack\", \"crazy\", \"creation\", \"creature\", \"crew\", \"crime\", \"crime\", \"criminal\", \"criminal\", \"cross\", \"cryptography\", \"cylinder\", \"dare\", \"datum\", \"datum\", \"daughter\", \"dealer\", \"dealer\", \"death\", \"death\", \"decent\", \"default\", \"defense\", \"defense\", \"defense\", \"deletion\", \"deliver\", \"deny\", \"dept\", \"depth\", \"desert\", \"design\", \"designer\", \"detail\", \"develop\", \"device\", \"device\", \"devil\", \"diagnostic\", \"die\", \"die\", \"diet\", \"direct\", \"direction\", \"dirty\", \"discount\", \"discussion\", \"disease\", \"dish\", \"disk\", \"display\", \"distance\", \"distribution\", \"distribution_usa\", \"division\", \"doctor\", \"dog\", \"domain\", \"door\", \"draft\", \"drive\", \"driver\", \"driver\", \"driving\", \"dynamic\", \"eat\", \"economic\", \"electrical\", \"element\", \"email\", \"encryption\", \"engine\", \"engineering\", \"enhancement\", \"enough\", \"enough\", \"entry\", \"era\", \"even\", \"even\", \"evidence\", \"exactly\", \"exactly\", \"exist\", \"expansion\", \"expensive\", \"explain\", \"explain\", \"explain\", \"export\", \"exposure\", \"extension\", \"external\", \"fact\", \"factor\", \"factor\", \"factory\", \"fairly\", \"fairly\", \"faith\", \"family\", \"fan\", \"fancy\", \"faq\", \"fast\", \"fast\", \"fast\", \"fast\", \"fatal\", \"father\", \"fax\", \"fee\", \"field\", \"fight\", \"fight\", \"file\", \"film\", \"final\", \"final\", \"fire\", \"firearm\", \"first\", \"first\", \"first\", \"first\", \"first\", \"flight\", \"floppy\", \"font\", \"force\", \"force\", \"format\", \"formation\", \"forum\", \"friend\", \"front\", \"front\", \"front\", \"function\", \"game\", \"gear\", \"generate\", \"generic\", \"get\", \"get\", \"get\", \"gift\", \"girl\", \"go\", \"goal\", \"god\", \"good\", \"good\", \"government\", \"government\", \"graphic\", \"greatly_appreciate\", \"greek\", \"ground\", \"ground\", \"ground\", \"ground\", \"guess\", \"guilty\", \"gun\", \"handling\", \"hard\", \"have\", \"headache\", \"health\", \"hear\", \"heat\", \"helmet\", \"high\", \"high\", \"highly\", \"highway\", \"hit\", \"homosexual\", \"horror\", \"horse\", \"host\", \"host\", \"hot\", \"hour\", \"house\", \"house\", \"however\", \"however\", \"however\", \"human\", \"ice\", \"icon\", \"ide\", \"ill\", \"image\", \"immediate\", \"imply\", \"import\", \"impressive\", \"improve\", \"improvement\", \"include\", \"include\", \"include\", \"increase\", \"indeed\", \"indication\", \"infinite\", \"info\", \"info\", \"information\", \"information\", \"inhabitant\", \"input\", \"insurance\", \"insurance\", \"interface\", \"interior\", \"internal\", \"internet\", \"interpret\", \"interpretation\", \"introduction\", \"investigation\", \"investment\", \"islamic\", \"israeli\", \"issue\", \"issue\", \"issue\", \"japanese\", \"jewish\", \"key\", \"kill\", \"kinda\", \"know\", \"know\", \"laboratory\", \"land\", \"language\", \"large\", \"last\", \"last\", \"last\", \"last\", \"launch\", \"launch\", \"law\", \"law\", \"leadership\", \"leather\", \"legal\", \"legal\", \"letter\", \"level\", \"level\", \"library\", \"license\", \"life\", \"life\", \"light\", \"light\", \"light\", \"like\", \"line\", \"line\", \"line\", \"line\", \"link\", \"list\", \"list\", \"little\", \"live\", \"live\", \"live\", \"logic\", \"look\", \"look\", \"look\", \"looking\", \"lose\", \"lose\", \"lot\", \"low\", \"low\", \"lunar\", \"luxury\", \"machine\", \"machine\", \"mad\", \"mail\", \"mailing\", \"main\", \"maintenance\", \"make\", \"make\", \"make\", \"male\", \"man\", \"man\", \"man\", \"management\", \"manager\", \"maneuver\", \"many\", \"many\", \"many\", \"map\", \"mapping\", \"mass\", \"material\", \"matter\", \"matter\", \"max\", \"may\", \"may\", \"may\", \"maybe\", \"mb\", \"mean\", \"mean\", \"medical\", \"medicine\", \"member\", \"memory\", \"message\", \"message\", \"message\", \"meter\", \"method\", \"mid\", \"mile\", \"mileage\", \"military\", \"minority\", \"mirror\", \"mission\", \"mission\", \"mode\", \"model\", \"model\", \"modem\", \"module\", \"money\", \"monitor\", \"moon\", \"moral\", \"morality\", \"motherboard\", \"motif\", \"motor\", \"mouse\", \"movie\", \"much\", \"much\", \"much\", \"murder\", \"must\", \"must\", \"name\", \"name\", \"name\", \"national\", \"need\", \"need\", \"need\", \"network\", \"network\", \"new\", \"new\", \"new\", \"next\", \"next\", \"next\", \"nntp_poste\", \"nntp_poste\", \"nntp_posting\", \"noise\", \"note\", \"note\", \"novel\", \"nuclear\", \"number\", \"object\", \"objective\", \"observation\", \"observation\", \"observer\", \"occupy\", \"offense\", \"offer\", \"offer\", \"oil\", \"orbit\", \"orbital\", \"orbiter\", \"order\", \"order\", \"organization\", \"output\", \"own\", \"owner\", \"owner\", \"package\", \"packet\", \"page\", \"page\", \"part\", \"part\", \"part\", \"part\", \"partially\", \"particle\", \"patient\", \"pay\", \"pc\", \"pen\", \"penalty\", \"people\", \"people\", \"people\", \"percent\", \"performance\", \"performance\", \"performance\", \"peripheral\", \"person\", \"phase\", \"phone\", \"physical\", \"physician\", \"pick\", \"pick\", \"picture\", \"pitch\", \"planetary\", \"play\", \"player\", \"plot\", \"point\", \"point\", \"point\", \"point\", \"police\", \"police\", \"population\", \"post\", \"post\", \"post\", \"power\", \"power\", \"power\", \"power\", \"practice\", \"preferably\", \"presentation\", \"pretty\", \"price\", \"price\", \"primarily\", \"primitive\", \"printer\", \"private\", \"prize\", \"problem\", \"problem\", \"problem\", \"procedure\", \"process\", \"processor\", \"product\", \"program\", \"program\", \"program\", \"programmer\", \"protect\", \"protect\", \"protect\", \"proud\", \"prove\", \"provide\", \"provide\", \"pub\", \"public\", \"public\", \"public\", \"publish\", \"pull\", \"pull\", \"pull\", \"pull\", \"purchase\", \"purpose\", \"purpose\", \"put\", \"qualified\", \"question\", \"question\", \"question\", \"quick\", \"rate\", \"rate\", \"ray\", \"read\", \"read\", \"read\", \"ready\", \"ready\", \"reality\", \"really\", \"rear\", \"reason\", \"reason\", \"receive\", \"recieve\", \"red\", \"reflect\", \"regulation\", \"relationship\", \"release\", \"religion\", \"religious\", \"remember\", \"remind\", \"remove\", \"reply\", \"reply\", \"reply\", \"repost\", \"request\", \"request\", \"require\", \"require\", \"research\", \"resolution\", \"respect\", \"restore\", \"restriction\", \"return\", \"return\", \"revelation\", \"review\", \"revolver\", \"reward\", \"ride\", \"rider\", \"right\", \"right\", \"right\", \"risk\", \"risk\", \"risk\", \"road\", \"road\", \"rod\", \"role\", \"roman\", \"route\", \"routine\", \"rsa\", \"rule\", \"run\", \"run\", \"run\", \"run\", \"s\", \"safety\", \"safety\", \"sale\", \"salesman\", \"satellite\", \"saturn\", \"say\", \"say\", \"say\", \"scale\", \"scale\", \"scare\", \"schedule\", \"schedule\", \"science\", \"score\", \"screen\", \"scsi\", \"season\", \"section\", \"secular\", \"secure\", \"security\", \"see\", \"see\", \"see\", \"sell\", \"sell\", \"sell\", \"sell\", \"send\", \"send\", \"send\", \"sense\", \"serial\", \"serious\", \"server\", \"service\", \"set\", \"set\", \"severe\", \"shaft\", \"shall\", \"sheet\", \"shock\", \"shoot\", \"shoot\", \"shuttle\", \"sight\", \"signal\", \"single\", \"sky\", \"small\", \"small\", \"smart\", \"society\", \"soft\", \"software\", \"solar\", \"soldier\", \"somehow\", \"son\", \"soul\", \"source\", \"source\", \"source\", \"space\", \"spacecraft\", \"speak\", \"spec\", \"specify\", \"speed\", \"speed\", \"speed\", \"sport\", \"sport\", \"spring\", \"ssf\", \"staff\", \"stamp\", \"standard\", \"standard\", \"star\", \"stat\", \"state\", \"state\", \"state\", \"state\", \"statement\", \"statistic\", \"status\", \"still\", \"still\", \"still\", \"still\", \"strip\", \"study\", \"stuff_delete\", \"stupid\", \"stupid\", \"submission\", \"subtly\", \"suck\", \"sue\", \"support\", \"support\", \"support\", \"sure\", \"survey\", \"suspension\", \"sustain\", \"switch\", \"system\", \"system\", \"table\", \"take\", \"take\", \"take\", \"tap\", \"tape\", \"task\", \"team\", \"technology\", \"television\", \"tell\", \"tell\", \"terminal\", \"test\", \"text\", \"text\", \"text\", \"text\", \"text\", \"thank\", \"thank\", \"thank\", \"thing\", \"thing\", \"think\", \"think\", \"thrust\", \"ticket\", \"tie\", \"tiff\", \"time\", \"time\", \"time\", \"timing\", \"tire\", \"topic\", \"topic\", \"tour\", \"town\", \"trace\", \"trade\", \"transfer\", \"travel\", \"treat\", \"treat\", \"treatment\", \"trick\", \"trip\", \"trip\", \"true\", \"trust\", \"truth\", \"try\", \"try\", \"try\", \"turbo\", \"turkish\", \"turn\", \"type\", \"type\", \"unique\", \"unit\", \"universe\", \"university\", \"unix\", \"unlikely\", \"up\", \"update\", \"upgrade\", \"usage\", \"use\", \"use\", \"use\", \"use\", \"user\", \"user\", \"user\", \"utility\", \"utilize\", \"variation\", \"various\", \"vehicle\", \"vehicle\", \"vendor\", \"version\", \"version\", \"video\", \"view\", \"view\", \"village\", \"violation\", \"violence\", \"vision\", \"volt\", \"voltage\", \"vote\", \"want\", \"war\", \"water\", \"wave\", \"way\", \"way\", \"way\", \"way\", \"weapon\", \"wear\", \"wear\", \"week\", \"well\", \"well\", \"well\", \"well\", \"western\", \"white\", \"whole\", \"whole\", \"widget\", \"will\", \"win\", \"window\", \"wing\", \"winter\", \"withdraw\", \"woman\", \"woman\", \"word\", \"work\", \"work\", \"work\", \"workstation\", \"world\", \"world\", \"world\", \"would\", \"would\", \"write\", \"year\", \"year\", \"year\", \"year\", \"yesterday\", \"young\"]}, \"R\": 30, \"lambda.step\": 0.01, \"plot.opts\": {\"xlab\": \"PC1\", \"ylab\": \"PC2\"}, \"topic.order\": [20, 18, 8, 7, 6, 10, 19, 2, 17, 9, 12, 14, 5, 13, 4, 15, 16, 11, 1, 3]};\n",
       "\n",
       "function LDAvis_load_lib(url, callback){\n",
       "  var s = document.createElement('script');\n",
       "  s.src = url;\n",
       "  s.async = true;\n",
       "  s.onreadystatechange = s.onload = callback;\n",
       "  s.onerror = function(){console.warn(\"failed to load library \" + url);};\n",
       "  document.getElementsByTagName(\"head\")[0].appendChild(s);\n",
       "}\n",
       "\n",
       "if(typeof(LDAvis) !== \"undefined\"){\n",
       "   // already loaded: just create the visualization\n",
       "   !function(LDAvis){\n",
       "       new LDAvis(\"#\" + \"ldavis_el2424820920187242969898406840\", ldavis_el2424820920187242969898406840_data);\n",
       "   }(LDAvis);\n",
       "}else if(typeof define === \"function\" && define.amd){\n",
       "   // require.js is available: use it to load d3/LDAvis\n",
       "   require.config({paths: {d3: \"https://cdnjs.cloudflare.com/ajax/libs/d3/3.5.5/d3.min\"}});\n",
       "   require([\"d3\"], function(d3){\n",
       "      window.d3 = d3;\n",
       "      LDAvis_load_lib(\"https://cdn.rawgit.com/bmabey/pyLDAvis/files/ldavis.v1.0.0.js\", function(){\n",
       "        new LDAvis(\"#\" + \"ldavis_el2424820920187242969898406840\", ldavis_el2424820920187242969898406840_data);\n",
       "      });\n",
       "    });\n",
       "}else{\n",
       "    // require.js not available: dynamically load d3 & LDAvis\n",
       "    LDAvis_load_lib(\"https://cdnjs.cloudflare.com/ajax/libs/d3/3.5.5/d3.min.js\", function(){\n",
       "         LDAvis_load_lib(\"https://cdn.rawgit.com/bmabey/pyLDAvis/files/ldavis.v1.0.0.js\", function(){\n",
       "                 new LDAvis(\"#\" + \"ldavis_el2424820920187242969898406840\", ldavis_el2424820920187242969898406840_data);\n",
       "            })\n",
       "         });\n",
       "}\n",
       "</script>"
      ],
      "text/plain": [
       "PreparedData(topic_coordinates=              x         y  topics  cluster       Freq\n",
       "topic                                                \n",
       "19     0.358063 -0.053277       1        1  35.991714\n",
       "17     0.309804  0.081295       2        1  20.078451\n",
       "7      0.334984 -0.174034       3        1  15.995996\n",
       "6      0.136900  0.319725       4        1   4.392694\n",
       "5      0.145842 -0.201387       5        1   4.197985\n",
       "9      0.077084  0.205802       6        1   3.528143\n",
       "18     0.052113  0.004541       7        1   2.235058\n",
       "1     -0.024043  0.019191       8        1   2.172941\n",
       "16     0.014538 -0.107589       9        1   2.114494\n",
       "8     -0.083173 -0.019945      10        1   1.322595\n",
       "11    -0.059051  0.110521      11        1   1.243614\n",
       "13    -0.093467  0.013551      12        1   1.197008\n",
       "4     -0.140575 -0.023680      13        1   1.120966\n",
       "12    -0.111024 -0.009168      14        1   1.108063\n",
       "3     -0.137837 -0.027480      15        1   0.775630\n",
       "14    -0.128114 -0.030091      16        1   0.732271\n",
       "15    -0.143517 -0.025563      17        1   0.684309\n",
       "10    -0.149002 -0.022708      18        1   0.604033\n",
       "0     -0.162945 -0.027625      19        1   0.413320\n",
       "2     -0.196581 -0.032078      20        1   0.090717, topic_info=     Category          Freq    Term         Total  loglift  logprob\n",
       "174   Default  16156.000000   would  16156.000000  30.0000  30.0000\n",
       "19    Default  15862.000000    line  15862.000000  29.0000  29.0000\n",
       "197   Default  13427.000000   write  13427.000000  28.0000  28.0000\n",
       "3685  Default   2717.000000      ax   2717.000000  27.0000  27.0000\n",
       "40    Default   4625.000000    year   4625.000000  26.0000  26.0000\n",
       "...       ...           ...     ...           ...      ...      ...\n",
       "3949  Topic20      0.019669    item      1.238909   2.8622 -10.8605\n",
       "6920  Topic20      0.019669   frame      1.238863   2.8623 -10.8605\n",
       "5769  Topic20      0.019669  hockey      1.238938   2.8622 -10.8605\n",
       "3141  Topic20      0.019669  dollar      1.238867   2.8622 -10.8605\n",
       "3382  Topic20      0.019669     pin      1.238985   2.8622 -10.8605\n",
       "\n",
       "[837 rows x 6 columns], token_table=      Topic      Freq       Term\n",
       "term                            \n",
       "472      10  0.988999   absolute\n",
       "2857     19  0.946952   abstract\n",
       "1211      8  0.999275     accept\n",
       "853      11  0.995118   accident\n",
       "1014     17  0.986950   accuracy\n",
       "...     ...       ...        ...\n",
       "40        2  0.250545       year\n",
       "40        5  0.075445       year\n",
       "40        7  0.302643       year\n",
       "720       7  0.992506  yesterday\n",
       "570       3  0.997656      young\n",
       "\n",
       "[1001 rows x 3 columns], R=30, lambda_step=0.01, plot_opts={'xlab': 'PC1', 'ylab': 'PC2'}, topic_order=[20, 18, 8, 7, 6, 10, 19, 2, 17, 9, 12, 14, 5, 13, 4, 15, 16, 11, 1, 3])"
      ]
     },
     "execution_count": 15,
     "metadata": {},
     "output_type": "execute_result"
    }
   ],
   "source": [
    "# Visualize the topics\n",
    "pyLDAvis.enable_notebook()\n",
    "vis = pyLDAvis.gensim.prepare(lda_model, corpus, id2word)\n",
    "vis"
   ]
  },
  {
   "cell_type": "code",
   "execution_count": 82,
   "metadata": {},
   "outputs": [
    {
     "ename": "CalledProcessError",
     "evalue": "Command 'C:\\Mallet-master\bin\\mallet.bat import-file --preserve-case --keep-sequence --remove-stopwords --token-regex \"\\S+\" --input C:\\Users\\msuxi\\AppData\\Local\\Temp\\89ceab_corpus.txt --output C:\\Users\\msuxi\\AppData\\Local\\Temp\\89ceab_corpus.mallet' returned non-zero exit status 1.",
     "output_type": "error",
     "traceback": [
      "\u001b[1;31m---------------------------------------------------------------------------\u001b[0m",
      "\u001b[1;31mCalledProcessError\u001b[0m                        Traceback (most recent call last)",
      "\u001b[1;32m<ipython-input-82-e959471abf7e>\u001b[0m in \u001b[0;36m<module>\u001b[1;34m\u001b[0m\n\u001b[0;32m      1\u001b[0m \u001b[1;31m# Download File: http://mallet.cs.umass.edu/dist/mallet-2.0.8.zip\u001b[0m\u001b[1;33m\u001b[0m\u001b[1;33m\u001b[0m\u001b[1;33m\u001b[0m\u001b[0m\n\u001b[0;32m      2\u001b[0m \u001b[0mmallet_path\u001b[0m \u001b[1;33m=\u001b[0m \u001b[1;34m'C:\\Mallet-master\\bin\\mallet.bat'\u001b[0m \u001b[1;31m# update this path\u001b[0m\u001b[1;33m\u001b[0m\u001b[1;33m\u001b[0m\u001b[0m\n\u001b[1;32m----> 3\u001b[1;33m \u001b[0mldamallet\u001b[0m \u001b[1;33m=\u001b[0m \u001b[0mgensim\u001b[0m\u001b[1;33m.\u001b[0m\u001b[0mmodels\u001b[0m\u001b[1;33m.\u001b[0m\u001b[0mwrappers\u001b[0m\u001b[1;33m.\u001b[0m\u001b[0mLdaMallet\u001b[0m\u001b[1;33m(\u001b[0m\u001b[0mmallet_path\u001b[0m\u001b[1;33m,\u001b[0m \u001b[0mcorpus\u001b[0m\u001b[1;33m=\u001b[0m\u001b[0mcorpus\u001b[0m\u001b[1;33m,\u001b[0m \u001b[0mnum_topics\u001b[0m\u001b[1;33m=\u001b[0m\u001b[1;36m20\u001b[0m\u001b[1;33m,\u001b[0m \u001b[0mid2word\u001b[0m\u001b[1;33m=\u001b[0m\u001b[0mid2word\u001b[0m\u001b[1;33m)\u001b[0m\u001b[1;33m\u001b[0m\u001b[1;33m\u001b[0m\u001b[0m\n\u001b[0m",
      "\u001b[1;32mD:\\anaconda\\lib\\site-packages\\gensim\\models\\wrappers\\ldamallet.py\u001b[0m in \u001b[0;36m__init__\u001b[1;34m(self, mallet_path, corpus, num_topics, alpha, id2word, workers, prefix, optimize_interval, iterations, topic_threshold, random_seed)\u001b[0m\n\u001b[0;32m    129\u001b[0m         \u001b[0mself\u001b[0m\u001b[1;33m.\u001b[0m\u001b[0mrandom_seed\u001b[0m \u001b[1;33m=\u001b[0m \u001b[0mrandom_seed\u001b[0m\u001b[1;33m\u001b[0m\u001b[1;33m\u001b[0m\u001b[0m\n\u001b[0;32m    130\u001b[0m         \u001b[1;32mif\u001b[0m \u001b[0mcorpus\u001b[0m \u001b[1;32mis\u001b[0m \u001b[1;32mnot\u001b[0m \u001b[1;32mNone\u001b[0m\u001b[1;33m:\u001b[0m\u001b[1;33m\u001b[0m\u001b[1;33m\u001b[0m\u001b[0m\n\u001b[1;32m--> 131\u001b[1;33m             \u001b[0mself\u001b[0m\u001b[1;33m.\u001b[0m\u001b[0mtrain\u001b[0m\u001b[1;33m(\u001b[0m\u001b[0mcorpus\u001b[0m\u001b[1;33m)\u001b[0m\u001b[1;33m\u001b[0m\u001b[1;33m\u001b[0m\u001b[0m\n\u001b[0m\u001b[0;32m    132\u001b[0m \u001b[1;33m\u001b[0m\u001b[0m\n\u001b[0;32m    133\u001b[0m     \u001b[1;32mdef\u001b[0m \u001b[0mfinferencer\u001b[0m\u001b[1;33m(\u001b[0m\u001b[0mself\u001b[0m\u001b[1;33m)\u001b[0m\u001b[1;33m:\u001b[0m\u001b[1;33m\u001b[0m\u001b[1;33m\u001b[0m\u001b[0m\n",
      "\u001b[1;32mD:\\anaconda\\lib\\site-packages\\gensim\\models\\wrappers\\ldamallet.py\u001b[0m in \u001b[0;36mtrain\u001b[1;34m(self, corpus)\u001b[0m\n\u001b[0;32m    270\u001b[0m \u001b[1;33m\u001b[0m\u001b[0m\n\u001b[0;32m    271\u001b[0m         \"\"\"\n\u001b[1;32m--> 272\u001b[1;33m         \u001b[0mself\u001b[0m\u001b[1;33m.\u001b[0m\u001b[0mconvert_input\u001b[0m\u001b[1;33m(\u001b[0m\u001b[0mcorpus\u001b[0m\u001b[1;33m,\u001b[0m \u001b[0minfer\u001b[0m\u001b[1;33m=\u001b[0m\u001b[1;32mFalse\u001b[0m\u001b[1;33m)\u001b[0m\u001b[1;33m\u001b[0m\u001b[1;33m\u001b[0m\u001b[0m\n\u001b[0m\u001b[0;32m    273\u001b[0m         \u001b[0mcmd\u001b[0m \u001b[1;33m=\u001b[0m \u001b[0mself\u001b[0m\u001b[1;33m.\u001b[0m\u001b[0mmallet_path\u001b[0m \u001b[1;33m+\u001b[0m \u001b[1;34m' train-topics --input %s --num-topics %s  --alpha %s --optimize-interval %s '\u001b[0m\u001b[0;31m\\\u001b[0m\u001b[1;33m\u001b[0m\u001b[1;33m\u001b[0m\u001b[0m\n\u001b[0;32m    274\u001b[0m             \u001b[1;34m'--num-threads %s --output-state %s --output-doc-topics %s --output-topic-keys %s '\u001b[0m\u001b[0;31m\\\u001b[0m\u001b[1;33m\u001b[0m\u001b[1;33m\u001b[0m\u001b[0m\n",
      "\u001b[1;32mD:\\anaconda\\lib\\site-packages\\gensim\\models\\wrappers\\ldamallet.py\u001b[0m in \u001b[0;36mconvert_input\u001b[1;34m(self, corpus, infer, serialize_corpus)\u001b[0m\n\u001b[0;32m    259\u001b[0m             \u001b[0mcmd\u001b[0m \u001b[1;33m=\u001b[0m \u001b[0mcmd\u001b[0m \u001b[1;33m%\u001b[0m \u001b[1;33m(\u001b[0m\u001b[0mself\u001b[0m\u001b[1;33m.\u001b[0m\u001b[0mfcorpustxt\u001b[0m\u001b[1;33m(\u001b[0m\u001b[1;33m)\u001b[0m\u001b[1;33m,\u001b[0m \u001b[0mself\u001b[0m\u001b[1;33m.\u001b[0m\u001b[0mfcorpusmallet\u001b[0m\u001b[1;33m(\u001b[0m\u001b[1;33m)\u001b[0m\u001b[1;33m)\u001b[0m\u001b[1;33m\u001b[0m\u001b[1;33m\u001b[0m\u001b[0m\n\u001b[0;32m    260\u001b[0m         \u001b[0mlogger\u001b[0m\u001b[1;33m.\u001b[0m\u001b[0minfo\u001b[0m\u001b[1;33m(\u001b[0m\u001b[1;34m\"converting temporary corpus to MALLET format with %s\"\u001b[0m\u001b[1;33m,\u001b[0m \u001b[0mcmd\u001b[0m\u001b[1;33m)\u001b[0m\u001b[1;33m\u001b[0m\u001b[1;33m\u001b[0m\u001b[0m\n\u001b[1;32m--> 261\u001b[1;33m         \u001b[0mcheck_output\u001b[0m\u001b[1;33m(\u001b[0m\u001b[0margs\u001b[0m\u001b[1;33m=\u001b[0m\u001b[0mcmd\u001b[0m\u001b[1;33m,\u001b[0m \u001b[0mshell\u001b[0m\u001b[1;33m=\u001b[0m\u001b[1;32mTrue\u001b[0m\u001b[1;33m)\u001b[0m\u001b[1;33m\u001b[0m\u001b[1;33m\u001b[0m\u001b[0m\n\u001b[0m\u001b[0;32m    262\u001b[0m \u001b[1;33m\u001b[0m\u001b[0m\n\u001b[0;32m    263\u001b[0m     \u001b[1;32mdef\u001b[0m \u001b[0mtrain\u001b[0m\u001b[1;33m(\u001b[0m\u001b[0mself\u001b[0m\u001b[1;33m,\u001b[0m \u001b[0mcorpus\u001b[0m\u001b[1;33m)\u001b[0m\u001b[1;33m:\u001b[0m\u001b[1;33m\u001b[0m\u001b[1;33m\u001b[0m\u001b[0m\n",
      "\u001b[1;32mD:\\anaconda\\lib\\site-packages\\gensim\\utils.py\u001b[0m in \u001b[0;36mcheck_output\u001b[1;34m(stdout, *popenargs, **kwargs)\u001b[0m\n\u001b[0;32m   1916\u001b[0m             \u001b[0merror\u001b[0m \u001b[1;33m=\u001b[0m \u001b[0msubprocess\u001b[0m\u001b[1;33m.\u001b[0m\u001b[0mCalledProcessError\u001b[0m\u001b[1;33m(\u001b[0m\u001b[0mretcode\u001b[0m\u001b[1;33m,\u001b[0m \u001b[0mcmd\u001b[0m\u001b[1;33m)\u001b[0m\u001b[1;33m\u001b[0m\u001b[1;33m\u001b[0m\u001b[0m\n\u001b[0;32m   1917\u001b[0m             \u001b[0merror\u001b[0m\u001b[1;33m.\u001b[0m\u001b[0moutput\u001b[0m \u001b[1;33m=\u001b[0m \u001b[0moutput\u001b[0m\u001b[1;33m\u001b[0m\u001b[1;33m\u001b[0m\u001b[0m\n\u001b[1;32m-> 1918\u001b[1;33m             \u001b[1;32mraise\u001b[0m \u001b[0merror\u001b[0m\u001b[1;33m\u001b[0m\u001b[1;33m\u001b[0m\u001b[0m\n\u001b[0m\u001b[0;32m   1919\u001b[0m         \u001b[1;32mreturn\u001b[0m \u001b[0moutput\u001b[0m\u001b[1;33m\u001b[0m\u001b[1;33m\u001b[0m\u001b[0m\n\u001b[0;32m   1920\u001b[0m     \u001b[1;32mexcept\u001b[0m \u001b[0mKeyboardInterrupt\u001b[0m\u001b[1;33m:\u001b[0m\u001b[1;33m\u001b[0m\u001b[1;33m\u001b[0m\u001b[0m\n",
      "\u001b[1;31mCalledProcessError\u001b[0m: Command 'C:\\Mallet-master\bin\\mallet.bat import-file --preserve-case --keep-sequence --remove-stopwords --token-regex \"\\S+\" --input C:\\Users\\msuxi\\AppData\\Local\\Temp\\89ceab_corpus.txt --output C:\\Users\\msuxi\\AppData\\Local\\Temp\\89ceab_corpus.mallet' returned non-zero exit status 1."
     ]
    }
   ],
   "source": [
    "# Download File: http://mallet.cs.umass.edu/dist/mallet-2.0.8.zip\n",
    "mallet_path = 'C:\\Mallet-master\\bin\\mallet.bat' # update this path\n",
    "ldamallet = gensim.models.wrappers.LdaMallet(mallet_path, corpus=corpus, num_topics=20, id2word=id2word)"
   ]
  },
  {
   "cell_type": "code",
   "execution_count": null,
   "metadata": {},
   "outputs": [],
   "source": [
    "# Show Topics\n",
    "pprint(ldamallet.show_topics(formatted=False))\n",
    "\n",
    "# Compute Coherence Score\n",
    "coherence_model_ldamallet = CoherenceModel(model=ldamallet, texts=data_lemmatized, dictionary=id2word, coherence='c_v')\n",
    "coherence_ldamallet = coherence_model_ldamallet.get_coherence()\n",
    "print('\\nCoherence Score: ', coherence_ldamallet)"
   ]
  },
  {
   "cell_type": "code",
   "execution_count": null,
   "metadata": {},
   "outputs": [],
   "source": [
    "def compute_coherence_values(dictionary, corpus, texts, limit, start=2, step=3):\n",
    "    \"\"\"\n",
    "    Compute c_v coherence for various number of topics\n",
    "\n",
    "    Parameters:\n",
    "    ----------\n",
    "    dictionary : Gensim dictionary\n",
    "    corpus : Gensim corpus\n",
    "    texts : List of input texts\n",
    "    limit : Max num of topics\n",
    "\n",
    "    Returns:\n",
    "    -------\n",
    "    model_list : List of LDA topic models\n",
    "    coherence_values : Coherence values corresponding to the LDA model with respective number of topics\n",
    "    \"\"\"\n",
    "    coherence_values = []\n",
    "    model_list = []\n",
    "    for num_topics in range(start, limit, step):\n",
    "        model = gensim.models.wrappers.LdaMallet(mallet_path, corpus=corpus, num_topics=num_topics, id2word=id2word)\n",
    "        model_list.append(model)\n",
    "        coherencemodel = CoherenceModel(model=model, texts=texts, dictionary=dictionary, coherence='c_v')\n",
    "        coherence_values.append(coherencemodel.get_coherence())\n",
    "\n",
    "    return model_list, coherence_values"
   ]
  },
  {
   "cell_type": "code",
   "execution_count": null,
   "metadata": {},
   "outputs": [],
   "source": [
    "# Can take a long time to run.\n",
    "model_list, coherence_values = compute_coherence_values(dictionary=id2word, corpus=corpus, texts=data_lemmatized, start=2, limit=40, step=6)"
   ]
  },
  {
   "cell_type": "code",
   "execution_count": null,
   "metadata": {},
   "outputs": [],
   "source": [
    "# Print the coherence scores\n",
    "for m, cv in zip(x, coherence_values):\n",
    "    print(\"Num Topics =\", m, \" has Coherence Value of\", round(cv, 4))"
   ]
  },
  {
   "cell_type": "code",
   "execution_count": null,
   "metadata": {},
   "outputs": [],
   "source": [
    "# Select the model and print the topics\n",
    "optimal_model = model_list[3]\n",
    "model_topics = optimal_model.show_topics(formatted=False)\n",
    "pprint(optimal_model.print_topics(num_words=10))"
   ]
  },
  {
   "cell_type": "code",
   "execution_count": null,
   "metadata": {},
   "outputs": [],
   "source": [
    "def format_topics_sentences(ldamodel=lda_model, corpus=corpus, texts=data):\n",
    "    # Init output\n",
    "    sent_topics_df = pd.DataFrame()\n",
    "\n",
    "    # Get main topic in each document\n",
    "    for i, row in enumerate(ldamodel[corpus]):\n",
    "        row = sorted(row, key=lambda x: (x[1]), reverse=True)\n",
    "        # Get the Dominant topic, Perc Contribution and Keywords for each document\n",
    "        for j, (topic_num, prop_topic) in enumerate(row):\n",
    "            if j == 0:  # => dominant topic\n",
    "                wp = ldamodel.show_topic(topic_num)\n",
    "                topic_keywords = \", \".join([word for word, prop in wp])\n",
    "                sent_topics_df = sent_topics_df.append(pd.Series([int(topic_num), round(prop_topic,4), topic_keywords]), ignore_index=True)\n",
    "            else:\n",
    "                break\n",
    "    sent_topics_df.columns = ['Dominant_Topic', 'Perc_Contribution', 'Topic_Keywords']\n",
    "\n",
    "    # Add original text to the end of the output\n",
    "    contents = pd.Series(texts)\n",
    "    sent_topics_df = pd.concat([sent_topics_df, contents], axis=1)\n",
    "    return(sent_topics_df)\n",
    "\n",
    "\n",
    "df_topic_sents_keywords = format_topics_sentences(ldamodel=optimal_model, corpus=corpus, texts=data)\n",
    "\n",
    "# Format\n",
    "df_dominant_topic = df_topic_sents_keywords.reset_index()\n",
    "df_dominant_topic.columns = ['Document_No', 'Dominant_Topic', 'Topic_Perc_Contrib', 'Keywords', 'Text']\n",
    "\n",
    "# Show\n",
    "df_dominant_topic.head(10)"
   ]
  },
  {
   "cell_type": "code",
   "execution_count": null,
   "metadata": {},
   "outputs": [],
   "source": [
    "# Group top 5 sentences under each topic\n",
    "sent_topics_sorteddf_mallet = pd.DataFrame()\n",
    "\n",
    "sent_topics_outdf_grpd = df_topic_sents_keywords.groupby('Dominant_Topic')\n",
    "\n",
    "for i, grp in sent_topics_outdf_grpd:\n",
    "    sent_topics_sorteddf_mallet = pd.concat([sent_topics_sorteddf_mallet, \n",
    "                                             grp.sort_values(['Perc_Contribution'], ascending=[0]).head(1)], \n",
    "                                            axis=0)\n",
    "\n",
    "# Reset Index    \n",
    "sent_topics_sorteddf_mallet.reset_index(drop=True, inplace=True)\n",
    "\n",
    "# Format\n",
    "sent_topics_sorteddf_mallet.columns = ['Topic_Num', \"Topic_Perc_Contrib\", \"Keywords\", \"Text\"]\n",
    "\n",
    "# Show\n",
    "sent_topics_sorteddf_mallet.head()"
   ]
  },
  {
   "cell_type": "code",
   "execution_count": null,
   "metadata": {},
   "outputs": [],
   "source": [
    "# Number of Documents for Each Topic\n",
    "topic_counts = df_topic_sents_keywords['Dominant_Topic'].value_counts()\n",
    "\n",
    "# Percentage of Documents for Each Topic\n",
    "topic_contribution = round(topic_counts/topic_counts.sum(), 4)\n",
    "\n",
    "# Topic Number and Keywords\n",
    "topic_num_keywords = df_topic_sents_keywords[['Dominant_Topic', 'Topic_Keywords']]\n",
    "\n",
    "# Concatenate Column wise\n",
    "df_dominant_topics = pd.concat([topic_num_keywords, topic_counts, topic_contribution], axis=1)\n",
    "\n",
    "# Change Column names\n",
    "df_dominant_topics.columns = ['Dominant_Topic', 'Topic_Keywords', 'Num_Documents', 'Perc_Documents']\n",
    "\n",
    "# Show\n",
    "df_dominant_topics"
   ]
  },
  {
   "cell_type": "code",
   "execution_count": null,
   "metadata": {},
   "outputs": [],
   "source": []
  }
 ],
 "metadata": {
  "kernelspec": {
   "display_name": "Python 3",
   "language": "python",
   "name": "python3"
  },
  "language_info": {
   "codemirror_mode": {
    "name": "ipython",
    "version": 3
   },
   "file_extension": ".py",
   "mimetype": "text/x-python",
   "name": "python",
   "nbconvert_exporter": "python",
   "pygments_lexer": "ipython3",
   "version": "3.7.4"
  }
 },
 "nbformat": 4,
 "nbformat_minor": 2
}
