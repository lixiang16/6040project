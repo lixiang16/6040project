{
 "cells": [
  {
   "cell_type": "code",
   "execution_count": 4,
   "metadata": {},
   "outputs": [
    {
     "name": "stderr",
     "output_type": "stream",
     "text": [
      "Your code contains a unicode char which cannot be displayed in your\n",
      "current locale and R will silently convert it to an escaped form when the\n",
      "R kernel executes this code. This can lead to subtle errors if you use\n",
      "such chars to do comparisons. For more information, please see\n",
      "https://github.com/IRkernel/repr/wiki/Problems-with-unicode-on-windows"
     ]
    },
    {
     "ename": "ERROR",
     "evalue": "Error in parse(text = x, srcfile = src): <text>:17:15: 意外的'<'\n16: #qua_data_raw3$txt\n17: qua_data_raw3$<\n                  ^\n",
     "output_type": "error",
     "traceback": [
      "Error in parse(text = x, srcfile = src): <text>:17:15: 意外的'<'\n16: #qua_data_raw3$txt\n17: qua_data_raw3$<\n                  ^\nTraceback:\n"
     ]
    }
   ],
   "source": [
    "library(devtools)\n",
    "install_github(\"bmschmidt/wordVectors\")\n",
    "library(wordVectors)\n",
    "install_github(\"mukul13/rword2vec\")\n",
    "library(rword2vec)\n",
    "ls(\"package:rword2vec\")\n",
    "#Input the data\n",
    "setwd(\"D:\\\\IT6040\\\\project_excel_themes\\\\gd\\\\csv\\\\mf.csv\")\n",
    "qua_data_raw3 <- read.csv(\"mf.csv\", stringsAsFactors = FALSE)\n",
    "#qua_data_raw3 <- read.csv(\"Company3-qualitative data.csv\", stringsAsFactors = FALSE)\n",
    "str(qua_data_raw3)\n",
    "View(qua_data_raw3)\n",
    "\n",
    "install.packages(\"tm\")\n",
    "library(tm)\n",
    "#qua_data_raw3$txt\n",
    "qua_data_raw3$�..comments\n",
    "qua_data_source <- VectorSource(qua_data_raw3$�..comments)\n",
    "qua_data_corpus <- VCorpus(VectorSource(qua_data_raw3$�..comments))\n",
    "\n",
    "print(qua_data_corpus)\n",
    "inspect(qua_data_corpus[1:3])\n",
    "corpus_clean <- tm_map(qua_data_corpus, content_transformer(tolower)) ##Code has to be changed\n",
    "corpus_clean <- tm_map(corpus_clean, removeNumbers)\n",
    "corpus_clean <- tm_map(corpus_clean, removeWords, stopwords())\n",
    "corpus_clean <- tm_map(corpus_clean, removePunctuation)\n",
    "corpus_clean <- tm_map(corpus_clean, stripWhitespace)\n",
    "corpus_clean\n",
    "write.csv(corpus_clean,file=\"C:\\\\Users\\\\chenj\\\\Desktop\\\\ALY 6020 Dataset\\\\test1.csv\",quote=F,row.names = F)\n",
    "\n",
    "qua_data_dtm <- DocumentTermMatrix(corpus_clean)\n",
    "qua_data_dtm\n",
    "View(qua_data_raw)\n",
    "View(qua_data_dtm)\n",
    "set.seed(2019)\n",
    "row.number <- sample(x=1:nrow(qua_data_raw3), size=0.8*nrow(qua_data_raw3))\n",
    "qua_data_raw_train <- qua_data_raw3[row.number, ]\n",
    "qua_data_raw_test <- qua_data_raw3[-row.number, ]\n",
    "qua_data_dtm_train <- qua_data_dtm[row.number, ]\n",
    "qua_data_dtm_test <- qua_data_dtm[-row.number, ]\n",
    "qua_data_corpus_train <- corpus_clean[row.number]\n",
    "qua_data_corpus_test <- corpus_clean[-row.number]\n",
    "\n",
    "\n",
    "findFreqTerms(qua_data_dtm_train, 5) \n",
    "qua_data_dict <- findFreqTerms(qua_data_dtm_train, 5)#After tm version 0.5-10, Dictionary () is removed\n",
    "qua_data_train <- DocumentTermMatrix(qua_data_corpus_train,list(dictionary = qua_data_dict))\n",
    "qua_data_test <- DocumentTermMatrix(qua_data_corpus_test,list(dictionary = qua_data_dict))\n",
    "qua_data_train\n",
    "\n",
    "convert_counts <- function(x) {\n",
    "  x <- ifelse(x > 0, 1, 0)\n",
    "  x <- factor(x, levels=c(0,1), labels=c(\"No\", \"Yes\"))\n",
    "  return(x)\n",
    "}\n",
    "qua_data_train <- apply(qua_data_train, MARGIN = 2, convert_counts)\n",
    "qua_data_test <- apply(qua_data_test, MARGIN = 2, convert_counts)\n",
    "\n",
    "write.csv(qua_data_train,file=\"D:\\\\IT6040\\\\project_excel_themes\\\\gd\\\\csv\\\\mf.csv\",quote=F,row.names = F)\n",
    "\n",
    "#install.packages(\"e1071\")\n",
    "library(e1071)\n",
    "qua_data_classifier <- naiveBayes(qua_data_train, qua_data_raw_train$a,laplace = 1)\n",
    "qua_data_test_pred <- predict(qua_data_classifier, qua_data_test)  \n",
    "#Error in Prediction\n",
    "\n",
    "#install.packages(\"gmodels\")\n",
    "library(gmodels)\n",
    "CrossTable(qua_data_test_pred, qua_data_raw_test$a,prop.chisq = FALSE, prop.t = FALSE,dnn = c('predicted', 'actual'))\n"
   ]
  },
  {
   "cell_type": "code",
   "execution_count": null,
   "metadata": {},
   "outputs": [],
   "source": []
  }
 ],
 "metadata": {
  "kernelspec": {
   "display_name": "R",
   "language": "R",
   "name": "ir"
  },
  "language_info": {
   "codemirror_mode": "r",
   "file_extension": ".r",
   "mimetype": "text/x-r-source",
   "name": "R",
   "pygments_lexer": "r",
   "version": "3.6.1"
  }
 },
 "nbformat": 4,
 "nbformat_minor": 4
}
