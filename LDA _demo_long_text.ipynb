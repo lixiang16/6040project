{
 "cells": [
  {
   "cell_type": "code",
   "execution_count": 1,
   "metadata": {},
   "outputs": [],
   "source": [
    "import pandas as pd"
   ]
  },
  {
   "cell_type": "code",
   "execution_count": 2,
   "metadata": {},
   "outputs": [],
   "source": [
    "data = pd.read_csv(r'D:\\IT6040\\project_demo\\articles.csv')\n"
   ]
  },
  {
   "cell_type": "code",
   "execution_count": 3,
   "metadata": {},
   "outputs": [
    {
     "data": {
      "text/plain": [
       "(309, 2)"
      ]
     },
     "execution_count": 3,
     "metadata": {},
     "output_type": "execute_result"
    }
   ],
   "source": [
    "data.shape"
   ]
  },
  {
   "cell_type": "code",
   "execution_count": 4,
   "metadata": {},
   "outputs": [
    {
     "data": {
      "text/plain": [
       "(308, 2)"
      ]
     },
     "execution_count": 4,
     "metadata": {},
     "output_type": "execute_result"
    }
   ],
   "source": [
    "\n",
    "data = data.dropna().reset_index(drop=True)\n",
    "data.shape"
   ]
  },
  {
   "cell_type": "code",
   "execution_count": 5,
   "metadata": {
    "scrolled": true
   },
   "outputs": [
    {
     "data": {
      "application/vnd.jupyter.widget-view+json": {
       "model_id": "5f3a37c88bd94392971a5ed663f5ff9f",
       "version_major": 2,
       "version_minor": 0
      },
      "text/plain": [
       "HBox(children=(IntProgress(value=1, bar_style='info', max=1), HTML(value='')))"
      ]
     },
     "metadata": {},
     "output_type": "display_data"
    },
    {
     "name": "stderr",
     "output_type": "stream",
     "text": [
      "D:\\anaconda\\lib\\site-packages\\tqdm\\std.py:648: FutureWarning: The Panel class is removed from pandas. Accessing it from the top-level namespace will also be removed in the next version\n",
      "  from pandas import Panel\n"
     ]
    },
    {
     "data": {
      "application/vnd.jupyter.widget-view+json": {
       "model_id": "af146b228c29494db0e3c4537f8f6b9a",
       "version_major": 2,
       "version_minor": 0
      },
      "text/plain": [
       "HBox(children=(IntProgress(value=0, max=308), HTML(value='')))"
      ]
     },
     "metadata": {},
     "output_type": "display_data"
    },
    {
     "name": "stdout",
     "output_type": "stream",
     "text": [
      "\n",
      "\n"
     ]
    },
    {
     "data": {
      "text/plain": [
       "en    256\n",
       "fa      9\n",
       "fr      8\n",
       "id      5\n",
       "vi      4\n",
       "uk      4\n",
       "ru      4\n",
       "ar      4\n",
       "hi      4\n",
       "sw      3\n",
       "tr      2\n",
       "pt      2\n",
       "es      2\n",
       "de      1\n",
       "Name: lang, dtype: int64"
      ]
     },
     "execution_count": 5,
     "metadata": {},
     "output_type": "execute_result"
    }
   ],
   "source": [
    "#keep the english outcome only\n",
    "\n",
    "from langdetect import detect\n",
    "from tqdm import tqdm_notebook\n",
    "tqdm_notebook().pandas()\n",
    "data['lang'] = data.articles.progress_map(detect)\n",
    "data.lang.value_counts()"
   ]
  },
  {
   "cell_type": "code",
   "execution_count": 6,
   "metadata": {},
   "outputs": [],
   "source": [
    "data = data.loc[data.lang=='en']"
   ]
  },
  {
   "cell_type": "code",
   "execution_count": 7,
   "metadata": {},
   "outputs": [],
   "source": [
    "#tokenization for the first 3 sentences of the first article\n",
    "from nltk.tokenize import sent_tokenize"
   ]
  },
  {
   "cell_type": "code",
   "execution_count": 8,
   "metadata": {
    "scrolled": true
   },
   "outputs": [
    {
     "data": {
      "application/vnd.jupyter.widget-view+json": {
       "model_id": "90a4443874f84864920a624b9ebc5629",
       "version_major": 2,
       "version_minor": 0
      },
      "text/plain": [
       "HBox(children=(IntProgress(value=0, max=256), HTML(value='')))"
      ]
     },
     "metadata": {},
     "output_type": "display_data"
    },
    {
     "name": "stdout",
     "output_type": "stream",
     "text": [
      "\n"
     ]
    },
    {
     "data": {
      "text/plain": [
       "['Image copyright PA/EPA Image caption Oligarch Roman Abramovich (l) and PM Dmitry Medvedev are on the list\\r\\n\\r\\nRussian President Vladimir Putin says a list of officials and businessmen close to the Kremlin published by the US has in effect targeted all Russian people.',\n",
       " 'The list names 210 top Russians as part of a sanctions law aimed at punishing Moscow for meddling in the US election.',\n",
       " 'However, the US stressed those named were not subject to new sanctions.']"
      ]
     },
     "execution_count": 8,
     "metadata": {},
     "output_type": "execute_result"
    }
   ],
   "source": [
    "data['sentences'] = data.articles.progress_map(sent_tokenize)\n",
    "data['sentences'].head(1).tolist()[0][:3] # Print the first 3 sentences of the 1st article"
   ]
  },
  {
   "cell_type": "code",
   "execution_count": 9,
   "metadata": {},
   "outputs": [
    {
     "data": {
      "application/vnd.jupyter.widget-view+json": {
       "model_id": "716731c440014a9eacb7a7d5aa778527",
       "version_major": 2,
       "version_minor": 0
      },
      "text/plain": [
       "HBox(children=(IntProgress(value=0, max=256), HTML(value='')))"
      ]
     },
     "metadata": {},
     "output_type": "display_data"
    },
    {
     "name": "stdout",
     "output_type": "stream",
     "text": [
      "\n",
      "[['Image', 'copyright', 'PA/EPA', 'Image', 'caption', 'Oligarch', 'Roman', 'Abramovich', '(', 'l', ')', 'and', 'PM', 'Dmitry', 'Medvedev', 'are', 'on', 'the', 'list', 'Russian', 'President', 'Vladimir', 'Putin', 'says', 'a', 'list', 'of', 'officials', 'and', 'businessmen', 'close', 'to', 'the', 'Kremlin', 'published', 'by', 'the', 'US', 'has', 'in', 'effect', 'targeted', 'all', 'Russian', 'people', '.'], ['The', 'list', 'names', '210', 'top', 'Russians', 'as', 'part', 'of', 'a', 'sanctions', 'law', 'aimed', 'at', 'punishing', 'Moscow', 'for', 'meddling', 'in', 'the', 'US', 'election', '.'], ['However', ',', 'the', 'US', 'stressed', 'those', 'named', 'were', 'not', 'subject', 'to', 'new', 'sanctions', '.']]\n"
     ]
    }
   ],
   "source": [
    "from nltk.tokenize import word_tokenize\n",
    "\n",
    "data['tokens_sentences'] = data['sentences'].progress_map(lambda sentences: [word_tokenize(sentence) for sentence in sentences])\n",
    "print(data['tokens_sentences'].head(1).tolist()[0][:3])"
   ]
  },
  {
   "cell_type": "code",
   "execution_count": 10,
   "metadata": {},
   "outputs": [
    {
     "data": {
      "application/vnd.jupyter.widget-view+json": {
       "model_id": "d3e8884bd421432c8ab7d4e4e7aa179c",
       "version_major": 2,
       "version_minor": 0
      },
      "text/plain": [
       "HBox(children=(IntProgress(value=0, max=256), HTML(value='')))"
      ]
     },
     "metadata": {},
     "output_type": "display_data"
    },
    {
     "name": "stdout",
     "output_type": "stream",
     "text": [
      "\n",
      "[[('Image', 'NN'), ('copyright', 'NN'), ('PA/EPA', 'NNP'), ('Image', 'NNP'), ('caption', 'NN'), ('Oligarch', 'NNP'), ('Roman', 'NNP'), ('Abramovich', 'NNP'), ('(', '('), ('l', 'NN'), (')', ')'), ('and', 'CC'), ('PM', 'NNP'), ('Dmitry', 'NNP'), ('Medvedev', 'NNP'), ('are', 'VBP'), ('on', 'IN'), ('the', 'DT'), ('list', 'NN'), ('Russian', 'NNP'), ('President', 'NNP'), ('Vladimir', 'NNP'), ('Putin', 'NNP'), ('says', 'VBZ'), ('a', 'DT'), ('list', 'NN'), ('of', 'IN'), ('officials', 'NNS'), ('and', 'CC'), ('businessmen', 'NNS'), ('close', 'RB'), ('to', 'TO'), ('the', 'DT'), ('Kremlin', 'NNP'), ('published', 'VBN'), ('by', 'IN'), ('the', 'DT'), ('US', 'NNP'), ('has', 'VBZ'), ('in', 'IN'), ('effect', 'NN'), ('targeted', 'VBN'), ('all', 'DT'), ('Russian', 'JJ'), ('people', 'NNS'), ('.', '.')], [('The', 'DT'), ('list', 'NN'), ('names', 'RB'), ('210', 'CD'), ('top', 'JJ'), ('Russians', 'NNPS'), ('as', 'IN'), ('part', 'NN'), ('of', 'IN'), ('a', 'DT'), ('sanctions', 'NNS'), ('law', 'NN'), ('aimed', 'VBN'), ('at', 'IN'), ('punishing', 'VBG'), ('Moscow', 'NNP'), ('for', 'IN'), ('meddling', 'VBG'), ('in', 'IN'), ('the', 'DT'), ('US', 'NNP'), ('election', 'NN'), ('.', '.')], [('However', 'RB'), (',', ','), ('the', 'DT'), ('US', 'NNP'), ('stressed', 'VBD'), ('those', 'DT'), ('named', 'VBN'), ('were', 'VBD'), ('not', 'RB'), ('subject', 'JJ'), ('to', 'TO'), ('new', 'JJ'), ('sanctions', 'NNS'), ('.', '.')]]\n"
     ]
    }
   ],
   "source": [
    "#Lemmatizing with POS tagging\n",
    "from nltk import pos_tag\n",
    "data['POS_tokens'] = data['tokens_sentences'].progress_map(lambda tokens_sentences: [pos_tag(tokens) for tokens in tokens_sentences])\n",
    "print(data['POS_tokens'].head(1).tolist()[0][:3])\n"
   ]
  },
  {
   "cell_type": "code",
   "execution_count": 11,
   "metadata": {},
   "outputs": [],
   "source": [
    "# https://stackoverflow.com/a/15590384\n",
    "from nltk.corpus import wordnet\n",
    "\n",
    "def get_wordnet_pos(treebank_tag):\n",
    "\n",
    "    if treebank_tag.startswith('J'):\n",
    "        return wordnet.ADJ\n",
    "    elif treebank_tag.startswith('V'):\n",
    "        return wordnet.VERB\n",
    "    elif treebank_tag.startswith('N'):\n",
    "        return wordnet.NOUN\n",
    "    elif treebank_tag.startswith('R'):\n",
    "        return wordnet.ADV\n",
    "    else:\n",
    "        return ''\n",
    "\n",
    "from nltk.stem.wordnet import WordNetLemmatizer\n",
    "lemmatizer = WordNetLemmatizer()"
   ]
  },
  {
   "cell_type": "code",
   "execution_count": 12,
   "metadata": {
    "scrolled": true
   },
   "outputs": [
    {
     "data": {
      "application/vnd.jupyter.widget-view+json": {
       "model_id": "256c5153fded461e8c6d1ec81a570b47",
       "version_major": 2,
       "version_minor": 0
      },
      "text/plain": [
       "HBox(children=(IntProgress(value=0, max=256), HTML(value='')))"
      ]
     },
     "metadata": {},
     "output_type": "display_data"
    },
    {
     "name": "stdout",
     "output_type": "stream",
     "text": [
      "\n"
     ]
    }
   ],
   "source": [
    "# Lemmatizing each word with its POS tag, in each sentence\n",
    "data['tokens_sentences_lemmatized'] = data['POS_tokens'].progress_map(\n",
    "    lambda list_tokens_POS: [\n",
    "        [\n",
    "            lemmatizer.lemmatize(el[0], get_wordnet_pos(el[1])) \n",
    "            if get_wordnet_pos(el[1]) != '' else el[0] for el in tokens_POS\n",
    "        ] \n",
    "        for tokens_POS in list_tokens_POS\n",
    "    ]\n",
    ")"
   ]
  },
  {
   "cell_type": "code",
   "execution_count": 13,
   "metadata": {
    "scrolled": true
   },
   "outputs": [
    {
     "data": {
      "text/plain": [
       "[['Image',\n",
       "  'copyright',\n",
       "  'PA/EPA',\n",
       "  'Image',\n",
       "  'caption',\n",
       "  'Oligarch',\n",
       "  'Roman',\n",
       "  'Abramovich',\n",
       "  '(',\n",
       "  'l',\n",
       "  ')',\n",
       "  'and',\n",
       "  'PM',\n",
       "  'Dmitry',\n",
       "  'Medvedev',\n",
       "  'be',\n",
       "  'on',\n",
       "  'the',\n",
       "  'list',\n",
       "  'Russian',\n",
       "  'President',\n",
       "  'Vladimir',\n",
       "  'Putin',\n",
       "  'say',\n",
       "  'a',\n",
       "  'list',\n",
       "  'of',\n",
       "  'official',\n",
       "  'and',\n",
       "  'businessmen',\n",
       "  'close',\n",
       "  'to',\n",
       "  'the',\n",
       "  'Kremlin',\n",
       "  'publish',\n",
       "  'by',\n",
       "  'the',\n",
       "  'US',\n",
       "  'have',\n",
       "  'in',\n",
       "  'effect',\n",
       "  'target',\n",
       "  'all',\n",
       "  'Russian',\n",
       "  'people',\n",
       "  '.'],\n",
       " ['The',\n",
       "  'list',\n",
       "  'names',\n",
       "  '210',\n",
       "  'top',\n",
       "  'Russians',\n",
       "  'as',\n",
       "  'part',\n",
       "  'of',\n",
       "  'a',\n",
       "  'sanction',\n",
       "  'law',\n",
       "  'aim',\n",
       "  'at',\n",
       "  'punish',\n",
       "  'Moscow',\n",
       "  'for',\n",
       "  'meddle',\n",
       "  'in',\n",
       "  'the',\n",
       "  'US',\n",
       "  'election',\n",
       "  '.'],\n",
       " ['However',\n",
       "  ',',\n",
       "  'the',\n",
       "  'US',\n",
       "  'stress',\n",
       "  'those',\n",
       "  'name',\n",
       "  'be',\n",
       "  'not',\n",
       "  'subject',\n",
       "  'to',\n",
       "  'new',\n",
       "  'sanction',\n",
       "  '.']]"
      ]
     },
     "execution_count": 13,
     "metadata": {},
     "output_type": "execute_result"
    }
   ],
   "source": [
    "data['tokens_sentences_lemmatized'].head(1).tolist()[0][:3]"
   ]
  },
  {
   "cell_type": "code",
   "execution_count": 14,
   "metadata": {},
   "outputs": [],
   "source": [
    "\n",
    "from nltk.corpus import stopwords\n",
    "stopwords_verbs = ['say', 'get', 'go', 'know', 'may', 'need', 'like', 'make', 'see', 'want', 'come', 'take', 'use', 'would', 'can']\n",
    "stopwords_other = ['one', 'mr', 'bbc', 'image', 'getty', 'de', 'en', 'caption', 'also', 'copyright', 'something']\n",
    "my_stopwords = stopwords.words('English') + stopwords_verbs + stopwords_other"
   ]
  },
  {
   "cell_type": "code",
   "execution_count": 15,
   "metadata": {},
   "outputs": [],
   "source": [
    "\n",
    "from itertools import chain # to flatten list of sentences of tokens into list of tokens"
   ]
  },
  {
   "cell_type": "code",
   "execution_count": 16,
   "metadata": {},
   "outputs": [],
   "source": [
    "\n",
    "data['tokens'] = data['tokens_sentences_lemmatized'].map(lambda sentences: list(chain.from_iterable(sentences)))\n",
    "data['tokens'] = data['tokens'].map(lambda tokens: [token.lower() for token in tokens if token.isalpha() \n",
    "                                                    and token.lower() not in my_stopwords and len(token)>1])"
   ]
  },
  {
   "cell_type": "code",
   "execution_count": 17,
   "metadata": {},
   "outputs": [
    {
     "data": {
      "text/plain": [
       "['oligarch',\n",
       " 'roman',\n",
       " 'abramovich',\n",
       " 'pm',\n",
       " 'dmitry',\n",
       " 'medvedev',\n",
       " 'list',\n",
       " 'russian',\n",
       " 'president',\n",
       " 'vladimir',\n",
       " 'putin',\n",
       " 'list',\n",
       " 'official',\n",
       " 'businessmen',\n",
       " 'close',\n",
       " 'kremlin',\n",
       " 'publish',\n",
       " 'us',\n",
       " 'effect',\n",
       " 'target',\n",
       " 'russian',\n",
       " 'people',\n",
       " 'list',\n",
       " 'names',\n",
       " 'top',\n",
       " 'russians',\n",
       " 'part',\n",
       " 'sanction',\n",
       " 'law',\n",
       " 'aim']"
      ]
     },
     "execution_count": 17,
     "metadata": {},
     "output_type": "execute_result"
    }
   ],
   "source": [
    "\n",
    "data['tokens'].head(1).tolist()[0][:30]"
   ]
  },
  {
   "cell_type": "code",
   "execution_count": 18,
   "metadata": {},
   "outputs": [],
   "source": [
    "#LDA data preparation \n",
    "\n",
    "from gensim.models import Phrases"
   ]
  },
  {
   "cell_type": "code",
   "execution_count": 19,
   "metadata": {},
   "outputs": [],
   "source": [
    "\n",
    "tokens = data['tokens'].tolist()\n",
    "bigram_model = Phrases(tokens)\n",
    "trigram_model = Phrases(bigram_model[tokens], min_count=1)\n",
    "tokens = list(trigram_model[bigram_model[tokens]])"
   ]
  },
  {
   "cell_type": "code",
   "execution_count": 21,
   "metadata": {},
   "outputs": [],
   "source": [
    "#prepare objects for LDA gensim implementation\n",
    "from gensim import corpora\n",
    "dictionary_LDA = corpora.Dictionary(tokens)\n",
    "dictionary_LDA.filter_extremes(no_below=3)\n",
    "corpus = [dictionary_LDA.doc2bow(tok) for tok in tokens]"
   ]
  },
  {
   "cell_type": "raw",
   "metadata": {},
   "source": []
  },
  {
   "cell_type": "code",
   "execution_count": 22,
   "metadata": {},
   "outputs": [],
   "source": [
    "#Running LDA\n",
    "from gensim import models\n",
    "import numpy as np"
   ]
  },
  {
   "cell_type": "code",
   "execution_count": 23,
   "metadata": {},
   "outputs": [
    {
     "name": "stdout",
     "output_type": "stream",
     "text": [
      "Wall time: 942 ms\n"
     ]
    }
   ],
   "source": [
    "np.random.seed(123456)\n",
    "num_topics = 20\n",
    "%time lda_model = models.LdaModel(corpus, num_topics=num_topics, \\\n",
    "                                  id2word=dictionary_LDA, \\\n",
    "                                  passes=4, alpha=[0.01]*num_topics, \\\n",
    "                                  eta=[0.01]*len(dictionary_LDA.keys()))\n"
   ]
  },
  {
   "cell_type": "code",
   "execution_count": 24,
   "metadata": {},
   "outputs": [
    {
     "name": "stdout",
     "output_type": "stream",
     "text": [
      "0: 0.010*\"animal\" + 0.009*\"specie\" + 0.009*\"help\" + 0.007*\"night\" + 0.007*\"find\" + 0.006*\"day\" + 0.006*\"light\" + 0.006*\"part\" + 0.006*\"predator\" + 0.006*\"act\" + 0.006*\"transparent\" + 0.005*\"however\" + 0.005*\"us\" + 0.005*\"area\" + 0.005*\"drug\" + 0.005*\"team\" + 0.005*\"water\" + 0.005*\"release\" + 0.005*\"local\" + 0.005*\"fish\"\n",
      "\n",
      "1: 0.016*\"images\" + 0.011*\"customer\" + 0.009*\"star\" + 0.008*\"moment\" + 0.007*\"night\" + 0.007*\"time\" + 0.007*\"add\" + 0.007*\"give\" + 0.007*\"show\" + 0.006*\"woman\" + 0.006*\"year\" + 0.006*\"reuters\" + 0.006*\"call\" + 0.006*\"event\" + 0.005*\"performance\" + 0.005*\"prize\" + 0.005*\"home\" + 0.005*\"supermarket\" + 0.004*\"another\" + 0.004*\"could\"\n",
      "\n",
      "2: 0.006*\"us\" + 0.006*\"work\" + 0.005*\"people\" + 0.005*\"first\" + 0.005*\"time\" + 0.005*\"year\" + 0.004*\"city\" + 0.004*\"show\" + 0.004*\"back\" + 0.004*\"become\" + 0.004*\"home\" + 0.004*\"restaurant\" + 0.004*\"part\" + 0.004*\"run\" + 0.004*\"tunnel\" + 0.004*\"old\" + 0.004*\"could\" + 0.004*\"dish\" + 0.004*\"find\" + 0.004*\"bring\"\n",
      "\n",
      "3: 0.014*\"separatist\" + 0.011*\"loan\" + 0.011*\"ansar_dine\" + 0.009*\"force\" + 0.009*\"government\" + 0.009*\"moment\" + 0.008*\"tuareg\" + 0.008*\"call\" + 0.007*\"war\" + 0.007*\"coalition\" + 0.007*\"city\" + 0.007*\"people\" + 0.006*\"saudi_arabia\" + 0.006*\"group\" + 0.006*\"us\" + 0.006*\"leave\" + 0.005*\"rebel\" + 0.005*\"remain\" + 0.005*\"photo\" + 0.005*\"south\"\n",
      "\n",
      "4: 0.007*\"people\" + 0.006*\"wave\" + 0.005*\"benefit\" + 0.005*\"water\" + 0.005*\"find\" + 0.005*\"first\" + 0.005*\"town\" + 0.005*\"think\" + 0.005*\"tell\" + 0.005*\"way\" + 0.005*\"village\" + 0.004*\"ocean\" + 0.004*\"world\" + 0.004*\"city\" + 0.004*\"back\" + 0.004*\"time\" + 0.004*\"look\" + 0.004*\"number\" + 0.004*\"could\" + 0.004*\"call\"\n",
      "\n",
      "5: 0.023*\"news\" + 0.011*\"link\" + 0.010*\"output\" + 0.008*\"material\" + 0.008*\"work\" + 0.008*\"journalism\" + 0.008*\"issue\" + 0.008*\"policy\" + 0.007*\"information\" + 0.007*\"source\" + 0.007*\"report\" + 0.007*\"audience\" + 0.007*\"story\" + 0.007*\"website\" + 0.006*\"shy\" + 0.006*\"journalist\" + 0.006*\"following\" + 0.006*\"fact\" + 0.006*\"relevant\" + 0.006*\"content\"\n",
      "\n",
      "6: 0.016*\"news\" + 0.008*\"people\" + 0.008*\"event\" + 0.007*\"allow\" + 0.007*\"police\" + 0.007*\"president\" + 0.006*\"authority\" + 0.005*\"report\" + 0.005*\"twitter\" + 0.005*\"lion\" + 0.005*\"medium\" + 0.005*\"election\" + 0.005*\"supporter\" + 0.004*\"add\" + 0.004*\"live\" + 0.004*\"still\" + 0.004*\"grow\" + 0.004*\"follow\" + 0.004*\"leave\" + 0.004*\"decade\"\n",
      "\n",
      "7: 0.017*\"game\" + 0.013*\"show\" + 0.012*\"drug\" + 0.011*\"kick\" + 0.008*\"amazon\" + 0.008*\"series\" + 0.008*\"rating\" + 0.008*\"store\" + 0.008*\"male\" + 0.007*\"study\" + 0.007*\"give\" + 0.006*\"mate\" + 0.006*\"time\" + 0.006*\"ant\" + 0.006*\"example\" + 0.006*\"include\" + 0.005*\"box\" + 0.005*\"item\" + 0.005*\"back\" + 0.005*\"child\"\n",
      "\n",
      "8: 0.008*\"us\" + 0.007*\"could\" + 0.006*\"people\" + 0.006*\"russia\" + 0.005*\"trump\" + 0.005*\"president\" + 0.005*\"march\" + 0.005*\"attack\" + 0.005*\"write\" + 0.005*\"many\" + 0.004*\"tell\" + 0.004*\"man\" + 0.004*\"satellite\" + 0.004*\"flight\" + 0.004*\"help\" + 0.004*\"move\" + 0.004*\"job\" + 0.004*\"video\" + 0.004*\"later\" + 0.004*\"year\"\n",
      "\n",
      "9: 0.016*\"prey\" + 0.011*\"case\" + 0.008*\"evidence\" + 0.008*\"review\" + 0.007*\"find\" + 0.006*\"move\" + 0.006*\"message\" + 0.006*\"predator\" + 0.006*\"force\" + 0.006*\"fly\" + 0.006*\"group\" + 0.005*\"behaviour\" + 0.005*\"president\" + 0.005*\"touch\" + 0.005*\"evolve\" + 0.004*\"leg\" + 0.004*\"living\" + 0.004*\"insect\" + 0.004*\"try\" + 0.004*\"attack\"\n",
      "\n",
      "10: 0.008*\"people\" + 0.007*\"brexit\" + 0.007*\"tell\" + 0.006*\"government\" + 0.006*\"find\" + 0.006*\"think\" + 0.005*\"time\" + 0.005*\"happen\" + 0.005*\"support\" + 0.005*\"even\" + 0.004*\"work\" + 0.004*\"us\" + 0.004*\"look\" + 0.004*\"report\" + 0.004*\"uk\" + 0.004*\"day\" + 0.004*\"test\" + 0.004*\"could\" + 0.004*\"bee\" + 0.004*\"minister\"\n",
      "\n",
      "11: 0.012*\"test\" + 0.011*\"study\" + 0.011*\"stress\" + 0.010*\"us\" + 0.010*\"healthcare\" + 0.008*\"day\" + 0.008*\"level\" + 0.007*\"keep\" + 0.007*\"human\" + 0.007*\"find\" + 0.007*\"put\" + 0.007*\"body\" + 0.007*\"try\" + 0.007*\"effect\" + 0.006*\"sleep\" + 0.006*\"images\" + 0.006*\"health\" + 0.005*\"flight\" + 0.005*\"even\" + 0.005*\"lead\"\n",
      "\n",
      "12: 0.016*\"work\" + 0.012*\"people\" + 0.009*\"call\" + 0.008*\"model\" + 0.008*\"include\" + 0.007*\"help\" + 0.007*\"spanish\" + 0.006*\"sleep\" + 0.006*\"well\" + 0.006*\"fashion\" + 0.006*\"accord\" + 0.005*\"age\" + 0.005*\"university\" + 0.005*\"president\" + 0.005*\"number\" + 0.005*\"immigrant\" + 0.005*\"job\" + 0.004*\"believe\" + 0.004*\"could\" + 0.004*\"least\"\n",
      "\n",
      "13: 0.019*\"question\" + 0.014*\"video\" + 0.013*\"design\" + 0.012*\"student\" + 0.012*\"logo\" + 0.009*\"platform\" + 0.008*\"call\" + 0.008*\"country\" + 0.008*\"tourism\" + 0.008*\"product\" + 0.008*\"captain\" + 0.007*\"chinese\" + 0.007*\"app\" + 0.007*\"device\" + 0.007*\"animal\" + 0.006*\"think\" + 0.006*\"answer\" + 0.006*\"respect\" + 0.006*\"home\" + 0.005*\"include\"\n",
      "\n",
      "14: 0.014*\"us\" + 0.008*\"time\" + 0.008*\"year\" + 0.008*\"america\" + 0.008*\"people\" + 0.006*\"island\" + 0.006*\"place\" + 0.005*\"president\" + 0.005*\"code\" + 0.005*\"photograph\" + 0.005*\"put\" + 0.005*\"trump\" + 0.005*\"first\" + 0.005*\"two\" + 0.005*\"new\" + 0.005*\"find\" + 0.005*\"still\" + 0.004*\"include\" + 0.004*\"china\" + 0.004*\"form\"\n",
      "\n",
      "15: 0.013*\"could\" + 0.010*\"call\" + 0.010*\"base\" + 0.010*\"data\" + 0.008*\"publish\" + 0.008*\"think\" + 0.008*\"us\" + 0.007*\"journalist\" + 0.006*\"security\" + 0.006*\"system\" + 0.006*\"story\" + 0.006*\"northern_mali\" + 0.006*\"transparent\" + 0.005*\"light\" + 0.005*\"report\" + 0.005*\"activity\" + 0.005*\"work\" + 0.005*\"many\" + 0.005*\"news\" + 0.005*\"part\"\n",
      "\n",
      "16: 0.010*\"light\" + 0.009*\"people\" + 0.009*\"day\" + 0.008*\"us\" + 0.007*\"list\" + 0.007*\"work\" + 0.007*\"find\" + 0.006*\"actor\" + 0.005*\"think\" + 0.005*\"year\" + 0.005*\"name\" + 0.005*\"africa\" + 0.005*\"much\" + 0.005*\"time\" + 0.005*\"former\" + 0.005*\"add\" + 0.005*\"first\" + 0.005*\"images\" + 0.004*\"claim\" + 0.004*\"write\"\n",
      "\n",
      "17: 0.014*\"idea\" + 0.009*\"find\" + 0.008*\"world\" + 0.008*\"work\" + 0.007*\"start\" + 0.007*\"fast\" + 0.007*\"analysis\" + 0.007*\"show\" + 0.007*\"pick\" + 0.006*\"document\" + 0.006*\"uk\" + 0.006*\"section\" + 0.005*\"please\" + 0.005*\"list\" + 0.005*\"include\" + 0.005*\"usually\" + 0.005*\"place\" + 0.005*\"good\" + 0.005*\"film\" + 0.005*\"tech\"\n",
      "\n",
      "18: 0.017*\"eu\" + 0.015*\"dutch\" + 0.009*\"europe\" + 0.008*\"visit\" + 0.008*\"border\" + 0.007*\"treatment\" + 0.007*\"country\" + 0.006*\"netherlands\" + 0.005*\"help\" + 0.005*\"brain\" + 0.005*\"benefit\" + 0.005*\"problem\" + 0.005*\"part\" + 0.005*\"back\" + 0.005*\"first\" + 0.005*\"tell\" + 0.004*\"look\" + 0.004*\"vision\" + 0.004*\"government\" + 0.004*\"patient\"\n",
      "\n",
      "19: 0.019*\"chris\" + 0.019*\"award\" + 0.016*\"girl\" + 0.013*\"producer\" + 0.013*\"men\" + 0.013*\"woman\" + 0.010*\"photograph\" + 0.009*\"sunday\" + 0.009*\"live\" + 0.009*\"year\" + 0.008*\"three\" + 0.008*\"us\" + 0.008*\"prize\" + 0.007*\"london\" + 0.007*\"important\" + 0.007*\"pitch\" + 0.007*\"football\" + 0.007*\"picture\" + 0.007*\"meet\" + 0.007*\"away\"\n",
      "\n"
     ]
    }
   ],
   "source": [
    "#SOME OUTCOME OF LDA\n",
    "for i,topic in lda_model.show_topics(formatted=True, num_topics=num_topics, num_words=20):\n",
    "    print(str(i)+\": \"+ topic)\n",
    "    print()"
   ]
  },
  {
   "cell_type": "code",
   "execution_count": 30,
   "metadata": {
    "scrolled": false
   },
   "outputs": [
    {
     "name": "stdout",
     "output_type": "stream",
     "text": [
      "Image copyright PA/EPA Image caption Oligarch Roman Abramovich (l) and PM Dmitry Medvedev are on the list\n",
      "\n",
      "Russian President Vladimir Putin says a list of officials and businessmen close to the Kremlin published by the US has in effect targeted all Russian people.\n",
      "\n",
      "The list names 210 top Russians as part of a sanctions law aimed at punishing Moscow for meddling in the US election.\n",
      "\n",
      "However, the US stressed those named were not subject to new sanctions.\n",
      "\n",
      "Mr Putin said the list was an unfr\n"
     ]
    }
   ],
   "source": [
    "print(data.articles.loc[0][:500])"
   ]
  },
  {
   "cell_type": "code",
   "execution_count": 32,
   "metadata": {},
   "outputs": [
    {
     "data": {
      "text/plain": [
       "[(8, 0.15950443), (9, 0.011100353), (11, 0.08694709), (16, 0.7410217)]"
      ]
     },
     "execution_count": 32,
     "metadata": {},
     "output_type": "execute_result"
    }
   ],
   "source": [
    "lda_model[corpus[0]]"
   ]
  },
  {
   "cell_type": "code",
   "execution_count": 33,
   "metadata": {},
   "outputs": [
    {
     "data": {
      "text/html": [
       "<div>\n",
       "<style scoped>\n",
       "    .dataframe tbody tr th:only-of-type {\n",
       "        vertical-align: middle;\n",
       "    }\n",
       "\n",
       "    .dataframe tbody tr th {\n",
       "        vertical-align: top;\n",
       "    }\n",
       "\n",
       "    .dataframe thead th {\n",
       "        text-align: right;\n",
       "    }\n",
       "</style>\n",
       "<table border=\"1\" class=\"dataframe\">\n",
       "  <thead>\n",
       "    <tr style=\"text-align: right;\">\n",
       "      <th></th>\n",
       "      <th>topic #</th>\n",
       "      <th>weight</th>\n",
       "      <th>words in topic</th>\n",
       "    </tr>\n",
       "  </thead>\n",
       "  <tbody>\n",
       "    <tr>\n",
       "      <td>0</td>\n",
       "      <td>2</td>\n",
       "      <td>0.21</td>\n",
       "      <td>0.006*\"us\" + 0.006*\"work\" + 0.005*\"people\" + 0...</td>\n",
       "    </tr>\n",
       "    <tr>\n",
       "      <td>1</td>\n",
       "      <td>4</td>\n",
       "      <td>0.09</td>\n",
       "      <td>0.007*\"people\" + 0.006*\"wave\" + 0.005*\"benefit...</td>\n",
       "    </tr>\n",
       "    <tr>\n",
       "      <td>2</td>\n",
       "      <td>8</td>\n",
       "      <td>0.42</td>\n",
       "      <td>0.008*\"us\" + 0.007*\"could\" + 0.006*\"people\" + ...</td>\n",
       "    </tr>\n",
       "    <tr>\n",
       "      <td>3</td>\n",
       "      <td>12</td>\n",
       "      <td>0.11</td>\n",
       "      <td>0.016*\"work\" + 0.012*\"people\" + 0.009*\"call\" +...</td>\n",
       "    </tr>\n",
       "    <tr>\n",
       "      <td>4</td>\n",
       "      <td>15</td>\n",
       "      <td>0.17</td>\n",
       "      <td>0.013*\"could\" + 0.010*\"call\" + 0.010*\"base\" + ...</td>\n",
       "    </tr>\n",
       "  </tbody>\n",
       "</table>\n",
       "</div>"
      ],
      "text/plain": [
       "   topic #  weight                                     words in topic\n",
       "0        2    0.21  0.006*\"us\" + 0.006*\"work\" + 0.005*\"people\" + 0...\n",
       "1        4    0.09  0.007*\"people\" + 0.006*\"wave\" + 0.005*\"benefit...\n",
       "2        8    0.42  0.008*\"us\" + 0.007*\"could\" + 0.006*\"people\" + ...\n",
       "3       12    0.11  0.016*\"work\" + 0.012*\"people\" + 0.009*\"call\" +...\n",
       "4       15    0.17  0.013*\"could\" + 0.010*\"call\" + 0.010*\"base\" + ..."
      ]
     },
     "execution_count": 33,
     "metadata": {},
     "output_type": "execute_result"
    }
   ],
   "source": [
    "#predicting topics\n",
    "document = '''Eric Tucker, a 35-year-old co-founder of a marketing company in Austin, Tex., had just about 40 Twitter followers. But his recent tweet about paid protesters being bused to demonstrations against President-elect Donald J. Trump fueled a nationwide conspiracy theory — one that Mr. Trump joined in promoting. \n",
    "\n",
    "Mr. Tucker's post was shared at least 16,000 times on Twitter and more than 350,000 times on Facebook. The problem is that Mr. Tucker got it wrong. There were no such buses packed with paid protesters.\n",
    "\n",
    "But that didn't matter.\n",
    "\n",
    "While some fake news is produced purposefully by teenagers in the Balkans or entrepreneurs in the United States seeking to make money from advertising, false information can also arise from misinformed social media posts by regular people that are seized on and spread through a hyperpartisan blogosphere.\n",
    "\n",
    "Here, The New York Times deconstructs how Mr. Tucker’s now-deleted declaration on Twitter the night after the election turned into a fake-news phenomenon. It is an example of how, in an ever-connected world where speed often takes precedence over truth, an observation by a private citizen can quickly become a talking point, even as it is being proved false.'''\n",
    "tokens = word_tokenize(document)\n",
    "topics = lda_model.show_topics(formatted=True, num_topics=num_topics, num_words=20)\n",
    "pd.DataFrame([(el[0], round(el[1],2), topics[el[0]][1]) for el in lda_model[dictionary_LDA.doc2bow(tokens)]], columns=['topic #', 'weight', 'words in topic'])"
   ]
  },
  {
   "cell_type": "code",
   "execution_count": null,
   "metadata": {},
   "outputs": [],
   "source": []
  }
 ],
 "metadata": {
  "kernelspec": {
   "display_name": "Python 3",
   "language": "python",
   "name": "python3"
  },
  "language_info": {
   "codemirror_mode": {
    "name": "ipython",
    "version": 3
   },
   "file_extension": ".py",
   "mimetype": "text/x-python",
   "name": "python",
   "nbconvert_exporter": "python",
   "pygments_lexer": "ipython3",
   "version": "3.7.4"
  }
 },
 "nbformat": 4,
 "nbformat_minor": 2
}
