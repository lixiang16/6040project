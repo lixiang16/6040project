{
 "cells": [
  {
   "cell_type": "code",
   "execution_count": 1,
   "metadata": {},
   "outputs": [],
   "source": [
    "import pandas as pd"
   ]
  },
  {
   "cell_type": "code",
   "execution_count": 2,
   "metadata": {},
   "outputs": [],
   "source": [
    "data = pd.read_csv(r'D:\\IT6040\\project_excel_themes\\gd\\csv\\mf.csv')\n"
   ]
  },
  {
   "cell_type": "code",
   "execution_count": 3,
   "metadata": {},
   "outputs": [],
   "source": [
    "to_drop =['a','b','c','d','e']\n",
    "data.drop(to_drop, inplace=True, axis=1)"
   ]
  },
  {
   "cell_type": "code",
   "execution_count": 4,
   "metadata": {},
   "outputs": [
    {
     "data": {
      "text/html": [
       "<div>\n",
       "<style scoped>\n",
       "    .dataframe tbody tr th:only-of-type {\n",
       "        vertical-align: middle;\n",
       "    }\n",
       "\n",
       "    .dataframe tbody tr th {\n",
       "        vertical-align: top;\n",
       "    }\n",
       "\n",
       "    .dataframe thead th {\n",
       "        text-align: right;\n",
       "    }\n",
       "</style>\n",
       "<table border=\"1\" class=\"dataframe\">\n",
       "  <thead>\n",
       "    <tr style=\"text-align: right;\">\n",
       "      <th></th>\n",
       "      <th>comments</th>\n",
       "    </tr>\n",
       "  </thead>\n",
       "  <tbody>\n",
       "    <tr>\n",
       "      <td>0</td>\n",
       "      <td>Unfortunately, I have witnessed a very \"boys c...</td>\n",
       "    </tr>\n",
       "    <tr>\n",
       "      <td>1</td>\n",
       "      <td>The main area I notice a lack of gender divers...</td>\n",
       "    </tr>\n",
       "    <tr>\n",
       "      <td>2</td>\n",
       "      <td>I believe that there are efforts from the lowe...</td>\n",
       "    </tr>\n",
       "    <tr>\n",
       "      <td>3</td>\n",
       "      <td>it's not just about the gender but also divers...</td>\n",
       "    </tr>\n",
       "    <tr>\n",
       "      <td>4</td>\n",
       "      <td>We need to employ/retain or promote women at t...</td>\n",
       "    </tr>\n",
       "    <tr>\n",
       "      <td>...</td>\n",
       "      <td>...</td>\n",
       "    </tr>\n",
       "    <tr>\n",
       "      <td>159</td>\n",
       "      <td>My perception is the issues are heaviest at th...</td>\n",
       "    </tr>\n",
       "    <tr>\n",
       "      <td>160</td>\n",
       "      <td>I'm too new at XXX to comment.</td>\n",
       "    </tr>\n",
       "    <tr>\n",
       "      <td>161</td>\n",
       "      <td>There has been an absence of *competent* women...</td>\n",
       "    </tr>\n",
       "    <tr>\n",
       "      <td>162</td>\n",
       "      <td>There are a lot of female employees, but most ...</td>\n",
       "    </tr>\n",
       "    <tr>\n",
       "      <td>163</td>\n",
       "      <td>NaN</td>\n",
       "    </tr>\n",
       "  </tbody>\n",
       "</table>\n",
       "<p>164 rows × 1 columns</p>\n",
       "</div>"
      ],
      "text/plain": [
       "                                              comments\n",
       "0    Unfortunately, I have witnessed a very \"boys c...\n",
       "1    The main area I notice a lack of gender divers...\n",
       "2    I believe that there are efforts from the lowe...\n",
       "3    it's not just about the gender but also divers...\n",
       "4    We need to employ/retain or promote women at t...\n",
       "..                                                 ...\n",
       "159  My perception is the issues are heaviest at th...\n",
       "160                     I'm too new at XXX to comment.\n",
       "161  There has been an absence of *competent* women...\n",
       "162  There are a lot of female employees, but most ...\n",
       "163                                                NaN\n",
       "\n",
       "[164 rows x 1 columns]"
      ]
     },
     "execution_count": 4,
     "metadata": {},
     "output_type": "execute_result"
    }
   ],
   "source": [
    "data.dropna(axis=1, how='all')#remove all NaN value"
   ]
  },
  {
   "cell_type": "code",
   "execution_count": 5,
   "metadata": {},
   "outputs": [
    {
     "data": {
      "text/html": [
       "<div>\n",
       "<style scoped>\n",
       "    .dataframe tbody tr th:only-of-type {\n",
       "        vertical-align: middle;\n",
       "    }\n",
       "\n",
       "    .dataframe tbody tr th {\n",
       "        vertical-align: top;\n",
       "    }\n",
       "\n",
       "    .dataframe thead th {\n",
       "        text-align: right;\n",
       "    }\n",
       "</style>\n",
       "<table border=\"1\" class=\"dataframe\">\n",
       "  <thead>\n",
       "    <tr style=\"text-align: right;\">\n",
       "      <th></th>\n",
       "      <th>comments</th>\n",
       "    </tr>\n",
       "  </thead>\n",
       "  <tbody>\n",
       "    <tr>\n",
       "      <td>0</td>\n",
       "      <td>unfortunately, i have witnessed a very \"boys c...</td>\n",
       "    </tr>\n",
       "    <tr>\n",
       "      <td>1</td>\n",
       "      <td>the main area i notice a lack of gender divers...</td>\n",
       "    </tr>\n",
       "    <tr>\n",
       "      <td>2</td>\n",
       "      <td>i believe that there are efforts from the lowe...</td>\n",
       "    </tr>\n",
       "    <tr>\n",
       "      <td>3</td>\n",
       "      <td>it's not just about the gender but also divers...</td>\n",
       "    </tr>\n",
       "    <tr>\n",
       "      <td>4</td>\n",
       "      <td>we need to employ/retain or promote women at t...</td>\n",
       "    </tr>\n",
       "    <tr>\n",
       "      <td>...</td>\n",
       "      <td>...</td>\n",
       "    </tr>\n",
       "    <tr>\n",
       "      <td>159</td>\n",
       "      <td>my perception is the issues are heaviest at th...</td>\n",
       "    </tr>\n",
       "    <tr>\n",
       "      <td>160</td>\n",
       "      <td>i'm too new at xxx to comment.</td>\n",
       "    </tr>\n",
       "    <tr>\n",
       "      <td>161</td>\n",
       "      <td>there has been an absence of *competent* women...</td>\n",
       "    </tr>\n",
       "    <tr>\n",
       "      <td>162</td>\n",
       "      <td>there are a lot of female employees, but most ...</td>\n",
       "    </tr>\n",
       "    <tr>\n",
       "      <td>163</td>\n",
       "      <td>nan</td>\n",
       "    </tr>\n",
       "  </tbody>\n",
       "</table>\n",
       "<p>164 rows × 1 columns</p>\n",
       "</div>"
      ],
      "text/plain": [
       "                                              comments\n",
       "0    unfortunately, i have witnessed a very \"boys c...\n",
       "1    the main area i notice a lack of gender divers...\n",
       "2    i believe that there are efforts from the lowe...\n",
       "3    it's not just about the gender but also divers...\n",
       "4    we need to employ/retain or promote women at t...\n",
       "..                                                 ...\n",
       "159  my perception is the issues are heaviest at th...\n",
       "160                     i'm too new at xxx to comment.\n",
       "161  there has been an absence of *competent* women...\n",
       "162  there are a lot of female employees, but most ...\n",
       "163                                                nan\n",
       "\n",
       "[164 rows x 1 columns]"
      ]
     },
     "execution_count": 5,
     "metadata": {},
     "output_type": "execute_result"
    }
   ],
   "source": [
    "data.apply(lambda x: x.astype(str).str.lower())#change all characters in lowercase"
   ]
  },
  {
   "cell_type": "code",
   "execution_count": 6,
   "metadata": {},
   "outputs": [
    {
     "data": {
      "application/vnd.jupyter.widget-view+json": {
       "model_id": "fa575fc637144102a12f6dd9545c66ea",
       "version_major": 2,
       "version_minor": 0
      },
      "text/plain": [
       "HBox(children=(IntProgress(value=1, bar_style='info', max=1), HTML(value='')))"
      ]
     },
     "metadata": {},
     "output_type": "display_data"
    },
    {
     "name": "stderr",
     "output_type": "stream",
     "text": [
      "D:\\anaconda\\lib\\site-packages\\tqdm\\std.py:648: FutureWarning: The Panel class is removed from pandas. Accessing it from the top-level namespace will also be removed in the next version\n",
      "  from pandas import Panel\n"
     ]
    }
   ],
   "source": [
    "\n",
    "from langdetect import detect\n",
    "from tqdm import tqdm_notebook\n",
    "tqdm_notebook().pandas()"
   ]
  },
  {
   "cell_type": "code",
   "execution_count": 7,
   "metadata": {},
   "outputs": [
    {
     "name": "stdout",
     "output_type": "stream",
     "text": [
      "                                              comments\n",
      "0    Unfortunately, I have witnessed a very \"boys c...\n",
      "1    The main area I notice a lack of gender divers...\n",
      "2    I believe that there are efforts from the lowe...\n",
      "3    it's not just about the gender but also divers...\n",
      "4    We need to employ/retain or promote women at t...\n",
      "..                                                 ...\n",
      "159  My perception is the issues are heaviest at th...\n",
      "160                     I'm too new at XXX to comment.\n",
      "161  There has been an absence of *competent* women...\n",
      "162  There are a lot of female employees, but most ...\n",
      "163                                                NaN\n",
      "\n",
      "[164 rows x 1 columns]\n"
     ]
    }
   ],
   "source": [
    "print(data)"
   ]
  },
  {
   "cell_type": "code",
   "execution_count": 8,
   "metadata": {},
   "outputs": [],
   "source": [
    "data = data.dropna().reset_index(drop=True)"
   ]
  },
  {
   "cell_type": "code",
   "execution_count": 9,
   "metadata": {},
   "outputs": [
    {
     "data": {
      "text/html": [
       "<div>\n",
       "<style scoped>\n",
       "    .dataframe tbody tr th:only-of-type {\n",
       "        vertical-align: middle;\n",
       "    }\n",
       "\n",
       "    .dataframe tbody tr th {\n",
       "        vertical-align: top;\n",
       "    }\n",
       "\n",
       "    .dataframe thead th {\n",
       "        text-align: right;\n",
       "    }\n",
       "</style>\n",
       "<table border=\"1\" class=\"dataframe\">\n",
       "  <thead>\n",
       "    <tr style=\"text-align: right;\">\n",
       "      <th></th>\n",
       "      <th>comments</th>\n",
       "    </tr>\n",
       "  </thead>\n",
       "  <tbody>\n",
       "    <tr>\n",
       "      <td>0</td>\n",
       "      <td>Unfortunately, I have witnessed a very \"boys c...</td>\n",
       "    </tr>\n",
       "    <tr>\n",
       "      <td>1</td>\n",
       "      <td>The main area I notice a lack of gender divers...</td>\n",
       "    </tr>\n",
       "    <tr>\n",
       "      <td>2</td>\n",
       "      <td>I believe that there are efforts from the lowe...</td>\n",
       "    </tr>\n",
       "    <tr>\n",
       "      <td>3</td>\n",
       "      <td>it's not just about the gender but also divers...</td>\n",
       "    </tr>\n",
       "    <tr>\n",
       "      <td>4</td>\n",
       "      <td>We need to employ/retain or promote women at t...</td>\n",
       "    </tr>\n",
       "    <tr>\n",
       "      <td>...</td>\n",
       "      <td>...</td>\n",
       "    </tr>\n",
       "    <tr>\n",
       "      <td>158</td>\n",
       "      <td>I have seen so many strong director level wome...</td>\n",
       "    </tr>\n",
       "    <tr>\n",
       "      <td>159</td>\n",
       "      <td>My perception is the issues are heaviest at th...</td>\n",
       "    </tr>\n",
       "    <tr>\n",
       "      <td>160</td>\n",
       "      <td>I'm too new at XXX to comment.</td>\n",
       "    </tr>\n",
       "    <tr>\n",
       "      <td>161</td>\n",
       "      <td>There has been an absence of *competent* women...</td>\n",
       "    </tr>\n",
       "    <tr>\n",
       "      <td>162</td>\n",
       "      <td>There are a lot of female employees, but most ...</td>\n",
       "    </tr>\n",
       "  </tbody>\n",
       "</table>\n",
       "<p>163 rows × 1 columns</p>\n",
       "</div>"
      ],
      "text/plain": [
       "                                              comments\n",
       "0    Unfortunately, I have witnessed a very \"boys c...\n",
       "1    The main area I notice a lack of gender divers...\n",
       "2    I believe that there are efforts from the lowe...\n",
       "3    it's not just about the gender but also divers...\n",
       "4    We need to employ/retain or promote women at t...\n",
       "..                                                 ...\n",
       "158  I have seen so many strong director level wome...\n",
       "159  My perception is the issues are heaviest at th...\n",
       "160                     I'm too new at XXX to comment.\n",
       "161  There has been an absence of *competent* women...\n",
       "162  There are a lot of female employees, but most ...\n",
       "\n",
       "[163 rows x 1 columns]"
      ]
     },
     "execution_count": 9,
     "metadata": {},
     "output_type": "execute_result"
    }
   ],
   "source": [
    "data"
   ]
  },
  {
   "cell_type": "code",
   "execution_count": 10,
   "metadata": {},
   "outputs": [
    {
     "name": "stdout",
     "output_type": "stream",
     "text": [
      "\n"
     ]
    }
   ],
   "source": [
    "#tokenization for the first 3 sentences of the first article\n",
    "from nltk.tokenize import sent_tokenize"
   ]
  },
  {
   "cell_type": "code",
   "execution_count": 11,
   "metadata": {
    "scrolled": true
   },
   "outputs": [
    {
     "data": {
      "application/vnd.jupyter.widget-view+json": {
       "model_id": "c84088c531084da2b33666d08672d472",
       "version_major": 2,
       "version_minor": 0
      },
      "text/plain": [
       "HBox(children=(IntProgress(value=0, max=163), HTML(value='')))"
      ]
     },
     "metadata": {},
     "output_type": "display_data"
    },
    {
     "name": "stdout",
     "output_type": "stream",
     "text": [
      "\n"
     ]
    },
    {
     "data": {
      "text/plain": [
       "['Unfortunately, I have witnessed a very \"boys club\" atmosphere at XXX']"
      ]
     },
     "execution_count": 11,
     "metadata": {},
     "output_type": "execute_result"
    }
   ],
   "source": [
    "\n",
    "data['sentences'] = data.comments.progress_map(sent_tokenize)\n",
    "data['sentences'].head(1).tolist()[0][:3] # Print the first 3 sentences of the 1st article\n"
   ]
  },
  {
   "cell_type": "code",
   "execution_count": 12,
   "metadata": {},
   "outputs": [
    {
     "data": {
      "application/vnd.jupyter.widget-view+json": {
       "model_id": "23814c7f123845d0adacf89391a9c442",
       "version_major": 2,
       "version_minor": 0
      },
      "text/plain": [
       "HBox(children=(IntProgress(value=0, max=163), HTML(value='')))"
      ]
     },
     "metadata": {},
     "output_type": "display_data"
    },
    {
     "name": "stdout",
     "output_type": "stream",
     "text": [
      "\n",
      "[['Unfortunately', ',', 'I', 'have', 'witnessed', 'a', 'very', '``', 'boys', 'club', \"''\", 'atmosphere', 'at', 'XXX']]\n"
     ]
    }
   ],
   "source": [
    "from nltk.tokenize import word_tokenize\n",
    "\n",
    "data['tokens_sentences'] = data['sentences'].progress_map(lambda sentences: [word_tokenize(sentence) for sentence in sentences])\n",
    "print(data['tokens_sentences'].head(1).tolist()[0][:3])"
   ]
  },
  {
   "cell_type": "code",
   "execution_count": 13,
   "metadata": {},
   "outputs": [
    {
     "data": {
      "application/vnd.jupyter.widget-view+json": {
       "model_id": "9a2b4a4d75ff4f98a95d6756dbb4cdd9",
       "version_major": 2,
       "version_minor": 0
      },
      "text/plain": [
       "HBox(children=(IntProgress(value=0, max=163), HTML(value='')))"
      ]
     },
     "metadata": {},
     "output_type": "display_data"
    },
    {
     "name": "stdout",
     "output_type": "stream",
     "text": [
      "\n",
      "[[('Unfortunately', 'RB'), (',', ','), ('I', 'PRP'), ('have', 'VBP'), ('witnessed', 'VBN'), ('a', 'DT'), ('very', 'RB'), ('``', '``'), ('boys', 'NNS'), ('club', 'NN'), (\"''\", \"''\"), ('atmosphere', 'RB'), ('at', 'IN'), ('XXX', 'NN')]]\n"
     ]
    }
   ],
   "source": [
    "#Lemmatizing with POS tagging\n",
    "from nltk import pos_tag\n",
    "data['POS_tokens'] = data['tokens_sentences'].progress_map(lambda tokens_sentences: [pos_tag(tokens) for tokens in tokens_sentences])\n",
    "print(data['POS_tokens'].head(1).tolist()[0][:3])\n"
   ]
  },
  {
   "cell_type": "code",
   "execution_count": 14,
   "metadata": {},
   "outputs": [],
   "source": [
    "# https://stackoverflow.com/a/15590384\n",
    "from nltk.corpus import wordnet\n",
    "\n",
    "def get_wordnet_pos(treebank_tag):\n",
    "\n",
    "    if treebank_tag.startswith('J'):\n",
    "        return wordnet.ADJ\n",
    "    elif treebank_tag.startswith('V'):\n",
    "        return wordnet.VERB\n",
    "    elif treebank_tag.startswith('N'):\n",
    "        return wordnet.NOUN\n",
    "    elif treebank_tag.startswith('R'):\n",
    "        return wordnet.ADV\n",
    "    else:\n",
    "        return ''\n",
    "\n",
    "from nltk.stem.wordnet import WordNetLemmatizer\n",
    "lemmatizer = WordNetLemmatizer()"
   ]
  },
  {
   "cell_type": "code",
   "execution_count": 15,
   "metadata": {
    "scrolled": true
   },
   "outputs": [
    {
     "data": {
      "application/vnd.jupyter.widget-view+json": {
       "model_id": "084c22662d4e49bcab8b7f7f1f0e9603",
       "version_major": 2,
       "version_minor": 0
      },
      "text/plain": [
       "HBox(children=(IntProgress(value=0, max=163), HTML(value='')))"
      ]
     },
     "metadata": {},
     "output_type": "display_data"
    },
    {
     "name": "stdout",
     "output_type": "stream",
     "text": [
      "\n"
     ]
    }
   ],
   "source": [
    "# Lemmatizing each word with its POS tag, in each sentence\n",
    "data['tokens_sentences_lemmatized'] = data['POS_tokens'].progress_map(\n",
    "    lambda list_tokens_POS: [\n",
    "        [\n",
    "            lemmatizer.lemmatize(el[0], get_wordnet_pos(el[1])) \n",
    "            if get_wordnet_pos(el[1]) != '' else el[0] for el in tokens_POS\n",
    "        ] \n",
    "        for tokens_POS in list_tokens_POS\n",
    "    ]\n",
    ")"
   ]
  },
  {
   "cell_type": "code",
   "execution_count": 16,
   "metadata": {
    "scrolled": true
   },
   "outputs": [
    {
     "data": {
      "text/plain": [
       "[['Unfortunately',\n",
       "  ',',\n",
       "  'I',\n",
       "  'have',\n",
       "  'witness',\n",
       "  'a',\n",
       "  'very',\n",
       "  '``',\n",
       "  'boy',\n",
       "  'club',\n",
       "  \"''\",\n",
       "  'atmosphere',\n",
       "  'at',\n",
       "  'XXX']]"
      ]
     },
     "execution_count": 16,
     "metadata": {},
     "output_type": "execute_result"
    }
   ],
   "source": [
    "data['tokens_sentences_lemmatized'].head(1).tolist()[0][:3]"
   ]
  },
  {
   "cell_type": "code",
   "execution_count": 17,
   "metadata": {},
   "outputs": [],
   "source": [
    "\n",
    "from nltk.corpus import stopwords\n",
    "stopwords_verbs = ['say', 'get', 'go', 'know', 'may', 'need', 'like', 'make', 'see', 'want', 'come', 'take', 'use', 'would', 'can']\n",
    "stopwords_other = ['xxx','one', 'mr', 'bbc', 'image', 'getty', 'de', 'en', 'caption', 'also', 'copyright', 'something']\n",
    "my_stopwords = stopwords.words('English') + stopwords_verbs + stopwords_other"
   ]
  },
  {
   "cell_type": "code",
   "execution_count": 18,
   "metadata": {},
   "outputs": [],
   "source": [
    "\n",
    "from itertools import chain # to flatten list of sentences of tokens into list of tokens"
   ]
  },
  {
   "cell_type": "code",
   "execution_count": 19,
   "metadata": {},
   "outputs": [],
   "source": [
    "\n",
    "data['tokens'] = data['tokens_sentences_lemmatized'].map(lambda sentences: list(chain.from_iterable(sentences)))\n",
    "data['tokens'] = data['tokens'].map(lambda tokens: [token.lower() for token in tokens if token.isalpha() \n",
    "                                                    and token.lower() not in my_stopwords and len(token)>1])"
   ]
  },
  {
   "cell_type": "code",
   "execution_count": 20,
   "metadata": {},
   "outputs": [
    {
     "data": {
      "text/plain": [
       "['unfortunately', 'witness', 'boy', 'club', 'atmosphere']"
      ]
     },
     "execution_count": 20,
     "metadata": {},
     "output_type": "execute_result"
    }
   ],
   "source": [
    "\n",
    "data['tokens'].head(1).tolist()[0][:30]"
   ]
  },
  {
   "cell_type": "code",
   "execution_count": 21,
   "metadata": {},
   "outputs": [],
   "source": [
    "#LDA data preparation \n",
    "from gensim.models import Phrases"
   ]
  },
  {
   "cell_type": "code",
   "execution_count": 22,
   "metadata": {},
   "outputs": [],
   "source": [
    "\n",
    "tokens = data['tokens'].tolist()\n",
    "bigram_model = Phrases(tokens)\n",
    "trigram_model = Phrases(bigram_model[tokens], min_count=1)\n",
    "tokens = list(trigram_model[bigram_model[tokens]])"
   ]
  },
  {
   "cell_type": "code",
   "execution_count": 23,
   "metadata": {},
   "outputs": [],
   "source": [
    "#prepare objects for LDA gensim implementation\n",
    "from gensim import corpora\n",
    "dictionary_LDA = corpora.Dictionary(tokens)\n",
    "dictionary_LDA.filter_extremes(no_below=3)\n",
    "corpus = [dictionary_LDA.doc2bow(tok) for tok in tokens]"
   ]
  },
  {
   "cell_type": "code",
   "execution_count": 24,
   "metadata": {},
   "outputs": [],
   "source": [
    "#Running LDA\n",
    "from gensim import models\n",
    "import numpy as np"
   ]
  },
  {
   "cell_type": "code",
   "execution_count": 31,
   "metadata": {},
   "outputs": [
    {
     "name": "stdout",
     "output_type": "stream",
     "text": [
      "Wall time: 339 ms\n"
     ]
    }
   ],
   "source": [
    "np.random.seed(123456)\n",
    "num_topics = 50\n",
    "%time lda_model = models.LdaModel(corpus, num_topics=num_topics, \\\n",
    "                                  id2word=dictionary_LDA, \\\n",
    "                                  passes=4, alpha=[0.01]*num_topics, \\\n",
    "                                  eta=[0.01]*len(dictionary_LDA.keys()))\n"
   ]
  },
  {
   "cell_type": "code",
   "execution_count": 32,
   "metadata": {
    "scrolled": false
   },
   "outputs": [
    {
     "name": "stdout",
     "output_type": "stream",
     "text": [
      "0: 0.081*\"team\" + 0.040*\"focus\" + 0.020*\"equal\" + 0.020*\"every\" + 0.020*\"else\" + 0.020*\"talk\" + 0.020*\"commitment\" + 0.020*\"right\" + 0.020*\"slt\" + 0.020*\"lack\" + 0.020*\"way\" + 0.020*\"technical\" + 0.020*\"time\" + 0.020*\"old\" + 0.020*\"level\" + 0.020*\"gender\" + 0.020*\"address\" + 0.020*\"value\" + 0.020*\"often\" + 0.020*\"put\"\n",
      "\n",
      "1: 0.042*\"company\" + 0.039*\"senior_leadership\" + 0.030*\"gender_diversity\" + 0.029*\"position\" + 0.029*\"think\" + 0.029*\"diversity\" + 0.029*\"job\" + 0.027*\"benefit\" + 0.021*\"level\" + 0.020*\"start\" + 0.020*\"executive_level\" + 0.020*\"director\" + 0.020*\"believe\" + 0.020*\"great\" + 0.020*\"good\" + 0.019*\"move\" + 0.018*\"head\" + 0.018*\"definitely\" + 0.018*\"felt\" + 0.018*\"pretty\"\n",
      "\n",
      "2: 0.171*\"gender\" + 0.119*\"experience\" + 0.112*\"performance\" + 0.088*\"leadership\" + 0.060*\"role\" + 0.060*\"less\" + 0.060*\"discrimination\" + 0.060*\"rather\" + 0.060*\"company\" + 0.060*\"skill\" + 0.001*\"behavior\" + 0.001*\"strong\" + 0.001*\"executive_director\" + 0.001*\"often\" + 0.001*\"little\" + 0.001*\"give\" + 0.001*\"perception\" + 0.001*\"right\" + 0.001*\"others\" + 0.001*\"represent\"\n",
      "\n",
      "3: 0.113*\"gender_diversity\" + 0.075*\"level\" + 0.075*\"lack\" + 0.038*\"ability\" + 0.038*\"represent\" + 0.038*\"slt\" + 0.038*\"sure\" + 0.038*\"create\" + 0.038*\"female\" + 0.038*\"employee\" + 0.038*\"majority\" + 0.038*\"elt\" + 0.038*\"leadership\" + 0.038*\"yet\" + 0.038*\"approach\" + 0.038*\"happy\" + 0.038*\"career_development\" + 0.038*\"many\" + 0.038*\"development\" + 0.038*\"culture\"\n",
      "\n",
      "4: 0.047*\"project\" + 0.037*\"change\" + 0.037*\"within\" + 0.037*\"organization\" + 0.037*\"believe\" + 0.032*\"leadership\" + 0.025*\"best\" + 0.025*\"experience\" + 0.025*\"top\" + 0.025*\"promotion\" + 0.025*\"comment\" + 0.025*\"culture\" + 0.025*\"reason\" + 0.025*\"issue\" + 0.024*\"ability\" + 0.019*\"gender\" + 0.016*\"gender_diversity\" + 0.013*\"even\" + 0.013*\"behavior\" + 0.013*\"significant\"\n",
      "\n",
      "5: 0.044*\"high_level\" + 0.044*\"people\" + 0.044*\"career\" + 0.044*\"men\" + 0.043*\"work\" + 0.043*\"year\" + 0.043*\"experience\" + 0.022*\"female_leader\" + 0.022*\"overall\" + 0.022*\"opportunity\" + 0.022*\"company\" + 0.022*\"leave\" + 0.022*\"almost\" + 0.022*\"problem\" + 0.022*\"respect\" + 0.022*\"note\" + 0.022*\"female\" + 0.022*\"choose\" + 0.022*\"clear\" + 0.022*\"culture\"\n",
      "\n",
      "6: 0.176*\"level\" + 0.127*\"look\" + 0.117*\"leadership\" + 0.068*\"company\" + 0.068*\"female_employee\" + 0.068*\"lot\" + 0.068*\"men\" + 0.068*\"leadership_role\" + 0.068*\"hard\" + 0.001*\"strong\" + 0.001*\"executive_director\" + 0.001*\"behavior\" + 0.001*\"week\" + 0.001*\"right\" + 0.001*\"little\" + 0.001*\"often\" + 0.001*\"control\" + 0.001*\"experience\" + 0.001*\"give\" + 0.001*\"grow\"\n",
      "\n",
      "7: 0.078*\"type\" + 0.078*\"gender_diversity\" + 0.039*\"outside\" + 0.039*\"leave\" + 0.039*\"due\" + 0.039*\"company\" + 0.039*\"director_level\" + 0.039*\"leadership_role\" + 0.039*\"men\" + 0.039*\"actually\" + 0.039*\"address\" + 0.039*\"start\" + 0.039*\"many\" + 0.039*\"focus\" + 0.039*\"let\" + 0.039*\"continue\" + 0.039*\"real\" + 0.039*\"sure\" + 0.039*\"leadership\" + 0.039*\"opportunity\"\n",
      "\n",
      "8: 0.070*\"gender_diversity\" + 0.059*\"company\" + 0.040*\"level\" + 0.039*\"leave\" + 0.036*\"time\" + 0.030*\"female\" + 0.029*\"position\" + 0.029*\"good\" + 0.028*\"slt\" + 0.025*\"executive_level\" + 0.024*\"gender\" + 0.020*\"promote\" + 0.020*\"department\" + 0.020*\"think\" + 0.020*\"us\" + 0.020*\"equal\" + 0.020*\"work\" + 0.020*\"whole\" + 0.020*\"past\" + 0.020*\"many\"\n",
      "\n",
      "9: 0.052*\"seem\" + 0.027*\"company\" + 0.027*\"give\" + 0.027*\"advance\" + 0.027*\"let\" + 0.027*\"way\" + 0.027*\"employee\" + 0.026*\"keep\" + 0.026*\"overall\" + 0.026*\"unconscious_bias\" + 0.026*\"gender\" + 0.026*\"however\" + 0.026*\"role\" + 0.026*\"position\" + 0.026*\"office\" + 0.026*\"career_development\" + 0.026*\"term\" + 0.026*\"visible\" + 0.026*\"senior_leadership\" + 0.026*\"experience\"\n",
      "\n",
      "10: 0.158*\"gender_diversity\" + 0.150*\"issue\" + 0.116*\"find\" + 0.083*\"work\" + 0.063*\"department\" + 0.062*\"within\" + 0.062*\"gender\" + 0.062*\"represent\" + 0.062*\"significant\" + 0.004*\"experience\" + 0.004*\"year\" + 0.003*\"men\" + 0.003*\"advance\" + 0.003*\"visible\" + 0.003*\"leadership_role\" + 0.002*\"role\" + 0.002*\"equal\" + 0.002*\"dishearten\" + 0.002*\"nothing\" + 0.002*\"career\"\n",
      "\n",
      "11: 0.121*\"leadership_position\" + 0.114*\"org\" + 0.061*\"tend\" + 0.061*\"within\" + 0.061*\"area\" + 0.061*\"hr\" + 0.061*\"people\" + 0.061*\"promote\" + 0.061*\"issue\" + 0.061*\"lack\" + 0.061*\"seem\" + 0.061*\"overall\" + 0.001*\"right\" + 0.001*\"little\" + 0.001*\"long\" + 0.001*\"grow\" + 0.001*\"rather\" + 0.001*\"give\" + 0.001*\"gender\" + 0.001*\"experience\"\n",
      "\n",
      "12: 0.068*\"concern\" + 0.067*\"continue\" + 0.067*\"associate\" + 0.067*\"start\" + 0.067*\"leadership\" + 0.067*\"top\" + 0.067*\"less\" + 0.067*\"issue\" + 0.067*\"women\" + 0.067*\"address\" + 0.066*\"support\" + 0.066*\"group\" + 0.003*\"experience\" + 0.003*\"elt\" + 0.002*\"action\" + 0.002*\"however\" + 0.002*\"recently\" + 0.002*\"promote\" + 0.002*\"discrimination\" + 0.002*\"recognize\"\n",
      "\n",
      "13: 0.233*\"action\" + 0.137*\"much\" + 0.137*\"year\" + 0.137*\"diversify\" + 0.001*\"others\" + 0.001*\"grow\" + 0.001*\"gender\" + 0.001*\"fear\" + 0.001*\"additional\" + 0.001*\"right\" + 0.001*\"often\" + 0.001*\"little\" + 0.001*\"give\" + 0.001*\"experience\" + 0.001*\"executive_director\" + 0.001*\"control\" + 0.001*\"behavior\" + 0.001*\"male\" + 0.001*\"strong\" + 0.001*\"perception\"\n",
      "\n",
      "14: 0.060*\"company\" + 0.048*\"diversity\" + 0.036*\"work\" + 0.036*\"hope\" + 0.036*\"approach\" + 0.034*\"leader\" + 0.024*\"issue\" + 0.024*\"experience\" + 0.024*\"commitment\" + 0.024*\"believe\" + 0.024*\"talk_gender_diversity\" + 0.024*\"across\" + 0.024*\"create\" + 0.024*\"promote\" + 0.024*\"low_level\" + 0.018*\"gender_diversity\" + 0.013*\"part\" + 0.013*\"good\" + 0.013*\"always\" + 0.013*\"boy_club\"\n",
      "\n",
      "15: 0.016*\"role\" + 0.014*\"talk\" + 0.014*\"leadership\" + 0.013*\"always\" + 0.012*\"great\" + 0.010*\"best\" + 0.009*\"real\" + 0.008*\"sure\" + 0.008*\"put\" + 0.008*\"career\" + 0.007*\"leadership_role\" + 0.007*\"oppose\" + 0.007*\"workplace\" + 0.007*\"regardless_gender\" + 0.007*\"never\" + 0.007*\"place\" + 0.007*\"feel\" + 0.007*\"speak\" + 0.007*\"vp\" + 0.006*\"perception\"\n",
      "\n",
      "16: 0.166*\"leadership\" + 0.113*\"low_cohort\" + 0.112*\"gender_diversity\" + 0.062*\"send_message\" + 0.062*\"talk_gender_diversity\" + 0.062*\"men\" + 0.062*\"hold\" + 0.062*\"position\" + 0.062*\"lot\" + 0.062*\"high_level\" + 0.003*\"group\" + 0.002*\"support\" + 0.002*\"address\" + 0.002*\"women\" + 0.002*\"issue\" + 0.002*\"less\" + 0.002*\"concern\" + 0.002*\"top\" + 0.002*\"start\" + 0.001*\"associate\"\n",
      "\n",
      "17: 0.066*\"seem\" + 0.045*\"lack\" + 0.044*\"senior_leadership\" + 0.024*\"director_level\" + 0.023*\"position\" + 0.023*\"promote\" + 0.022*\"across\" + 0.022*\"strong\" + 0.022*\"gender_diversity\" + 0.022*\"perception\" + 0.022*\"hr\" + 0.022*\"point\" + 0.022*\"include\" + 0.022*\"high\" + 0.022*\"could\" + 0.022*\"year\" + 0.022*\"company\" + 0.022*\"promotion\" + 0.022*\"balance\" + 0.022*\"advance\"\n",
      "\n",
      "18: 0.092*\"feel\" + 0.046*\"work\" + 0.042*\"male\" + 0.042*\"team\" + 0.038*\"year\" + 0.031*\"time\" + 0.028*\"effort\" + 0.028*\"start\" + 0.028*\"job\" + 0.028*\"diversity\" + 0.028*\"even\" + 0.028*\"company\" + 0.028*\"meeting\" + 0.021*\"lot\" + 0.020*\"elt\" + 0.020*\"part\" + 0.017*\"organization\" + 0.016*\"leave\" + 0.016*\"gender_diversity\" + 0.015*\"level\"\n",
      "\n",
      "19: 0.107*\"job\" + 0.062*\"could\" + 0.061*\"year\" + 0.046*\"work\" + 0.045*\"well\" + 0.031*\"story\" + 0.030*\"travel\" + 0.030*\"culture\" + 0.030*\"life\" + 0.030*\"old\" + 0.016*\"project\" + 0.016*\"part\" + 0.015*\"create\" + 0.015*\"meeting\" + 0.015*\"almost\" + 0.015*\"step\" + 0.015*\"people\" + 0.015*\"effort\" + 0.015*\"top\" + 0.015*\"keep\"\n",
      "\n",
      "20: 0.184*\"leadership\" + 0.100*\"opportunity\" + 0.094*\"level\" + 0.081*\"gender_diversity\" + 0.057*\"first\" + 0.057*\"issue\" + 0.057*\"elt\" + 0.057*\"tend\" + 0.057*\"female\" + 0.057*\"history\" + 0.057*\"leadership_role\" + 0.001*\"grow\" + 0.001*\"gender\" + 0.001*\"experience\" + 0.001*\"fear\" + 0.001*\"male\" + 0.001*\"additional\" + 0.001*\"give\" + 0.001*\"little\" + 0.001*\"right\"\n",
      "\n",
      "21: 0.053*\"men\" + 0.053*\"feel\" + 0.053*\"hold\" + 0.053*\"leadership\" + 0.026*\"hope\" + 0.026*\"seem\" + 0.026*\"number\" + 0.026*\"put\" + 0.026*\"matter\" + 0.026*\"lack\" + 0.026*\"pursue\" + 0.026*\"career\" + 0.026*\"high\" + 0.026*\"help\" + 0.026*\"majority\" + 0.026*\"slt\" + 0.026*\"diversity_issue\" + 0.026*\"position\" + 0.026*\"speak\" + 0.026*\"development\"\n",
      "\n"
     ]
    },
    {
     "name": "stdout",
     "output_type": "stream",
     "text": [
      "22: 0.049*\"comment\" + 0.044*\"gender_diversity\" + 0.033*\"leadership\" + 0.032*\"diversity\" + 0.030*\"think\" + 0.030*\"put\" + 0.024*\"executive\" + 0.022*\"general\" + 0.021*\"work\" + 0.021*\"feel\" + 0.020*\"advance\" + 0.020*\"men\" + 0.020*\"top\" + 0.020*\"next\" + 0.020*\"career\" + 0.020*\"actually\" + 0.020*\"always\" + 0.015*\"especially\" + 0.015*\"due\" + 0.011*\"level\"\n",
      "\n",
      "23: 0.089*\"pretty\" + 0.060*\"feel\" + 0.059*\"day\" + 0.030*\"equal\" + 0.030*\"problem\" + 0.030*\"advance\" + 0.030*\"boys_club\" + 0.030*\"sure\" + 0.030*\"personal\" + 0.030*\"team\" + 0.030*\"hard\" + 0.030*\"gender_diversity\" + 0.030*\"level\" + 0.030*\"however\" + 0.030*\"leader\" + 0.030*\"good\" + 0.030*\"senior_leadership\" + 0.030*\"way\" + 0.030*\"look\" + 0.030*\"often\"\n",
      "\n",
      "24: 0.061*\"men\" + 0.061*\"year\" + 0.058*\"promote\" + 0.058*\"executive_leadership\" + 0.058*\"enough_woman\" + 0.058*\"else\" + 0.053*\"male\" + 0.051*\"senior\" + 0.038*\"leadership\" + 0.031*\"overall\" + 0.031*\"leader\" + 0.031*\"position\" + 0.031*\"lack\" + 0.031*\"initiative\" + 0.031*\"action\" + 0.031*\"sure\" + 0.031*\"less\" + 0.031*\"others\" + 0.031*\"even\" + 0.031*\"low\"\n",
      "\n",
      "25: 0.132*\"slt\" + 0.132*\"many\" + 0.132*\"seem\" + 0.132*\"lot\" + 0.132*\"director\" + 0.001*\"gender\" + 0.001*\"fear\" + 0.001*\"additional\" + 0.001*\"right\" + 0.001*\"often\" + 0.001*\"long\" + 0.001*\"little\" + 0.001*\"give\" + 0.001*\"experience\" + 0.001*\"executive_director\" + 0.001*\"control\" + 0.001*\"behavior\" + 0.001*\"receive\" + 0.001*\"grow\" + 0.001*\"others\"\n",
      "\n",
      "26: 0.397*\"high\" + 0.131*\"organization\" + 0.131*\"leave\" + 0.001*\"gender\" + 0.001*\"certain\" + 0.001*\"grow\" + 0.001*\"fear\" + 0.001*\"additional\" + 0.001*\"right\" + 0.001*\"often\" + 0.001*\"give\" + 0.001*\"perception\" + 0.001*\"experience\" + 0.001*\"executive_director\" + 0.001*\"control\" + 0.001*\"behavior\" + 0.001*\"pursue\" + 0.001*\"others\" + 0.001*\"little\" + 0.001*\"represent\"\n",
      "\n",
      "27: 0.004*\"grow\" + 0.004*\"perception\" + 0.004*\"long\" + 0.004*\"year\" + 0.004*\"gender\" + 0.004*\"fear\" + 0.004*\"additional\" + 0.004*\"right\" + 0.004*\"often\" + 0.004*\"little\" + 0.004*\"give\" + 0.004*\"experience\" + 0.004*\"executive_director\" + 0.004*\"control\" + 0.004*\"behavior\" + 0.004*\"pursue\" + 0.004*\"others\" + 0.004*\"male\" + 0.004*\"strong\" + 0.004*\"certain\"\n",
      "\n",
      "28: 0.087*\"leave\" + 0.058*\"role_model\" + 0.058*\"level\" + 0.058*\"many\" + 0.058*\"female_leader\" + 0.029*\"company\" + 0.029*\"across\" + 0.029*\"employee\" + 0.029*\"career\" + 0.029*\"majority\" + 0.029*\"director_level\" + 0.029*\"place\" + 0.029*\"certain\" + 0.029*\"manager\" + 0.029*\"strong\" + 0.029*\"low\" + 0.029*\"believe\" + 0.029*\"female\" + 0.029*\"hold\" + 0.029*\"week\"\n",
      "\n",
      "29: 0.089*\"feel\" + 0.039*\"many\" + 0.039*\"senior\" + 0.038*\"boys_club\" + 0.036*\"level\" + 0.036*\"gender_diversity\" + 0.034*\"leave\" + 0.020*\"often\" + 0.020*\"long\" + 0.020*\"strong\" + 0.020*\"success\" + 0.020*\"control\" + 0.020*\"people\" + 0.020*\"start\" + 0.020*\"help\" + 0.020*\"could\" + 0.020*\"unconscious_bias\" + 0.020*\"role\" + 0.020*\"sure\" + 0.020*\"action\"\n",
      "\n",
      "30: 0.080*\"still\" + 0.064*\"gender_diversity\" + 0.060*\"top\" + 0.060*\"individual\" + 0.060*\"lack\" + 0.060*\"especially\" + 0.056*\"high_position\" + 0.051*\"improve\" + 0.051*\"commit\" + 0.042*\"hard\" + 0.042*\"priority\" + 0.030*\"low_cohort\" + 0.030*\"senior_leadership\" + 0.030*\"year\" + 0.030*\"us\" + 0.030*\"look\" + 0.030*\"approach\" + 0.030*\"visible\" + 0.030*\"director_level\" + 0.030*\"thing\"\n",
      "\n",
      "31: 0.052*\"give\" + 0.049*\"opportunity\" + 0.034*\"manager\" + 0.034*\"gender_diversity\" + 0.034*\"lot\" + 0.034*\"role\" + 0.034*\"additional\" + 0.034*\"female\" + 0.033*\"start\" + 0.032*\"receive\" + 0.032*\"team\" + 0.032*\"promotion\" + 0.018*\"cohort\" + 0.018*\"year\" + 0.018*\"ready\" + 0.018*\"director\" + 0.018*\"many\" + 0.018*\"men\" + 0.017*\"fear\" + 0.017*\"male\"\n",
      "\n",
      "32: 0.058*\"level\" + 0.056*\"elt\" + 0.038*\"female\" + 0.037*\"happy\" + 0.037*\"feel\" + 0.037*\"include\" + 0.035*\"new\" + 0.022*\"slt\" + 0.019*\"well\" + 0.019*\"gender_diversity\" + 0.019*\"high\" + 0.019*\"good\" + 0.019*\"concern\" + 0.019*\"member\" + 0.019*\"commit\" + 0.019*\"leadership_position\" + 0.019*\"dominate\" + 0.019*\"change\" + 0.019*\"believe\" + 0.019*\"right\"\n",
      "\n",
      "33: 0.062*\"leadership\" + 0.056*\"level\" + 0.043*\"advance\" + 0.043*\"high\" + 0.041*\"question\" + 0.029*\"leave\" + 0.029*\"department\" + 0.029*\"obvious\" + 0.029*\"hr\" + 0.029*\"imbalance\" + 0.029*\"many\" + 0.029*\"lack\" + 0.029*\"role_model\" + 0.017*\"diversity\" + 0.016*\"men\" + 0.015*\"problem\" + 0.015*\"commit\" + 0.015*\"opportunity\" + 0.015*\"cohort\" + 0.015*\"issue\"\n",
      "\n",
      "34: 0.072*\"level\" + 0.048*\"seem\" + 0.048*\"male\" + 0.048*\"opportunity\" + 0.048*\"however\" + 0.048*\"executive_leadership_level\" + 0.024*\"whether\" + 0.024*\"still\" + 0.024*\"position\" + 0.024*\"keep\" + 0.024*\"overall\" + 0.024*\"big\" + 0.024*\"female\" + 0.024*\"top\" + 0.024*\"leadership\" + 0.024*\"little\" + 0.024*\"quickly\" + 0.024*\"diversity\" + 0.024*\"area\" + 0.024*\"less\"\n",
      "\n",
      "35: 0.059*\"gender_diversity\" + 0.036*\"across\" + 0.028*\"problem\" + 0.028*\"experience\" + 0.027*\"promote\" + 0.025*\"cohort\" + 0.023*\"everyone\" + 0.021*\"level\" + 0.019*\"low\" + 0.019*\"treatment\" + 0.019*\"lack\" + 0.019*\"action\" + 0.019*\"elt\" + 0.019*\"many\" + 0.019*\"director\" + 0.018*\"outside\" + 0.018*\"manager\" + 0.018*\"move\" + 0.017*\"well\" + 0.017*\"behavior\"\n",
      "\n",
      "36: 0.248*\"team\" + 0.247*\"believe\" + 0.140*\"others\" + 0.001*\"strong\" + 0.001*\"gender\" + 0.001*\"fear\" + 0.001*\"additional\" + 0.001*\"right\" + 0.001*\"often\" + 0.001*\"little\" + 0.001*\"experience\" + 0.001*\"represent\" + 0.001*\"executive_director\" + 0.001*\"control\" + 0.001*\"behavior\" + 0.001*\"pursue\" + 0.001*\"long\" + 0.001*\"grow\" + 0.001*\"give\" + 0.001*\"certain\"\n",
      "\n",
      "37: 0.004*\"grow\" + 0.004*\"perception\" + 0.004*\"long\" + 0.004*\"year\" + 0.004*\"gender\" + 0.004*\"fear\" + 0.004*\"additional\" + 0.004*\"right\" + 0.004*\"often\" + 0.004*\"little\" + 0.004*\"give\" + 0.004*\"experience\" + 0.004*\"executive_director\" + 0.004*\"control\" + 0.004*\"behavior\" + 0.004*\"pursue\" + 0.004*\"others\" + 0.004*\"male\" + 0.004*\"strong\" + 0.004*\"certain\"\n",
      "\n",
      "38: 0.077*\"oocto\" + 0.041*\"executive_leadership_level\" + 0.041*\"high_level\" + 0.041*\"across\" + 0.041*\"people\" + 0.041*\"men\" + 0.041*\"senior_leadership\" + 0.041*\"company\" + 0.041*\"seem\" + 0.041*\"control\" + 0.041*\"issue\" + 0.041*\"talent\" + 0.041*\"promote\" + 0.041*\"history\" + 0.041*\"promotion\" + 0.041*\"look\" + 0.041*\"enough\" + 0.041*\"recognize\" + 0.041*\"equal\" + 0.041*\"perception\"\n",
      "\n",
      "39: 0.085*\"leadership\" + 0.055*\"role\" + 0.051*\"talk\" + 0.035*\"issue\" + 0.032*\"focus\" + 0.025*\"right\" + 0.023*\"action\" + 0.022*\"feel\" + 0.021*\"gender\" + 0.021*\"fill\" + 0.021*\"place\" + 0.021*\"real\" + 0.021*\"great\" + 0.021*\"hire\" + 0.021*\"always\" + 0.021*\"perception\" + 0.020*\"shift\" + 0.020*\"senior_leadership_role\" + 0.020*\"way\" + 0.020*\"never\"\n",
      "\n",
      "40: 0.172*\"director_level\" + 0.143*\"diversity\" + 0.113*\"white_men\" + 0.060*\"shift\" + 0.060*\"feel\" + 0.060*\"towards\" + 0.060*\"think\" + 0.060*\"start\" + 0.060*\"company\" + 0.060*\"balance\" + 0.001*\"gender\" + 0.001*\"additional\" + 0.001*\"little\" + 0.001*\"often\" + 0.001*\"give\" + 0.001*\"experience\" + 0.001*\"executive_director\" + 0.001*\"control\" + 0.001*\"right\" + 0.001*\"fear\"\n",
      "\n",
      "41: 0.059*\"men\" + 0.053*\"often\" + 0.048*\"team\" + 0.048*\"culture\" + 0.045*\"within\" + 0.045*\"send_message\" + 0.045*\"receive\" + 0.032*\"feel\" + 0.031*\"leadership\" + 0.029*\"company\" + 0.026*\"gender_diversity\" + 0.024*\"women\" + 0.024*\"many\" + 0.024*\"respect\" + 0.024*\"organization\" + 0.024*\"white_men\" + 0.024*\"happen\" + 0.024*\"leadership_position\" + 0.024*\"time\" + 0.024*\"tend\"\n",
      "\n",
      "42: 0.038*\"men\" + 0.038*\"think\" + 0.037*\"seem\" + 0.036*\"boy_club\" + 0.029*\"company\" + 0.020*\"promote\" + 0.019*\"work\" + 0.019*\"long\" + 0.019*\"change\" + 0.019*\"hard\" + 0.019*\"promotion\" + 0.019*\"real\" + 0.019*\"lack\" + 0.019*\"thing\" + 0.019*\"matter\" + 0.019*\"support\" + 0.019*\"evaluate\" + 0.019*\"fact\" + 0.019*\"yet\" + 0.019*\"much\"\n",
      "\n",
      "43: 0.151*\"level\" + 0.136*\"general\" + 0.062*\"leadership\" + 0.055*\"reason\" + 0.055*\"promote\" + 0.055*\"note\" + 0.055*\"men\" + 0.055*\"within\" + 0.055*\"slt\" + 0.055*\"employee\" + 0.055*\"departure\" + 0.055*\"concern\" + 0.003*\"start\" + 0.002*\"well\" + 0.002*\"ability\" + 0.002*\"technical\" + 0.002*\"quickly\" + 0.002*\"program\" + 0.002*\"talent\" + 0.002*\"female\"\n",
      "\n"
     ]
    },
    {
     "name": "stdout",
     "output_type": "stream",
     "text": [
      "44: 0.113*\"leadership\" + 0.081*\"example\" + 0.079*\"gender_diversity\" + 0.053*\"executive_leadership\" + 0.047*\"feel\" + 0.031*\"clear\" + 0.031*\"elt\" + 0.031*\"unconscious_bias\" + 0.031*\"number\" + 0.031*\"year\" + 0.031*\"concern\" + 0.031*\"significant\" + 0.031*\"improve\" + 0.031*\"departure\" + 0.031*\"level\" + 0.031*\"discuss\" + 0.031*\"instead\" + 0.031*\"little\" + 0.031*\"initiative\" + 0.031*\"hr\"\n",
      "\n",
      "45: 0.067*\"good\" + 0.067*\"matter\" + 0.067*\"slt\" + 0.066*\"leadership\" + 0.065*\"hear\" + 0.065*\"develop\" + 0.065*\"skill\" + 0.065*\"many\" + 0.065*\"grow\" + 0.065*\"promote\" + 0.064*\"lack\" + 0.064*\"position\" + 0.006*\"senior_leadership_role\" + 0.006*\"shift\" + 0.004*\"much\" + 0.004*\"ca\" + 0.004*\"issue\" + 0.004*\"critical\" + 0.003*\"diversity_issue\" + 0.003*\"team\"\n",
      "\n",
      "46: 0.069*\"leadership\" + 0.050*\"change\" + 0.041*\"men\" + 0.035*\"nothing\" + 0.035*\"manager\" + 0.035*\"point\" + 0.035*\"part\" + 0.030*\"employee\" + 0.027*\"group\" + 0.027*\"much\" + 0.026*\"hard\" + 0.026*\"priority\" + 0.023*\"opportunity\" + 0.020*\"company\" + 0.020*\"work\" + 0.019*\"gender_diversity\" + 0.018*\"role_model\" + 0.018*\"lack\" + 0.018*\"time\" + 0.018*\"director\"\n",
      "\n",
      "47: 0.099*\"year\" + 0.083*\"female\" + 0.083*\"talent\" + 0.083*\"lack\" + 0.083*\"cohort\" + 0.083*\"due\" + 0.083*\"great\" + 0.025*\"job\" + 0.011*\"work\" + 0.011*\"could\" + 0.009*\"old\" + 0.008*\"life\" + 0.008*\"travel\" + 0.008*\"culture\" + 0.007*\"story\" + 0.006*\"well\" + 0.005*\"new\" + 0.005*\"talk\" + 0.005*\"try\" + 0.005*\"head\"\n",
      "\n",
      "48: 0.107*\"role\" + 0.075*\"long\" + 0.071*\"leave\" + 0.058*\"time\" + 0.048*\"work\" + 0.038*\"best\" + 0.038*\"life\" + 0.038*\"felt\" + 0.031*\"opportunity\" + 0.029*\"level\" + 0.026*\"right\" + 0.024*\"company\" + 0.023*\"gender_diversity\" + 0.020*\"quickly\" + 0.020*\"little\" + 0.020*\"executive_director\" + 0.019*\"matter\" + 0.019*\"top\" + 0.019*\"whether\" + 0.019*\"evaluate\"\n",
      "\n",
      "49: 0.004*\"grow\" + 0.004*\"perception\" + 0.004*\"long\" + 0.004*\"year\" + 0.004*\"gender\" + 0.004*\"fear\" + 0.004*\"additional\" + 0.004*\"right\" + 0.004*\"often\" + 0.004*\"little\" + 0.004*\"give\" + 0.004*\"experience\" + 0.004*\"executive_director\" + 0.004*\"control\" + 0.004*\"behavior\" + 0.004*\"pursue\" + 0.004*\"others\" + 0.004*\"male\" + 0.004*\"strong\" + 0.004*\"certain\"\n",
      "\n"
     ]
    }
   ],
   "source": [
    "#SOME OUTCOME OF LDA\n",
    "for i,topic in lda_model.show_topics(formatted=True, num_topics=num_topics, num_words=20):\n",
    "    print(str(i)+\": \"+ topic)\n",
    "    print()"
   ]
  },
  {
   "cell_type": "code",
   "execution_count": 33,
   "metadata": {
    "scrolled": false
   },
   "outputs": [
    {
     "name": "stdout",
     "output_type": "stream",
     "text": [
      "Unfortunately, I have witnessed a very \"boys club\" atmosphere at XXX\n"
     ]
    }
   ],
   "source": [
    "print(data.comments.loc[0][:200])"
   ]
  },
  {
   "cell_type": "code",
   "execution_count": 34,
   "metadata": {},
   "outputs": [
    {
     "data": {
      "text/plain": [
       "[(43, 0.96370363)]"
      ]
     },
     "execution_count": 34,
     "metadata": {},
     "output_type": "execute_result"
    }
   ],
   "source": [
    "lda_model[corpus[4]]"
   ]
  },
  {
   "cell_type": "code",
   "execution_count": 35,
   "metadata": {},
   "outputs": [
    {
     "data": {
      "text/html": [
       "<div>\n",
       "<style scoped>\n",
       "    .dataframe tbody tr th:only-of-type {\n",
       "        vertical-align: middle;\n",
       "    }\n",
       "\n",
       "    .dataframe tbody tr th {\n",
       "        vertical-align: top;\n",
       "    }\n",
       "\n",
       "    .dataframe thead th {\n",
       "        text-align: right;\n",
       "    }\n",
       "</style>\n",
       "<table border=\"1\" class=\"dataframe\">\n",
       "  <thead>\n",
       "    <tr style=\"text-align: right;\">\n",
       "      <th></th>\n",
       "      <th>topic #</th>\n",
       "      <th>weight</th>\n",
       "      <th>words in topic</th>\n",
       "    </tr>\n",
       "  </thead>\n",
       "  <tbody>\n",
       "    <tr>\n",
       "      <td>0</td>\n",
       "      <td>6</td>\n",
       "      <td>0.6</td>\n",
       "      <td>0.176*\"level\" + 0.127*\"look\" + 0.117*\"leadersh...</td>\n",
       "    </tr>\n",
       "    <tr>\n",
       "      <td>1</td>\n",
       "      <td>24</td>\n",
       "      <td>0.3</td>\n",
       "      <td>0.061*\"men\" + 0.061*\"year\" + 0.058*\"promote\" +...</td>\n",
       "    </tr>\n",
       "  </tbody>\n",
       "</table>\n",
       "</div>"
      ],
      "text/plain": [
       "   topic #  weight                                     words in topic\n",
       "0        6     0.6  0.176*\"level\" + 0.127*\"look\" + 0.117*\"leadersh...\n",
       "1       24     0.3  0.061*\"men\" + 0.061*\"year\" + 0.058*\"promote\" +..."
      ]
     },
     "execution_count": 35,
     "metadata": {},
     "output_type": "execute_result"
    }
   ],
   "source": [
    "#predicting topics\n",
    "document = '''I see a lot of Women in low to mid level positions while I see more men in management and upper management.  '''\n",
    "tokens = word_tokenize(document)\n",
    "topics = lda_model.show_topics(formatted=True, num_topics=num_topics, num_words=20)\n",
    "pd.DataFrame([(el[0], round(el[1],2), topics[el[0]][1]) for el in lda_model[dictionary_LDA.doc2bow(tokens)]], columns=['topic #', 'weight', 'words in topic'])"
   ]
  },
  {
   "cell_type": "code",
   "execution_count": null,
   "metadata": {},
   "outputs": [],
   "source": []
  }
 ],
 "metadata": {
  "kernelspec": {
   "display_name": "Python 3",
   "language": "python",
   "name": "python3"
  },
  "language_info": {
   "codemirror_mode": {
    "name": "ipython",
    "version": 3
   },
   "file_extension": ".py",
   "mimetype": "text/x-python",
   "name": "python",
   "nbconvert_exporter": "python",
   "pygments_lexer": "ipython3",
   "version": "3.7.4"
  }
 },
 "nbformat": 4,
 "nbformat_minor": 2
}
